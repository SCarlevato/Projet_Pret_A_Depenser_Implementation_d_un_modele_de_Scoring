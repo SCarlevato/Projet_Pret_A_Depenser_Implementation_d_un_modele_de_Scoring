{
 "cells": [
  {
   "cell_type": "markdown",
   "id": "4610a4fc",
   "metadata": {},
   "source": [
    "# PREAMBULE :"
   ]
  },
  {
   "cell_type": "markdown",
   "id": "046fdf71",
   "metadata": {},
   "source": [
    "# INSTALLATIONS RECURRENTES :"
   ]
  },
  {
   "cell_type": "markdown",
   "id": "85324a4c",
   "metadata": {},
   "source": [
    "# Installation IMBLEARN :"
   ]
  },
  {
   "cell_type": "code",
   "execution_count": 1,
   "id": "66396208",
   "metadata": {},
   "outputs": [
    {
     "name": "stdout",
     "output_type": "stream",
     "text": [
      "Requirement already satisfied: imbalanced-learn in ./opt/anaconda3/lib/python3.9/site-packages (0.9.1)\n",
      "Requirement already satisfied: scipy>=1.3.2 in ./opt/anaconda3/lib/python3.9/site-packages (from imbalanced-learn) (1.7.3)\n",
      "Requirement already satisfied: scikit-learn>=1.1.0 in ./opt/anaconda3/lib/python3.9/site-packages (from imbalanced-learn) (1.1.2)\n",
      "Requirement already satisfied: numpy>=1.17.3 in ./opt/anaconda3/lib/python3.9/site-packages (from imbalanced-learn) (1.21.5)\n",
      "Requirement already satisfied: joblib>=1.0.0 in ./opt/anaconda3/lib/python3.9/site-packages (from imbalanced-learn) (1.1.0)\n",
      "Requirement already satisfied: threadpoolctl>=2.0.0 in ./opt/anaconda3/lib/python3.9/site-packages (from imbalanced-learn) (2.2.0)\n",
      "Note: you may need to restart the kernel to use updated packages.\n"
     ]
    }
   ],
   "source": [
    "pip install imbalanced-learn"
   ]
  },
  {
   "cell_type": "markdown",
   "id": "67a50ef0",
   "metadata": {},
   "source": [
    "# Installation PANDAS :"
   ]
  },
  {
   "cell_type": "code",
   "execution_count": 2,
   "id": "f1ccaa24",
   "metadata": {},
   "outputs": [
    {
     "name": "stdout",
     "output_type": "stream",
     "text": [
      "Requirement already satisfied: pandas in ./opt/anaconda3/lib/python3.9/site-packages (1.4.2)\n",
      "Requirement already satisfied: python-dateutil>=2.8.1 in ./opt/anaconda3/lib/python3.9/site-packages (from pandas) (2.8.2)\n",
      "Requirement already satisfied: pytz>=2020.1 in ./opt/anaconda3/lib/python3.9/site-packages (from pandas) (2021.3)\n",
      "Requirement already satisfied: numpy>=1.18.5 in ./opt/anaconda3/lib/python3.9/site-packages (from pandas) (1.21.5)\n",
      "Requirement already satisfied: six>=1.5 in ./opt/anaconda3/lib/python3.9/site-packages (from python-dateutil>=2.8.1->pandas) (1.16.0)\n",
      "Note: you may need to restart the kernel to use updated packages.\n"
     ]
    }
   ],
   "source": [
    "pip install pandas"
   ]
  },
  {
   "cell_type": "markdown",
   "id": "a2dec52a",
   "metadata": {},
   "source": [
    "# Installation SCIKIT LEARN :"
   ]
  },
  {
   "cell_type": "code",
   "execution_count": 3,
   "id": "aae4e54c",
   "metadata": {},
   "outputs": [
    {
     "name": "stdout",
     "output_type": "stream",
     "text": [
      "Requirement already satisfied: scikit-learn in ./opt/anaconda3/lib/python3.9/site-packages (1.1.2)\n",
      "Requirement already satisfied: threadpoolctl>=2.0.0 in ./opt/anaconda3/lib/python3.9/site-packages (from scikit-learn) (2.2.0)\n",
      "Requirement already satisfied: scipy>=1.3.2 in ./opt/anaconda3/lib/python3.9/site-packages (from scikit-learn) (1.7.3)\n",
      "Requirement already satisfied: joblib>=1.0.0 in ./opt/anaconda3/lib/python3.9/site-packages (from scikit-learn) (1.1.0)\n",
      "Requirement already satisfied: numpy>=1.17.3 in ./opt/anaconda3/lib/python3.9/site-packages (from scikit-learn) (1.21.5)\n",
      "Note: you may need to restart the kernel to use updated packages.\n"
     ]
    }
   ],
   "source": [
    "pip install scikit-learn"
   ]
  },
  {
   "cell_type": "markdown",
   "id": "cada175c",
   "metadata": {},
   "source": [
    "# Installation SEABORN :"
   ]
  },
  {
   "cell_type": "code",
   "execution_count": 4,
   "id": "f9135fc6",
   "metadata": {},
   "outputs": [
    {
     "name": "stdout",
     "output_type": "stream",
     "text": [
      "Requirement already satisfied: seaborn in ./opt/anaconda3/lib/python3.9/site-packages (0.11.2)\n",
      "Requirement already satisfied: numpy>=1.15 in ./opt/anaconda3/lib/python3.9/site-packages (from seaborn) (1.21.5)\n",
      "Requirement already satisfied: pandas>=0.23 in ./opt/anaconda3/lib/python3.9/site-packages (from seaborn) (1.4.2)\n",
      "Requirement already satisfied: matplotlib>=2.2 in ./opt/anaconda3/lib/python3.9/site-packages (from seaborn) (3.5.1)\n",
      "Requirement already satisfied: scipy>=1.0 in ./opt/anaconda3/lib/python3.9/site-packages (from seaborn) (1.7.3)\n",
      "Requirement already satisfied: pyparsing>=2.2.1 in ./opt/anaconda3/lib/python3.9/site-packages (from matplotlib>=2.2->seaborn) (3.0.4)\n",
      "Requirement already satisfied: kiwisolver>=1.0.1 in ./opt/anaconda3/lib/python3.9/site-packages (from matplotlib>=2.2->seaborn) (1.3.2)\n",
      "Requirement already satisfied: pillow>=6.2.0 in ./opt/anaconda3/lib/python3.9/site-packages (from matplotlib>=2.2->seaborn) (9.0.1)\n",
      "Requirement already satisfied: fonttools>=4.22.0 in ./opt/anaconda3/lib/python3.9/site-packages (from matplotlib>=2.2->seaborn) (4.25.0)\n",
      "Requirement already satisfied: python-dateutil>=2.7 in ./opt/anaconda3/lib/python3.9/site-packages (from matplotlib>=2.2->seaborn) (2.8.2)\n",
      "Requirement already satisfied: packaging>=20.0 in ./opt/anaconda3/lib/python3.9/site-packages (from matplotlib>=2.2->seaborn) (21.3)\n",
      "Requirement already satisfied: cycler>=0.10 in ./opt/anaconda3/lib/python3.9/site-packages (from matplotlib>=2.2->seaborn) (0.11.0)\n",
      "Requirement already satisfied: pytz>=2020.1 in ./opt/anaconda3/lib/python3.9/site-packages (from pandas>=0.23->seaborn) (2021.3)\n",
      "Requirement already satisfied: six>=1.5 in ./opt/anaconda3/lib/python3.9/site-packages (from python-dateutil>=2.7->matplotlib>=2.2->seaborn) (1.16.0)\n",
      "Note: you may need to restart the kernel to use updated packages.\n"
     ]
    }
   ],
   "source": [
    "pip install seaborn"
   ]
  },
  {
   "cell_type": "markdown",
   "id": "966e5df1",
   "metadata": {},
   "source": [
    "# Installation SHAP :"
   ]
  },
  {
   "cell_type": "code",
   "execution_count": 5,
   "id": "a7c88480",
   "metadata": {},
   "outputs": [
    {
     "name": "stdout",
     "output_type": "stream",
     "text": [
      "Requirement already satisfied: shap in ./opt/anaconda3/lib/python3.9/site-packages (0.41.0)\n",
      "Requirement already satisfied: scikit-learn in ./opt/anaconda3/lib/python3.9/site-packages (from shap) (1.1.2)\n",
      "Requirement already satisfied: cloudpickle in ./opt/anaconda3/lib/python3.9/site-packages (from shap) (2.0.0)\n",
      "Requirement already satisfied: slicer==0.0.7 in ./opt/anaconda3/lib/python3.9/site-packages (from shap) (0.0.7)\n",
      "Requirement already satisfied: pandas in ./opt/anaconda3/lib/python3.9/site-packages (from shap) (1.4.2)\n",
      "Requirement already satisfied: numpy in ./opt/anaconda3/lib/python3.9/site-packages (from shap) (1.21.5)\n",
      "Requirement already satisfied: numba in ./opt/anaconda3/lib/python3.9/site-packages (from shap) (0.55.1)\n",
      "Requirement already satisfied: tqdm>4.25.0 in ./opt/anaconda3/lib/python3.9/site-packages (from shap) (4.64.0)\n",
      "Requirement already satisfied: packaging>20.9 in ./opt/anaconda3/lib/python3.9/site-packages (from shap) (21.3)\n",
      "Requirement already satisfied: scipy in ./opt/anaconda3/lib/python3.9/site-packages (from shap) (1.7.3)\n",
      "Requirement already satisfied: pyparsing!=3.0.5,>=2.0.2 in ./opt/anaconda3/lib/python3.9/site-packages (from packaging>20.9->shap) (3.0.4)\n",
      "Requirement already satisfied: llvmlite<0.39,>=0.38.0rc1 in ./opt/anaconda3/lib/python3.9/site-packages (from numba->shap) (0.38.0)\n",
      "Requirement already satisfied: setuptools in ./opt/anaconda3/lib/python3.9/site-packages (from numba->shap) (61.2.0)\n",
      "Requirement already satisfied: python-dateutil>=2.8.1 in ./opt/anaconda3/lib/python3.9/site-packages (from pandas->shap) (2.8.2)\n",
      "Requirement already satisfied: pytz>=2020.1 in ./opt/anaconda3/lib/python3.9/site-packages (from pandas->shap) (2021.3)\n",
      "Requirement already satisfied: six>=1.5 in ./opt/anaconda3/lib/python3.9/site-packages (from python-dateutil>=2.8.1->pandas->shap) (1.16.0)\n",
      "Requirement already satisfied: threadpoolctl>=2.0.0 in ./opt/anaconda3/lib/python3.9/site-packages (from scikit-learn->shap) (2.2.0)\n",
      "Requirement already satisfied: joblib>=1.0.0 in ./opt/anaconda3/lib/python3.9/site-packages (from scikit-learn->shap) (1.1.0)\n",
      "Note: you may need to restart the kernel to use updated packages.\n"
     ]
    }
   ],
   "source": [
    "pip install shap"
   ]
  },
  {
   "cell_type": "markdown",
   "id": "0cc14aaa",
   "metadata": {},
   "source": [
    "# IMPORTATION BIBLIOTHEQUES :"
   ]
  },
  {
   "cell_type": "code",
   "execution_count": 6,
   "id": "d0af62bb",
   "metadata": {},
   "outputs": [],
   "source": [
    "# Importation des Bibliothèques :\n",
    "\n",
    "import matplotlib.colors \n",
    "import seaborn as sns\n",
    "import matplotlib.pyplot as plt\n",
    "import numpy as np\n",
    "import scipy.stats as st\n",
    "import os\n",
    "import warnings\n",
    "import numpy as np\n",
    "import pandas as pd\n",
    "import matplotlib as mpl\n",
    "import matplotlib.pyplot as plt\n",
    "import seaborn as sns\n",
    "import plotly.graph_objs as go\n",
    "import numpy as np\n",
    "import pandas as pd\n",
    "import matplotlib.pyplot as plt\n",
    "import seaborn as sns\n",
    "import pickle\n",
    "import time\n",
    "from sklearn import cluster, metrics\n",
    "from sklearn import manifold, decomposition\n",
    "import logging\n",
    "from plotly.offline import download_plotlyjs, init_notebook_mode, iplot\n",
    "from time import time\n",
    "from math import pi\n",
    "from sklearn.preprocessing import StandardScaler, MinMaxScaler\n",
    "from sklearn import model_selection\n",
    "from sklearn.compose import ColumnTransformer, make_column_transformer\n",
    "from sklearn.pipeline import Pipeline, make_pipeline\n",
    "from sklearn.decomposition import PCA\n",
    "from sklearn.metrics import homogeneity_score, adjusted_rand_score, adjusted_mutual_info_score\n",
    "from sklearn.cluster import KMeans\n",
    "from sklearn.cluster import MeanShift, estimate_bandwidth\n",
    "from sklearn.preprocessing import OneHotEncoder, StandardScaler\n",
    "from sklearn.decomposition import PCA\n",
    "from sklearn.manifold import TSNE\n",
    "from sklearn.cluster import KMeans\n",
    "from sklearn.cluster import DBSCAN\n",
    "from sklearn.cluster import AgglomerativeClustering\n",
    "from sklearn.metrics import davies_bouldin_score\n",
    "from sklearn.metrics import silhouette_score\n",
    "from sklearn.preprocessing import StandardScaler, MinMaxScaler\n",
    "from sklearn.compose import ColumnTransformer, make_column_transformer\n",
    "from sklearn.pipeline import Pipeline, make_pipeline\n",
    "from sklearn.decomposition import PCA\n",
    "from sklearn.metrics import homogeneity_score, adjusted_rand_score, adjusted_mutual_info_score\n",
    "from sklearn.cluster import KMeans\n",
    "from sklearn.cluster import MeanShift, estimate_bandwidth\n",
    "from sklearn.model_selection import train_test_split, StratifiedKFold\n",
    "from imblearn.over_sampling import SMOTE\n",
    "from sklearn.metrics import accuracy_score, roc_auc_score, f1_score, precision_score, recall_score \n",
    "from sklearn.metrics import classification_report, confusion_matrix, roc_curve\n",
    "from imblearn.pipeline import make_pipeline, Pipeline\n",
    "from sklearn.model_selection import cross_val_predict, cross_val_score, learning_curve, cross_validate\n",
    "from sklearn.feature_selection import RFECV"
   ]
  },
  {
   "cell_type": "markdown",
   "id": "09ed631b",
   "metadata": {},
   "source": [
    "# I LECTURE ET SPLIT DES DATASETS ENCODEES ET STANDARDISEES :"
   ]
  },
  {
   "cell_type": "markdown",
   "id": "552bad07",
   "metadata": {},
   "source": [
    "# A- LECTURE :"
   ]
  },
  {
   "cell_type": "markdown",
   "id": "373ba376",
   "metadata": {},
   "source": [
    "Nos données sont scindées en 3 datasets :\n",
    "    \n",
    "- Train\n",
    "\n",
    "- Test\n",
    "\n",
    "- Target"
   ]
  },
  {
   "cell_type": "code",
   "execution_count": 7,
   "id": "50fa6a0d",
   "metadata": {},
   "outputs": [
    {
     "data": {
      "text/html": [
       "<div>\n",
       "<style scoped>\n",
       "    .dataframe tbody tr th:only-of-type {\n",
       "        vertical-align: middle;\n",
       "    }\n",
       "\n",
       "    .dataframe tbody tr th {\n",
       "        vertical-align: top;\n",
       "    }\n",
       "\n",
       "    .dataframe thead th {\n",
       "        text-align: right;\n",
       "    }\n",
       "</style>\n",
       "<table border=\"1\" class=\"dataframe\">\n",
       "  <thead>\n",
       "    <tr style=\"text-align: right;\">\n",
       "      <th></th>\n",
       "      <th>CNT_CHILDREN</th>\n",
       "      <th>AMT_INCOME_TOTAL</th>\n",
       "      <th>AMT_CREDIT</th>\n",
       "      <th>AMT_ANNUITY</th>\n",
       "      <th>AMT_GOODS_PRICE</th>\n",
       "      <th>REGION_POPULATION_RELATIVE</th>\n",
       "      <th>DAYS_BIRTH</th>\n",
       "      <th>DAYS_EMPLOYED</th>\n",
       "      <th>DAYS_REGISTRATION</th>\n",
       "      <th>DAYS_ID_PUBLISH</th>\n",
       "      <th>...</th>\n",
       "      <th>HOUSETYPE_MODE_terraced house</th>\n",
       "      <th>WALLSMATERIAL_MODE_Block</th>\n",
       "      <th>WALLSMATERIAL_MODE_Mixed</th>\n",
       "      <th>WALLSMATERIAL_MODE_Monolithic</th>\n",
       "      <th>WALLSMATERIAL_MODE_Others</th>\n",
       "      <th>WALLSMATERIAL_MODE_Panel</th>\n",
       "      <th>WALLSMATERIAL_MODE_Stone, brick</th>\n",
       "      <th>WALLSMATERIAL_MODE_Wooden</th>\n",
       "      <th>EMERGENCYSTATE_MODE_No</th>\n",
       "      <th>EMERGENCYSTATE_MODE_Yes</th>\n",
       "    </tr>\n",
       "    <tr>\n",
       "      <th>SK_ID_CURR</th>\n",
       "      <th></th>\n",
       "      <th></th>\n",
       "      <th></th>\n",
       "      <th></th>\n",
       "      <th></th>\n",
       "      <th></th>\n",
       "      <th></th>\n",
       "      <th></th>\n",
       "      <th></th>\n",
       "      <th></th>\n",
       "      <th></th>\n",
       "      <th></th>\n",
       "      <th></th>\n",
       "      <th></th>\n",
       "      <th></th>\n",
       "      <th></th>\n",
       "      <th></th>\n",
       "      <th></th>\n",
       "      <th></th>\n",
       "      <th></th>\n",
       "      <th></th>\n",
       "    </tr>\n",
       "  </thead>\n",
       "  <tbody>\n",
       "    <tr>\n",
       "      <th>100002</th>\n",
       "      <td>0.0</td>\n",
       "      <td>0.615</td>\n",
       "      <td>-0.198521</td>\n",
       "      <td>-0.011205</td>\n",
       "      <td>-0.224490</td>\n",
       "      <td>-0.002626</td>\n",
       "      <td>0.865181</td>\n",
       "      <td>0.553366</td>\n",
       "      <td>0.156504</td>\n",
       "      <td>0.439705</td>\n",
       "      <td>...</td>\n",
       "      <td>0.0</td>\n",
       "      <td>0.0</td>\n",
       "      <td>0.0</td>\n",
       "      <td>0.0</td>\n",
       "      <td>0.0</td>\n",
       "      <td>0.0</td>\n",
       "      <td>1.0</td>\n",
       "      <td>0.0</td>\n",
       "      <td>0.0</td>\n",
       "      <td>0.0</td>\n",
       "    </tr>\n",
       "    <tr>\n",
       "      <th>100003</th>\n",
       "      <td>0.0</td>\n",
       "      <td>1.365</td>\n",
       "      <td>1.448012</td>\n",
       "      <td>0.597361</td>\n",
       "      <td>1.540816</td>\n",
       "      <td>-0.820550</td>\n",
       "      <td>-0.139634</td>\n",
       "      <td>0.251779</td>\n",
       "      <td>0.606637</td>\n",
       "      <td>1.148895</td>\n",
       "      <td>...</td>\n",
       "      <td>0.0</td>\n",
       "      <td>1.0</td>\n",
       "      <td>0.0</td>\n",
       "      <td>0.0</td>\n",
       "      <td>0.0</td>\n",
       "      <td>0.0</td>\n",
       "      <td>0.0</td>\n",
       "      <td>0.0</td>\n",
       "      <td>0.0</td>\n",
       "      <td>0.0</td>\n",
       "    </tr>\n",
       "    <tr>\n",
       "      <th>100004</th>\n",
       "      <td>0.0</td>\n",
       "      <td>-0.885</td>\n",
       "      <td>-0.702740</td>\n",
       "      <td>-1.004482</td>\n",
       "      <td>-0.714286</td>\n",
       "      <td>-0.472638</td>\n",
       "      <td>-0.453432</td>\n",
       "      <td>0.778872</td>\n",
       "      <td>0.044611</td>\n",
       "      <td>0.280341</td>\n",
       "      <td>...</td>\n",
       "      <td>0.0</td>\n",
       "      <td>0.0</td>\n",
       "      <td>0.0</td>\n",
       "      <td>0.0</td>\n",
       "      <td>0.0</td>\n",
       "      <td>0.0</td>\n",
       "      <td>0.0</td>\n",
       "      <td>0.0</td>\n",
       "      <td>-1.0</td>\n",
       "      <td>0.0</td>\n",
       "    </tr>\n",
       "    <tr>\n",
       "      <th>100006</th>\n",
       "      <td>0.0</td>\n",
       "      <td>-0.135</td>\n",
       "      <td>-0.372874</td>\n",
       "      <td>0.264691</td>\n",
       "      <td>-0.346939</td>\n",
       "      <td>-0.580533</td>\n",
       "      <td>-0.447792</td>\n",
       "      <td>-0.761357</td>\n",
       "      <td>-0.974312</td>\n",
       "      <td>0.316789</td>\n",
       "      <td>...</td>\n",
       "      <td>0.0</td>\n",
       "      <td>0.0</td>\n",
       "      <td>0.0</td>\n",
       "      <td>0.0</td>\n",
       "      <td>0.0</td>\n",
       "      <td>0.0</td>\n",
       "      <td>0.0</td>\n",
       "      <td>0.0</td>\n",
       "      <td>-1.0</td>\n",
       "      <td>0.0</td>\n",
       "    </tr>\n",
       "    <tr>\n",
       "      <th>100007</th>\n",
       "      <td>0.0</td>\n",
       "      <td>-0.285</td>\n",
       "      <td>-0.000986</td>\n",
       "      <td>-0.168078</td>\n",
       "      <td>0.142857</td>\n",
       "      <td>0.525969</td>\n",
       "      <td>-0.575320</td>\n",
       "      <td>-0.760810</td>\n",
       "      <td>0.035287</td>\n",
       "      <td>-0.079100</td>\n",
       "      <td>...</td>\n",
       "      <td>0.0</td>\n",
       "      <td>0.0</td>\n",
       "      <td>0.0</td>\n",
       "      <td>0.0</td>\n",
       "      <td>0.0</td>\n",
       "      <td>0.0</td>\n",
       "      <td>0.0</td>\n",
       "      <td>0.0</td>\n",
       "      <td>-1.0</td>\n",
       "      <td>0.0</td>\n",
       "    </tr>\n",
       "  </tbody>\n",
       "</table>\n",
       "<p>5 rows × 312 columns</p>\n",
       "</div>"
      ],
      "text/plain": [
       "            CNT_CHILDREN  AMT_INCOME_TOTAL  AMT_CREDIT  AMT_ANNUITY  \\\n",
       "SK_ID_CURR                                                            \n",
       "100002               0.0             0.615   -0.198521    -0.011205   \n",
       "100003               0.0             1.365    1.448012     0.597361   \n",
       "100004               0.0            -0.885   -0.702740    -1.004482   \n",
       "100006               0.0            -0.135   -0.372874     0.264691   \n",
       "100007               0.0            -0.285   -0.000986    -0.168078   \n",
       "\n",
       "            AMT_GOODS_PRICE  REGION_POPULATION_RELATIVE  DAYS_BIRTH  \\\n",
       "SK_ID_CURR                                                            \n",
       "100002            -0.224490                   -0.002626    0.865181   \n",
       "100003             1.540816                   -0.820550   -0.139634   \n",
       "100004            -0.714286                   -0.472638   -0.453432   \n",
       "100006            -0.346939                   -0.580533   -0.447792   \n",
       "100007             0.142857                    0.525969   -0.575320   \n",
       "\n",
       "            DAYS_EMPLOYED  DAYS_REGISTRATION  DAYS_ID_PUBLISH  ...  \\\n",
       "SK_ID_CURR                                                     ...   \n",
       "100002           0.553366           0.156504         0.439705  ...   \n",
       "100003           0.251779           0.606637         1.148895  ...   \n",
       "100004           0.778872           0.044611         0.280341  ...   \n",
       "100006          -0.761357          -0.974312         0.316789  ...   \n",
       "100007          -0.760810           0.035287        -0.079100  ...   \n",
       "\n",
       "            HOUSETYPE_MODE_terraced house  WALLSMATERIAL_MODE_Block  \\\n",
       "SK_ID_CURR                                                            \n",
       "100002                                0.0                       0.0   \n",
       "100003                                0.0                       1.0   \n",
       "100004                                0.0                       0.0   \n",
       "100006                                0.0                       0.0   \n",
       "100007                                0.0                       0.0   \n",
       "\n",
       "            WALLSMATERIAL_MODE_Mixed  WALLSMATERIAL_MODE_Monolithic  \\\n",
       "SK_ID_CURR                                                            \n",
       "100002                           0.0                            0.0   \n",
       "100003                           0.0                            0.0   \n",
       "100004                           0.0                            0.0   \n",
       "100006                           0.0                            0.0   \n",
       "100007                           0.0                            0.0   \n",
       "\n",
       "            WALLSMATERIAL_MODE_Others  WALLSMATERIAL_MODE_Panel  \\\n",
       "SK_ID_CURR                                                        \n",
       "100002                            0.0                       0.0   \n",
       "100003                            0.0                       0.0   \n",
       "100004                            0.0                       0.0   \n",
       "100006                            0.0                       0.0   \n",
       "100007                            0.0                       0.0   \n",
       "\n",
       "            WALLSMATERIAL_MODE_Stone, brick  WALLSMATERIAL_MODE_Wooden  \\\n",
       "SK_ID_CURR                                                               \n",
       "100002                                  1.0                        0.0   \n",
       "100003                                  0.0                        0.0   \n",
       "100004                                  0.0                        0.0   \n",
       "100006                                  0.0                        0.0   \n",
       "100007                                  0.0                        0.0   \n",
       "\n",
       "            EMERGENCYSTATE_MODE_No  EMERGENCYSTATE_MODE_Yes  \n",
       "SK_ID_CURR                                                   \n",
       "100002                         0.0                      0.0  \n",
       "100003                         0.0                      0.0  \n",
       "100004                        -1.0                      0.0  \n",
       "100006                        -1.0                      0.0  \n",
       "100007                        -1.0                      0.0  \n",
       "\n",
       "[5 rows x 312 columns]"
      ]
     },
     "execution_count": 7,
     "metadata": {},
     "output_type": "execute_result"
    }
   ],
   "source": [
    "# Lecture du Dataset Principal :\n",
    "\n",
    "data_train_final_feat_eng_preprocessed = pd.read_csv('data_train_final_feat_eng_preprocessed.csv', index_col='SK_ID_CURR', encoding ='utf-8')\n",
    "\n",
    "data_train_final_feat_eng_preprocessed.head()"
   ]
  },
  {
   "cell_type": "code",
   "execution_count": 8,
   "id": "5fe1154a",
   "metadata": {},
   "outputs": [
    {
     "data": {
      "text/html": [
       "<div>\n",
       "<style scoped>\n",
       "    .dataframe tbody tr th:only-of-type {\n",
       "        vertical-align: middle;\n",
       "    }\n",
       "\n",
       "    .dataframe tbody tr th {\n",
       "        vertical-align: top;\n",
       "    }\n",
       "\n",
       "    .dataframe thead th {\n",
       "        text-align: right;\n",
       "    }\n",
       "</style>\n",
       "<table border=\"1\" class=\"dataframe\">\n",
       "  <thead>\n",
       "    <tr style=\"text-align: right;\">\n",
       "      <th></th>\n",
       "      <th>CNT_CHILDREN</th>\n",
       "      <th>AMT_INCOME_TOTAL</th>\n",
       "      <th>AMT_CREDIT</th>\n",
       "      <th>AMT_ANNUITY</th>\n",
       "      <th>AMT_GOODS_PRICE</th>\n",
       "      <th>REGION_POPULATION_RELATIVE</th>\n",
       "      <th>DAYS_BIRTH</th>\n",
       "      <th>DAYS_EMPLOYED</th>\n",
       "      <th>DAYS_REGISTRATION</th>\n",
       "      <th>DAYS_ID_PUBLISH</th>\n",
       "      <th>...</th>\n",
       "      <th>HOUSETYPE_MODE_terraced house</th>\n",
       "      <th>WALLSMATERIAL_MODE_Block</th>\n",
       "      <th>WALLSMATERIAL_MODE_Mixed</th>\n",
       "      <th>WALLSMATERIAL_MODE_Monolithic</th>\n",
       "      <th>WALLSMATERIAL_MODE_Others</th>\n",
       "      <th>WALLSMATERIAL_MODE_Panel</th>\n",
       "      <th>WALLSMATERIAL_MODE_Stone, brick</th>\n",
       "      <th>WALLSMATERIAL_MODE_Wooden</th>\n",
       "      <th>EMERGENCYSTATE_MODE_No</th>\n",
       "      <th>EMERGENCYSTATE_MODE_Yes</th>\n",
       "    </tr>\n",
       "    <tr>\n",
       "      <th>SK_ID_CURR</th>\n",
       "      <th></th>\n",
       "      <th></th>\n",
       "      <th></th>\n",
       "      <th></th>\n",
       "      <th></th>\n",
       "      <th></th>\n",
       "      <th></th>\n",
       "      <th></th>\n",
       "      <th></th>\n",
       "      <th></th>\n",
       "      <th></th>\n",
       "      <th></th>\n",
       "      <th></th>\n",
       "      <th></th>\n",
       "      <th></th>\n",
       "      <th></th>\n",
       "      <th></th>\n",
       "      <th></th>\n",
       "      <th></th>\n",
       "      <th></th>\n",
       "      <th></th>\n",
       "    </tr>\n",
       "  </thead>\n",
       "  <tbody>\n",
       "    <tr>\n",
       "      <th>100001</th>\n",
       "      <td>0.0</td>\n",
       "      <td>-0.20</td>\n",
       "      <td>0.286707</td>\n",
       "      <td>-0.290382</td>\n",
       "      <td>0.133333</td>\n",
       "      <td>0.000000</td>\n",
       "      <td>-0.483966</td>\n",
       "      <td>-0.302900</td>\n",
       "      <td>-0.122341</td>\n",
       "      <td>0.883297</td>\n",
       "      <td>...</td>\n",
       "      <td>0.0</td>\n",
       "      <td>0.0</td>\n",
       "      <td>0.0</td>\n",
       "      <td>0.0</td>\n",
       "      <td>0.0</td>\n",
       "      <td>0.0</td>\n",
       "      <td>1.0</td>\n",
       "      <td>0.0</td>\n",
       "      <td>0.0</td>\n",
       "      <td>0.0</td>\n",
       "    </tr>\n",
       "    <tr>\n",
       "      <th>100005</th>\n",
       "      <td>0.0</td>\n",
       "      <td>-0.52</td>\n",
       "      <td>-0.548393</td>\n",
       "      <td>-0.454693</td>\n",
       "      <td>-0.533333</td>\n",
       "      <td>0.908077</td>\n",
       "      <td>-0.319143</td>\n",
       "      <td>-1.452202</td>\n",
       "      <td>-0.832636</td>\n",
       "      <td>0.587527</td>\n",
       "      <td>...</td>\n",
       "      <td>0.0</td>\n",
       "      <td>0.0</td>\n",
       "      <td>0.0</td>\n",
       "      <td>0.0</td>\n",
       "      <td>0.0</td>\n",
       "      <td>0.0</td>\n",
       "      <td>0.0</td>\n",
       "      <td>0.0</td>\n",
       "      <td>-1.0</td>\n",
       "      <td>0.0</td>\n",
       "    </tr>\n",
       "    <tr>\n",
       "      <th>100013</th>\n",
       "      <td>0.0</td>\n",
       "      <td>0.40</td>\n",
       "      <td>0.514683</td>\n",
       "      <td>2.244264</td>\n",
       "      <td>0.577778</td>\n",
       "      <td>0.013453</td>\n",
       "      <td>-0.595575</td>\n",
       "      <td>-1.446294</td>\n",
       "      <td>0.416498</td>\n",
       "      <td>-0.098104</td>\n",
       "      <td>...</td>\n",
       "      <td>0.0</td>\n",
       "      <td>0.0</td>\n",
       "      <td>0.0</td>\n",
       "      <td>0.0</td>\n",
       "      <td>0.0</td>\n",
       "      <td>0.0</td>\n",
       "      <td>0.0</td>\n",
       "      <td>0.0</td>\n",
       "      <td>-1.0</td>\n",
       "      <td>0.0</td>\n",
       "    </tr>\n",
       "    <tr>\n",
       "      <th>100028</th>\n",
       "      <td>2.0</td>\n",
       "      <td>1.40</td>\n",
       "      <td>2.715030</td>\n",
       "      <td>1.175203</td>\n",
       "      <td>2.911111</td>\n",
       "      <td>0.404245</td>\n",
       "      <td>0.253326</td>\n",
       "      <td>-0.054243</td>\n",
       "      <td>0.447983</td>\n",
       "      <td>-0.355215</td>\n",
       "      <td>...</td>\n",
       "      <td>0.0</td>\n",
       "      <td>0.0</td>\n",
       "      <td>0.0</td>\n",
       "      <td>0.0</td>\n",
       "      <td>0.0</td>\n",
       "      <td>1.0</td>\n",
       "      <td>0.0</td>\n",
       "      <td>0.0</td>\n",
       "      <td>0.0</td>\n",
       "      <td>0.0</td>\n",
       "    </tr>\n",
       "    <tr>\n",
       "      <th>100038</th>\n",
       "      <td>1.0</td>\n",
       "      <td>0.20</td>\n",
       "      <td>0.423545</td>\n",
       "      <td>0.302202</td>\n",
       "      <td>0.566667</td>\n",
       "      <td>-0.472638</td>\n",
       "      <td>0.384400</td>\n",
       "      <td>-0.228786</td>\n",
       "      <td>0.088157</td>\n",
       "      <td>-0.374909</td>\n",
       "      <td>...</td>\n",
       "      <td>0.0</td>\n",
       "      <td>0.0</td>\n",
       "      <td>0.0</td>\n",
       "      <td>0.0</td>\n",
       "      <td>0.0</td>\n",
       "      <td>0.0</td>\n",
       "      <td>0.0</td>\n",
       "      <td>0.0</td>\n",
       "      <td>-1.0</td>\n",
       "      <td>0.0</td>\n",
       "    </tr>\n",
       "  </tbody>\n",
       "</table>\n",
       "<p>5 rows × 312 columns</p>\n",
       "</div>"
      ],
      "text/plain": [
       "            CNT_CHILDREN  AMT_INCOME_TOTAL  AMT_CREDIT  AMT_ANNUITY  \\\n",
       "SK_ID_CURR                                                            \n",
       "100001               0.0             -0.20    0.286707    -0.290382   \n",
       "100005               0.0             -0.52   -0.548393    -0.454693   \n",
       "100013               0.0              0.40    0.514683     2.244264   \n",
       "100028               2.0              1.40    2.715030     1.175203   \n",
       "100038               1.0              0.20    0.423545     0.302202   \n",
       "\n",
       "            AMT_GOODS_PRICE  REGION_POPULATION_RELATIVE  DAYS_BIRTH  \\\n",
       "SK_ID_CURR                                                            \n",
       "100001             0.133333                    0.000000   -0.483966   \n",
       "100005            -0.533333                    0.908077   -0.319143   \n",
       "100013             0.577778                    0.013453   -0.595575   \n",
       "100028             2.911111                    0.404245    0.253326   \n",
       "100038             0.566667                   -0.472638    0.384400   \n",
       "\n",
       "            DAYS_EMPLOYED  DAYS_REGISTRATION  DAYS_ID_PUBLISH  ...  \\\n",
       "SK_ID_CURR                                                     ...   \n",
       "100001          -0.302900          -0.122341         0.883297  ...   \n",
       "100005          -1.452202          -0.832636         0.587527  ...   \n",
       "100013          -1.446294           0.416498        -0.098104  ...   \n",
       "100028          -0.054243           0.447983        -0.355215  ...   \n",
       "100038          -0.228786           0.088157        -0.374909  ...   \n",
       "\n",
       "            HOUSETYPE_MODE_terraced house  WALLSMATERIAL_MODE_Block  \\\n",
       "SK_ID_CURR                                                            \n",
       "100001                                0.0                       0.0   \n",
       "100005                                0.0                       0.0   \n",
       "100013                                0.0                       0.0   \n",
       "100028                                0.0                       0.0   \n",
       "100038                                0.0                       0.0   \n",
       "\n",
       "            WALLSMATERIAL_MODE_Mixed  WALLSMATERIAL_MODE_Monolithic  \\\n",
       "SK_ID_CURR                                                            \n",
       "100001                           0.0                            0.0   \n",
       "100005                           0.0                            0.0   \n",
       "100013                           0.0                            0.0   \n",
       "100028                           0.0                            0.0   \n",
       "100038                           0.0                            0.0   \n",
       "\n",
       "            WALLSMATERIAL_MODE_Others  WALLSMATERIAL_MODE_Panel  \\\n",
       "SK_ID_CURR                                                        \n",
       "100001                            0.0                       0.0   \n",
       "100005                            0.0                       0.0   \n",
       "100013                            0.0                       0.0   \n",
       "100028                            0.0                       1.0   \n",
       "100038                            0.0                       0.0   \n",
       "\n",
       "            WALLSMATERIAL_MODE_Stone, brick  WALLSMATERIAL_MODE_Wooden  \\\n",
       "SK_ID_CURR                                                               \n",
       "100001                                  1.0                        0.0   \n",
       "100005                                  0.0                        0.0   \n",
       "100013                                  0.0                        0.0   \n",
       "100028                                  0.0                        0.0   \n",
       "100038                                  0.0                        0.0   \n",
       "\n",
       "            EMERGENCYSTATE_MODE_No  EMERGENCYSTATE_MODE_Yes  \n",
       "SK_ID_CURR                                                   \n",
       "100001                         0.0                      0.0  \n",
       "100005                        -1.0                      0.0  \n",
       "100013                        -1.0                      0.0  \n",
       "100028                         0.0                      0.0  \n",
       "100038                        -1.0                      0.0  \n",
       "\n",
       "[5 rows x 312 columns]"
      ]
     },
     "execution_count": 8,
     "metadata": {},
     "output_type": "execute_result"
    }
   ],
   "source": [
    "# Lecture du Dataset Principal :\n",
    "\n",
    "data_test_final_feat_eng_preprocessed = pd.read_csv('data_test_final_feat_eng_preprocessed.csv', index_col='SK_ID_CURR', encoding ='utf-8')\n",
    "\n",
    "data_test_final_feat_eng_preprocessed.head()"
   ]
  },
  {
   "cell_type": "markdown",
   "id": "581baf60",
   "metadata": {},
   "source": [
    "# Variable Cible :"
   ]
  },
  {
   "cell_type": "code",
   "execution_count": 9,
   "id": "8f8ae651",
   "metadata": {},
   "outputs": [
    {
     "data": {
      "text/html": [
       "<div>\n",
       "<style scoped>\n",
       "    .dataframe tbody tr th:only-of-type {\n",
       "        vertical-align: middle;\n",
       "    }\n",
       "\n",
       "    .dataframe tbody tr th {\n",
       "        vertical-align: top;\n",
       "    }\n",
       "\n",
       "    .dataframe thead th {\n",
       "        text-align: right;\n",
       "    }\n",
       "</style>\n",
       "<table border=\"1\" class=\"dataframe\">\n",
       "  <thead>\n",
       "    <tr style=\"text-align: right;\">\n",
       "      <th></th>\n",
       "      <th>TARGET</th>\n",
       "    </tr>\n",
       "    <tr>\n",
       "      <th>SK_ID_CURR</th>\n",
       "      <th></th>\n",
       "    </tr>\n",
       "  </thead>\n",
       "  <tbody>\n",
       "    <tr>\n",
       "      <th>100002</th>\n",
       "      <td>1.0</td>\n",
       "    </tr>\n",
       "    <tr>\n",
       "      <th>100003</th>\n",
       "      <td>0.0</td>\n",
       "    </tr>\n",
       "    <tr>\n",
       "      <th>100004</th>\n",
       "      <td>0.0</td>\n",
       "    </tr>\n",
       "    <tr>\n",
       "      <th>100006</th>\n",
       "      <td>0.0</td>\n",
       "    </tr>\n",
       "    <tr>\n",
       "      <th>100007</th>\n",
       "      <td>0.0</td>\n",
       "    </tr>\n",
       "  </tbody>\n",
       "</table>\n",
       "</div>"
      ],
      "text/plain": [
       "            TARGET\n",
       "SK_ID_CURR        \n",
       "100002         1.0\n",
       "100003         0.0\n",
       "100004         0.0\n",
       "100006         0.0\n",
       "100007         0.0"
      ]
     },
     "execution_count": 9,
     "metadata": {},
     "output_type": "execute_result"
    }
   ],
   "source": [
    "# Lecture du Dataset TARGET :\n",
    "\n",
    "TARGET = pd.read_csv('TARGET.csv', index_col='SK_ID_CURR')\n",
    "\n",
    "TARGET.head()"
   ]
  },
  {
   "cell_type": "markdown",
   "id": "07861554",
   "metadata": {},
   "source": [
    "# B- SPLIT : TRAIN 70% - TEST 30 % :"
   ]
  },
  {
   "cell_type": "code",
   "execution_count": 10,
   "id": "58b4f4c1",
   "metadata": {},
   "outputs": [],
   "source": [
    "# Train / Test Split :\n",
    "\n",
    "X_train, X_test, y_train, y_test = train_test_split(data_train_final_feat_eng_preprocessed.values, TARGET.values, test_size=0.3, random_state=42)"
   ]
  },
  {
   "cell_type": "code",
   "execution_count": 11,
   "id": "1a7671a9",
   "metadata": {},
   "outputs": [
    {
     "data": {
      "text/plain": [
       "((215257, 312), (92254, 312), (215257, 1), (92254, 1))"
      ]
     },
     "execution_count": 11,
     "metadata": {},
     "output_type": "execute_result"
    }
   ],
   "source": [
    "# Train / Test Shape :\n",
    "\n",
    "X_train.shape, X_test.shape, y_train.shape, y_test.shape"
   ]
  },
  {
   "cell_type": "code",
   "execution_count": 12,
   "id": "32bc0935",
   "metadata": {},
   "outputs": [],
   "source": [
    "# Sauvegarde :\n",
    "\n",
    "pd.DataFrame(X_train).to_csv('X_train.csv',index=False)\n",
    "\n",
    "pd.DataFrame(X_test).to_csv('X_test.csv',index=False)\n",
    "\n",
    "pd.DataFrame(y_train).to_csv('y_train.csv',index=False)\n",
    "\n",
    "pd.DataFrame(y_test).to_csv('y_test.csv',index=False)"
   ]
  },
  {
   "cell_type": "markdown",
   "id": "5aaf6449",
   "metadata": {},
   "source": [
    "# II MODELISATIONS : "
   ]
  },
  {
   "cell_type": "markdown",
   "id": "066686f6",
   "metadata": {},
   "source": [
    "Le SMOTE, acronyme pour Synthetic Minority Oversampling TEchnique, est une méthode de suréchantillonnage des observations minoritaires."
   ]
  },
  {
   "cell_type": "markdown",
   "id": "4e528a9f",
   "metadata": {},
   "source": [
    "# A- RESAMPLING : OVERSAMPLING : SMOTE :"
   ]
  },
  {
   "cell_type": "markdown",
   "id": "8b08a1b5",
   "metadata": {},
   "source": [
    "On procède à un sur-échantillonnage (oversampling)."
   ]
  },
  {
   "cell_type": "markdown",
   "id": "6cd7c59b",
   "metadata": {},
   "source": [
    "Le nombre d’individus minoritaires est augmenté pour qu’ils aient plus d’importance lors de la modélisation. Le but est de créer des Observations synthétiques.\n",
    "\n",
    "Le nombre de plus proches voisins est au nombre de 5."
   ]
  },
  {
   "cell_type": "code",
   "execution_count": 13,
   "id": "5b375445",
   "metadata": {},
   "outputs": [],
   "source": [
    "# Oversampling SMOTE :\n",
    "\n",
    "from imblearn.over_sampling import SMOTE\n",
    "\n",
    "sm = SMOTE(sampling_strategy='auto', k_neighbors=5,\n",
    "           n_jobs=-1, random_state=14) \n",
    "\n",
    "X_train_oversamp, y_train_oversamp = sm.fit_resample(X_train, y_train)"
   ]
  },
  {
   "cell_type": "code",
   "execution_count": 14,
   "id": "d4d17a0e",
   "metadata": {},
   "outputs": [
    {
     "data": {
      "text/plain": [
       "((395690, 312), (395690,))"
      ]
     },
     "execution_count": 14,
     "metadata": {},
     "output_type": "execute_result"
    }
   ],
   "source": [
    "# Vérification :\n",
    "\n",
    "X_train_oversamp.shape, y_train_oversamp.shape"
   ]
  },
  {
   "cell_type": "code",
   "execution_count": 15,
   "id": "a621ec7e",
   "metadata": {},
   "outputs": [],
   "source": [
    "# Sauvegarde :\n",
    "\n",
    "pd.DataFrame(X_train_oversamp).to_csv('X_train_oversamp.csv',index=False)\n",
    "\n",
    "pd.DataFrame(y_train_oversamp).to_csv('y_train_oversamp.csv',index=False)"
   ]
  },
  {
   "cell_type": "markdown",
   "id": "6c12207b",
   "metadata": {},
   "source": [
    "# B- MODELES DE CLASSIFICATION :"
   ]
  },
  {
   "cell_type": "code",
   "execution_count": 16,
   "id": "b65cb4d7",
   "metadata": {},
   "outputs": [],
   "source": [
    "# Résultats :\n",
    "\n",
    "results = pd.DataFrame({})"
   ]
  },
  {
   "cell_type": "markdown",
   "id": "842eebdd",
   "metadata": {},
   "source": [
    "# 1- SECTEUR BANCAIRE :"
   ]
  },
  {
   "cell_type": "markdown",
   "id": "95e0c64a",
   "metadata": {},
   "source": [
    "La Métrique Métier, dédiée au Secteur Bancaire, consiste à calculer le gain obtenu pour l'ensemble des individus du dataset. On va donc pénaliser le défaut de paiement (avec une pondération importante correspondant aux potentielles pertes en capital) et majorer un remboursement (faible pondération correspondant aux intérêts générés). "
   ]
  },
  {
   "cell_type": "markdown",
   "id": "69f038d5",
   "metadata": {},
   "source": [
    "Pondération Arbitraire :\n",
    "    \n",
    "- fn_valeur = - 2.5\n",
    "- tp_valeur = 0\n",
    "- tn_valeur = 1.5\n",
    "- fp_valeur = - 1"
   ]
  },
  {
   "cell_type": "code",
   "execution_count": 17,
   "id": "b79bef37",
   "metadata": {},
   "outputs": [],
   "source": [
    "# Importation :\n",
    "\n",
    "from sklearn.metrics import make_scorer"
   ]
  },
  {
   "cell_type": "code",
   "execution_count": 18,
   "id": "a466cc86",
   "metadata": {},
   "outputs": [],
   "source": [
    "# Fonction Métrique Bancaire :\n",
    "\n",
    "def score_bancaire(y_true, y_pred, fn_valeur=-2.5, fp_valeur=-1, tp_valeur=0, tn_valeur=1.5):\n",
    "    \n",
    "    cm0 = confusion_matrix(y_true,y_pred)\n",
    "    \n",
    "    tn = cm0[0, 0]\n",
    "    fn = cm0[1, 0]\n",
    "    fp = cm0[0, 1]\n",
    "    tp = cm0[1, 1]\n",
    "    \n",
    "    \n",
    "    Gain_total = tp * tp_valeur + tn * tn_valeur + fp * fp_valeur + fn * fn_valeur\n",
    "    \n",
    "    Gain_maximal = (fp + tn) * tn_valeur + (fn + tp) * tp_valeur\n",
    "    \n",
    "    Gain_minimal = (fp + tn) * fp_valeur + (fn + tp) * fn_valeur\n",
    "    \n",
    "    Gain_normalise = (Gain_total - Gain_minimal)/(Gain_maximal - Gain_minimal)\n",
    "    \n",
    "    return Gain_normalise "
   ]
  },
  {
   "cell_type": "markdown",
   "id": "fb1b8de0",
   "metadata": {},
   "source": [
    "# 2- BASELINE : REGRESSION LOGISTIQUE :"
   ]
  },
  {
   "cell_type": "markdown",
   "id": "8ae2417b",
   "metadata": {},
   "source": [
    "La régression logistique est un modèle statistique permettant d'étudier les relations entre un ensemble de variables qualitatives Xi et une variable qualitative Y. \n",
    "Il s'agit d'un modèle linéaire généralisé utilisant une fonction logistique comme fonction de lien."
   ]
  },
  {
   "cell_type": "markdown",
   "id": "5057f646",
   "metadata": {},
   "source": [
    "# - ENTRAINEMENT DU MODELE :"
   ]
  },
  {
   "cell_type": "code",
   "execution_count": 19,
   "id": "323755ab",
   "metadata": {},
   "outputs": [],
   "source": [
    "# Importation :\n",
    "\n",
    "from sklearn.linear_model import LogisticRegression"
   ]
  },
  {
   "cell_type": "code",
   "execution_count": 20,
   "id": "665f51e6",
   "metadata": {},
   "outputs": [],
   "source": [
    "# Instanciation :\n",
    "\n",
    "logreg = LogisticRegression()"
   ]
  },
  {
   "cell_type": "code",
   "execution_count": 21,
   "id": "c225beb0",
   "metadata": {},
   "outputs": [],
   "source": [
    "# Sauvegarde Modèle :\n",
    "\n",
    "filename = 'classifier_logreg_model.sav'\n",
    "\n",
    "pickle.dump(logreg, open(filename, 'wb'))"
   ]
  },
  {
   "cell_type": "code",
   "execution_count": 22,
   "id": "e274722f",
   "metadata": {},
   "outputs": [
    {
     "name": "stderr",
     "output_type": "stream",
     "text": [
      "/Users/sylvaincarlevato/opt/anaconda3/lib/python3.9/site-packages/sklearn/linear_model/_logistic.py:444: ConvergenceWarning:\n",
      "\n",
      "lbfgs failed to converge (status=1):\n",
      "STOP: TOTAL NO. of ITERATIONS REACHED LIMIT.\n",
      "\n",
      "Increase the number of iterations (max_iter) or scale the data as shown in:\n",
      "    https://scikit-learn.org/stable/modules/preprocessing.html\n",
      "Please also refer to the documentation for alternative solver options:\n",
      "    https://scikit-learn.org/stable/modules/linear_model.html#logistic-regression\n",
      "\n"
     ]
    },
    {
     "data": {
      "text/html": [
       "<style>#sk-container-id-1 {color: black;background-color: white;}#sk-container-id-1 pre{padding: 0;}#sk-container-id-1 div.sk-toggleable {background-color: white;}#sk-container-id-1 label.sk-toggleable__label {cursor: pointer;display: block;width: 100%;margin-bottom: 0;padding: 0.3em;box-sizing: border-box;text-align: center;}#sk-container-id-1 label.sk-toggleable__label-arrow:before {content: \"▸\";float: left;margin-right: 0.25em;color: #696969;}#sk-container-id-1 label.sk-toggleable__label-arrow:hover:before {color: black;}#sk-container-id-1 div.sk-estimator:hover label.sk-toggleable__label-arrow:before {color: black;}#sk-container-id-1 div.sk-toggleable__content {max-height: 0;max-width: 0;overflow: hidden;text-align: left;background-color: #f0f8ff;}#sk-container-id-1 div.sk-toggleable__content pre {margin: 0.2em;color: black;border-radius: 0.25em;background-color: #f0f8ff;}#sk-container-id-1 input.sk-toggleable__control:checked~div.sk-toggleable__content {max-height: 200px;max-width: 100%;overflow: auto;}#sk-container-id-1 input.sk-toggleable__control:checked~label.sk-toggleable__label-arrow:before {content: \"▾\";}#sk-container-id-1 div.sk-estimator input.sk-toggleable__control:checked~label.sk-toggleable__label {background-color: #d4ebff;}#sk-container-id-1 div.sk-label input.sk-toggleable__control:checked~label.sk-toggleable__label {background-color: #d4ebff;}#sk-container-id-1 input.sk-hidden--visually {border: 0;clip: rect(1px 1px 1px 1px);clip: rect(1px, 1px, 1px, 1px);height: 1px;margin: -1px;overflow: hidden;padding: 0;position: absolute;width: 1px;}#sk-container-id-1 div.sk-estimator {font-family: monospace;background-color: #f0f8ff;border: 1px dotted black;border-radius: 0.25em;box-sizing: border-box;margin-bottom: 0.5em;}#sk-container-id-1 div.sk-estimator:hover {background-color: #d4ebff;}#sk-container-id-1 div.sk-parallel-item::after {content: \"\";width: 100%;border-bottom: 1px solid gray;flex-grow: 1;}#sk-container-id-1 div.sk-label:hover label.sk-toggleable__label {background-color: #d4ebff;}#sk-container-id-1 div.sk-serial::before {content: \"\";position: absolute;border-left: 1px solid gray;box-sizing: border-box;top: 0;bottom: 0;left: 50%;z-index: 0;}#sk-container-id-1 div.sk-serial {display: flex;flex-direction: column;align-items: center;background-color: white;padding-right: 0.2em;padding-left: 0.2em;position: relative;}#sk-container-id-1 div.sk-item {position: relative;z-index: 1;}#sk-container-id-1 div.sk-parallel {display: flex;align-items: stretch;justify-content: center;background-color: white;position: relative;}#sk-container-id-1 div.sk-item::before, #sk-container-id-1 div.sk-parallel-item::before {content: \"\";position: absolute;border-left: 1px solid gray;box-sizing: border-box;top: 0;bottom: 0;left: 50%;z-index: -1;}#sk-container-id-1 div.sk-parallel-item {display: flex;flex-direction: column;z-index: 1;position: relative;background-color: white;}#sk-container-id-1 div.sk-parallel-item:first-child::after {align-self: flex-end;width: 50%;}#sk-container-id-1 div.sk-parallel-item:last-child::after {align-self: flex-start;width: 50%;}#sk-container-id-1 div.sk-parallel-item:only-child::after {width: 0;}#sk-container-id-1 div.sk-dashed-wrapped {border: 1px dashed gray;margin: 0 0.4em 0.5em 0.4em;box-sizing: border-box;padding-bottom: 0.4em;background-color: white;}#sk-container-id-1 div.sk-label label {font-family: monospace;font-weight: bold;display: inline-block;line-height: 1.2em;}#sk-container-id-1 div.sk-label-container {text-align: center;}#sk-container-id-1 div.sk-container {/* jupyter's `normalize.less` sets `[hidden] { display: none; }` but bootstrap.min.css set `[hidden] { display: none !important; }` so we also need the `!important` here to be able to override the default hidden behavior on the sphinx rendered scikit-learn.org. See: https://github.com/scikit-learn/scikit-learn/issues/21755 */display: inline-block !important;position: relative;}#sk-container-id-1 div.sk-text-repr-fallback {display: none;}</style><div id=\"sk-container-id-1\" class=\"sk-top-container\"><div class=\"sk-text-repr-fallback\"><pre>LogisticRegression()</pre><b>In a Jupyter environment, please rerun this cell to show the HTML representation or trust the notebook. <br />On GitHub, the HTML representation is unable to render, please try loading this page with nbviewer.org.</b></div><div class=\"sk-container\" hidden><div class=\"sk-item\"><div class=\"sk-estimator sk-toggleable\"><input class=\"sk-toggleable__control sk-hidden--visually\" id=\"sk-estimator-id-1\" type=\"checkbox\" checked><label for=\"sk-estimator-id-1\" class=\"sk-toggleable__label sk-toggleable__label-arrow\">LogisticRegression</label><div class=\"sk-toggleable__content\"><pre>LogisticRegression()</pre></div></div></div></div></div>"
      ],
      "text/plain": [
       "LogisticRegression()"
      ]
     },
     "execution_count": 22,
     "metadata": {},
     "output_type": "execute_result"
    }
   ],
   "source": [
    "# Fit Modèle :\n",
    "\n",
    "logreg.fit(X_train_oversamp, y_train_oversamp)"
   ]
  },
  {
   "cell_type": "markdown",
   "id": "87baae57",
   "metadata": {},
   "source": [
    "# - RESULTATS DE PREDICTION :"
   ]
  },
  {
   "cell_type": "code",
   "execution_count": 23,
   "id": "a534331a",
   "metadata": {},
   "outputs": [
    {
     "data": {
      "text/plain": [
       "array([0., 0., 0., ..., 1., 0., 0.])"
      ]
     },
     "execution_count": 23,
     "metadata": {},
     "output_type": "execute_result"
    }
   ],
   "source": [
    "# Prédiction :\n",
    "\n",
    "y_pred_test1 = logreg.predict(X_test)\n",
    "\n",
    "y_pred_test1"
   ]
  },
  {
   "cell_type": "markdown",
   "id": "b5fbe01d",
   "metadata": {},
   "source": [
    "# - MATRICE DE CONFUSION :"
   ]
  },
  {
   "cell_type": "markdown",
   "id": "84b32427",
   "metadata": {},
   "source": [
    "Une matrice de confusion est un outil permettant de résumer les performances d'un algorithme de classification. Une matrice de confusion nous donnera une image claire des performances du modèle de classification et des types d'erreurs produites par le modèle. Il nous donne un résumé des prédictions correctes et incorrectes ventilées par chaque catégorie. \n",
    "\n",
    "Le résumé est représenté sous forme de tableau.\n",
    "\n",
    "Quatre types de résultats sont possibles lors de l'évaluation des performances d'un modèle de classification. \n",
    "\n",
    "Ces quatre résultats sont décrits ci-dessous : \n",
    "\n",
    "- Vrais positifs (TP) : Les vrais positifs se produisent lorsque nous prédisons qu'une observation appartient à une certaine classe et que l'observation appartient réellement à cette classe.\n",
    "\n",
    "- Vrais négatifs (TN) : Les vrais négatifs se produisent lorsque nous prédisons qu'une observation n'appartient pas à une certaine classe et que l'observation n'appartient pas à cette classe.\n",
    "\n",
    "- Faux positifs (FP) : Les faux positifs se produisent lorsque nous prédisons qu'une observation appartient à une certaine classe, mais que l'observation n'appartient pas à cette classe. Ce type d'erreur est appelé erreur de type I.\n",
    "\n",
    "- Faux négatifs (FN) : Les faux négatifs se produisent lorsque nous prédisons qu'une observation n'appartient pas à une certaine classe, mais que l'observation appartient à cette classe. Il s'agit d'une erreur très grave appelée erreur de type II."
   ]
  },
  {
   "cell_type": "code",
   "execution_count": 24,
   "id": "86a952a0",
   "metadata": {},
   "outputs": [
    {
     "name": "stdout",
     "output_type": "stream",
     "text": [
      "Confusion matrix\n",
      "\n",
      " [[44511 40330]\n",
      " [ 3148  4265]]\n",
      "\n",
      "True Positives(TP) =  44511\n",
      "\n",
      "True Negatives(TN) =  4265\n",
      "\n",
      "False Positives(FP) =  40330\n",
      "\n",
      "False Negatives(FN) =  3148\n"
     ]
    }
   ],
   "source": [
    "# Matrice de Confusion :\n",
    "\n",
    "from sklearn.metrics import confusion_matrix\n",
    "\n",
    "cm1 = confusion_matrix(y_test, y_pred_test1)\n",
    "\n",
    "print('Confusion matrix\\n\\n', cm1)\n",
    "\n",
    "print('\\nTrue Positives(TP) = ', cm1[0,0])\n",
    "\n",
    "print('\\nTrue Negatives(TN) = ', cm1[1,1])\n",
    "\n",
    "print('\\nFalse Positives(FP) = ', cm1[0,1])\n",
    "\n",
    "print('\\nFalse Negatives(FN) = ', cm1[1,0])"
   ]
  },
  {
   "cell_type": "code",
   "execution_count": 25,
   "id": "119c8cb9",
   "metadata": {},
   "outputs": [
    {
     "data": {
      "image/png": "[encoded data removed]",
      "text/plain": [
       "<Figure size 864x720 with 2 Axes>"
      ]
     },
     "metadata": {
      "needs_background": "light"
     },
     "output_type": "display_data"
    }
   ],
   "source": [
    "# Plot :\n",
    "\n",
    "plt.figure(figsize = (12, 10))\n",
    "\n",
    "group_names = ['True Pos','False Pos','False Neg','True Neg']\n",
    "\n",
    "group_counts = [\"{0:0.0f}\".format(value) for value in\n",
    "                cm1.flatten()]\n",
    "\n",
    "group_percentages = [\"{0:.2%}\".format(value) for value in\n",
    "                     cm1.flatten()/np.sum(cm1)]\n",
    "\n",
    "labels = [f\"{v1}\\n{v2}\\n{v3}\" for v1, v2, v3 in\n",
    "          zip(group_names,group_counts,group_percentages)]\n",
    "\n",
    "labels = np.asarray(labels).reshape(2,2)\n",
    "\n",
    "ax = sns.heatmap(cm1, annot=labels, fmt='', cmap='Blues')\n",
    "\n",
    "ax.set_title('Seaborn Matrice de Confusion avec Labels\\n\\n');\n",
    "ax.set_xlabel('\\nValeurs Prédites')\n",
    "ax.set_ylabel('Valeurs Actuelles');\n",
    "\n",
    "plt.show()"
   ]
  },
  {
   "cell_type": "markdown",
   "id": "1219cdc7",
   "metadata": {},
   "source": [
    "# Interprétations :"
   ]
  },
  {
   "cell_type": "markdown",
   "id": "5acff647",
   "metadata": {},
   "source": [
    "- Les résultats par Régression Logistique, mis sous forme de matrice de confusion, sont peu satisfaisants.\n",
    "- En effet, la classification en FP et FN compte un grand nombre de données. \n",
    "- Les erreurs de Type I et de Type II sont donc élevées.\n",
    "- Ce type de modélisation est donc peu recommandé."
   ]
  },
  {
   "cell_type": "markdown",
   "id": "2262ca4c",
   "metadata": {},
   "source": [
    "# - RAPPORT DE CLASSIFICATION :"
   ]
  },
  {
   "cell_type": "code",
   "execution_count": 26,
   "id": "c1215f5c",
   "metadata": {},
   "outputs": [
    {
     "name": "stdout",
     "output_type": "stream",
     "text": [
      "              precision    recall  f1-score   support\n",
      "\n",
      "         0.0       0.93      0.52      0.67     84841\n",
      "         1.0       0.10      0.58      0.16      7413\n",
      "\n",
      "    accuracy                           0.53     92254\n",
      "   macro avg       0.51      0.55      0.42     92254\n",
      "weighted avg       0.87      0.53      0.63     92254\n",
      "\n"
     ]
    }
   ],
   "source": [
    "# Rapport :\n",
    "\n",
    "from sklearn.metrics import classification_report\n",
    "\n",
    "print(classification_report(y_test, y_pred_test1))"
   ]
  },
  {
   "cell_type": "code",
   "execution_count": 27,
   "id": "9904010f",
   "metadata": {},
   "outputs": [],
   "source": [
    "# \"Classification Accuracy\" :\n",
    "\n",
    "TP = cm1[0,0]\n",
    "TN = cm1[1,1]\n",
    "FP = cm1[0,1]\n",
    "FN = cm1[1,0]"
   ]
  },
  {
   "cell_type": "code",
   "execution_count": 28,
   "id": "2d184a67",
   "metadata": {},
   "outputs": [
    {
     "name": "stdout",
     "output_type": "stream",
     "text": [
      "Classification error : 0.4713\n"
     ]
    }
   ],
   "source": [
    "# Calcul \"Classification Error\" :\n",
    "\n",
    "classification_error = (FP + FN) / float(TP + TN + FP + FN)\n",
    "\n",
    "print('Classification error : {0:0.4f}'.format(classification_error))"
   ]
  },
  {
   "cell_type": "markdown",
   "id": "e6a0c549",
   "metadata": {},
   "source": [
    "# Interprétations :"
   ]
  },
  {
   "cell_type": "markdown",
   "id": "fcb094b5",
   "metadata": {},
   "source": [
    "- L'erreur de classification est très élevée."
   ]
  },
  {
   "cell_type": "markdown",
   "id": "c1c5cd7e",
   "metadata": {},
   "source": [
    "# - PRECISION :"
   ]
  },
  {
   "cell_type": "markdown",
   "id": "85f846cd",
   "metadata": {},
   "source": [
    "La précision peut être définie comme le pourcentage de résultats positifs correctement prédits sur tous les résultats positifs prédits. \n",
    "\n",
    "Il peut être donné comme le rapport des vrais positifs (TP) à la somme des vrais et des faux positifs (TP + FP).\n",
    "\n",
    "Ainsi, la précision identifie la proportion de résultats positifs correctement prédits.  Il s'intéresse plus à la classe positive qu'à la classe négative."
   ]
  },
  {
   "cell_type": "code",
   "execution_count": 29,
   "id": "7728e5c6",
   "metadata": {},
   "outputs": [
    {
     "name": "stdout",
     "output_type": "stream",
     "text": [
      "Precision : 0.5246\n"
     ]
    }
   ],
   "source": [
    "# Calcul \"Precision Score\" :\n",
    "\n",
    "precision1 = TP / float(TP + FP)\n",
    "\n",
    "print('Precision : {0:0.4f}'.format(precision1))"
   ]
  },
  {
   "cell_type": "markdown",
   "id": "e59ac713",
   "metadata": {},
   "source": [
    "# Interprétations :"
   ]
  },
  {
   "cell_type": "markdown",
   "id": "df7d7eb2",
   "metadata": {},
   "source": [
    "- La Précision est également très moyenne. Avec d'autres \"classifiers\", il serait possible de majorer cette Valeur."
   ]
  },
  {
   "cell_type": "markdown",
   "id": "65e4d667",
   "metadata": {},
   "source": [
    "# - RECALL :"
   ]
  },
  {
   "cell_type": "markdown",
   "id": "4f681c62",
   "metadata": {},
   "source": [
    "Recall peut être défini comme le pourcentage de résultats positifs correctement prédits sur tous les résultats positifs réels.  \n",
    "\n",
    "Il peut être donné comme le rapport des vrais positifs (TP) à la somme des vrais positifs et des faux négatifs (TP + FN)."
   ]
  },
  {
   "cell_type": "code",
   "execution_count": 30,
   "id": "52b26f7a",
   "metadata": {},
   "outputs": [
    {
     "name": "stdout",
     "output_type": "stream",
     "text": [
      "Recall or Sensitivity : 0.9339\n"
     ]
    }
   ],
   "source": [
    "# Calcul \"Recall Score\" :\n",
    "\n",
    "recall1 = TP / float(TP + FN)\n",
    "\n",
    "print('Recall or Sensitivity : {0:0.4f}'.format(recall1))"
   ]
  },
  {
   "cell_type": "markdown",
   "id": "f9d0c2bc",
   "metadata": {},
   "source": [
    "# Interprétations :"
   ]
  },
  {
   "cell_type": "markdown",
   "id": "73427e61",
   "metadata": {},
   "source": [
    "- Le résultat est haut, concernant le Recall. La Regression Logistique peut apporter de bons résultats, malgré la faiblesse des résultats obtenus en Négatif."
   ]
  },
  {
   "cell_type": "markdown",
   "id": "5a9fd0de",
   "metadata": {},
   "source": [
    "# - F1 :"
   ]
  },
  {
   "cell_type": "markdown",
   "id": "677f2c23",
   "metadata": {},
   "source": [
    "Le F1-score est une métrique de classification qui mesure la capacité d'un modèle à bien prédire les individus positifs, tant en termes de precision (taux de prédictions positives correctes) qu'en termes de recall (taux de positifs correctement prédits)."
   ]
  },
  {
   "cell_type": "code",
   "execution_count": 31,
   "id": "7a4faadf",
   "metadata": {},
   "outputs": [],
   "source": [
    "# Importation :\n",
    "\n",
    "from sklearn.metrics import f1_score"
   ]
  },
  {
   "cell_type": "code",
   "execution_count": 32,
   "id": "33e9f6db",
   "metadata": {},
   "outputs": [
    {
     "data": {
      "text/plain": [
       "0.6310561763695247"
      ]
     },
     "execution_count": 32,
     "metadata": {},
     "output_type": "execute_result"
    }
   ],
   "source": [
    "# Calcul 'weighted' :\n",
    "\n",
    "f1_logistic_reg = f1_score(y_test, y_pred_test1, average = 'weighted')\n",
    "\n",
    "f1_logistic_reg"
   ]
  },
  {
   "cell_type": "markdown",
   "id": "d8a401ec",
   "metadata": {},
   "source": [
    "# Interprétations :"
   ]
  },
  {
   "cell_type": "markdown",
   "id": "5f900482",
   "metadata": {},
   "source": [
    "Le résultat de F1 est moyen. La Regression Logistique apporte peu de Valeur Ajoutée."
   ]
  },
  {
   "cell_type": "markdown",
   "id": "0f8c250a",
   "metadata": {},
   "source": [
    "# - ROC / AUC :"
   ]
  },
  {
   "cell_type": "markdown",
   "id": "f9b5970a",
   "metadata": {},
   "source": [
    "Un autre outil pour mesurer visuellement les performances du modèle de classification est la courbe ROC.  \n",
    "\n",
    "La Courbe ROC signifie courbe caractéristique de fonctionnement du récepteur.  \n",
    "\n",
    "Une courbe ROC est un graphique qui montre les performances d'un modèle de classification à différents niveaux de seuil de classification.\n",
    "\n",
    "La courbe ROC trace le taux de vrais positifs (TPR) par rapport au taux de faux positifs (FPR) à différents niveaux de seuil.\n",
    "\n",
    "Le taux de vrais positifs (TPR) est également appelé rappel. Il est défini comme le rapport de TP à (TP + FN).\n",
    "\n",
    "Le taux de faux positifs (FPR) est défini comme le rapport entre FP et (FP + TN).\n",
    "\n",
    "Dans la courbe ROC, nous nous concentrerons sur le TPR (True Positive Rate) et le FPR (False Positive Rate) d'un seul point.  \n",
    "\n",
    "Cela nous donnera la performance générale de la courbe ROC qui se compose du TPR et du FPR à différents niveaux de seuil.  \n",
    "\n",
    "Ainsi, une courbe ROC trace TPR vs FPR à différents niveaux de seuil de classification.  \n",
    "\n",
    "Si nous abaissons les niveaux de seuil, il se peut que davantage d'éléments soient classés comme positifs.  \n",
    "\n",
    "Cela augmentera à la fois les vrais positifs (TP) et les faux positifs (FP)."
   ]
  },
  {
   "cell_type": "code",
   "execution_count": 33,
   "id": "7de5cc83",
   "metadata": {},
   "outputs": [],
   "source": [
    "# Importations :\n",
    "\n",
    "from sklearn.datasets import make_classification\n",
    "from sklearn.linear_model import LogisticRegression\n",
    "from sklearn.model_selection import train_test_split\n",
    "from sklearn.metrics import roc_curve\n",
    "from sklearn.metrics import roc_auc_score\n",
    "from matplotlib import pyplot"
   ]
  },
  {
   "cell_type": "code",
   "execution_count": 34,
   "id": "99dd4b40",
   "metadata": {},
   "outputs": [
    {
     "data": {
      "text/plain": [
       "array([[0.50484133, 0.49515867],\n",
       "       [0.55733711, 0.44266289],\n",
       "       [0.50012168, 0.49987832],\n",
       "       ...,\n",
       "       [0.48693983, 0.51306017],\n",
       "       [0.50005965, 0.49994035],\n",
       "       [0.50013257, 0.49986743]])"
      ]
     },
     "execution_count": 34,
     "metadata": {},
     "output_type": "execute_result"
    }
   ],
   "source": [
    "# Prédiction :\n",
    "\n",
    "lr_probs = logreg.predict_proba(X_test)\n",
    "\n",
    "lr_probs"
   ]
  },
  {
   "cell_type": "code",
   "execution_count": 35,
   "id": "7aba6965",
   "metadata": {},
   "outputs": [],
   "source": [
    "# Probabilités :\n",
    "\n",
    "lr_probs = lr_probs[:, 1]"
   ]
  },
  {
   "cell_type": "code",
   "execution_count": 36,
   "id": "aa41a30d",
   "metadata": {},
   "outputs": [
    {
     "name": "stdout",
     "output_type": "stream",
     "text": [
      "No Skill: ROC AUC=0.500\n",
      "Régression Logistique : ROC AUC=0.556\n"
     ]
    }
   ],
   "source": [
    "# Calcul Scores :\n",
    "\n",
    "ns_probs = [0 for _ in range(len(y_test))]\n",
    "\n",
    "ns_auc = roc_auc_score(y_test, ns_probs)\n",
    "\n",
    "lr_auc1 = roc_auc_score(y_test, lr_probs)\n",
    "\n",
    "print('No Skill: ROC AUC=%.3f' % (ns_auc))\n",
    "\n",
    "print('Régression Logistique : ROC AUC=%.3f' % (lr_auc1))"
   ]
  },
  {
   "cell_type": "code",
   "execution_count": 37,
   "id": "c1e4f198",
   "metadata": {},
   "outputs": [],
   "source": [
    "# Calcul ROC Courbes :\n",
    "\n",
    "s_fpr, ns_tpr, _ = roc_curve(y_test, ns_probs)\n",
    "\n",
    "lr_fpr, lr_tpr, _ = roc_curve(y_test, lr_probs)"
   ]
  },
  {
   "cell_type": "code",
   "execution_count": 38,
   "id": "12954861",
   "metadata": {},
   "outputs": [
    {
     "data": {
      "image/png": "[encoded data removed]",
      "text/plain": [
       "<Figure size 864x720 with 1 Axes>"
      ]
     },
     "metadata": {
      "needs_background": "light"
     },
     "output_type": "display_data"
    }
   ],
   "source": [
    "# Plot :\n",
    "\n",
    "plt.figure(figsize = (12, 10))\n",
    "\n",
    "ns_fpr, ns_tpr, _ = roc_curve(y_test, ns_probs)\n",
    "lr_fpr, lr_tpr, _ = roc_curve(y_test, lr_probs)\n",
    "\n",
    "pyplot.plot(ns_fpr, ns_tpr, linestyle='--', label='No Skill')\n",
    "pyplot.plot(lr_fpr, lr_tpr, marker='.', label='Régression Logistique')\n",
    "\n",
    "pyplot.xlabel('Taux Faux Positif')\n",
    "pyplot.ylabel('Taux Vrai Positif')\n",
    "\n",
    "pyplot.legend()\n",
    "\n",
    "pyplot.show()"
   ]
  },
  {
   "cell_type": "markdown",
   "id": "09231e2f",
   "metadata": {},
   "source": [
    "# Interprétations :"
   ]
  },
  {
   "cell_type": "markdown",
   "id": "f1c0270e",
   "metadata": {},
   "source": [
    "- La Courbe obtenue par Régression Logistique épouse quasiment l'approche \"No Skill\". Cette technique de modélisation est donc peu efficiente."
   ]
  },
  {
   "cell_type": "markdown",
   "id": "23315ce6",
   "metadata": {},
   "source": [
    "# - APPLICATION DU METRIQUE BANCAIRE :"
   ]
  },
  {
   "cell_type": "code",
   "execution_count": 39,
   "id": "8997b951",
   "metadata": {},
   "outputs": [
    {
     "data": {
      "text/plain": [
       "0.5287142020942182"
      ]
     },
     "execution_count": 39,
     "metadata": {},
     "output_type": "execute_result"
    }
   ],
   "source": [
    "# Application :\n",
    "\n",
    "score_bancaire_log_reg = score_bancaire(y_test, y_pred_test1, fn_valeur=-2.5, fp_valeur=-1, tp_valeur=0, tn_valeur=1.5)\n",
    "\n",
    "score_bancaire_log_reg"
   ]
  },
  {
   "cell_type": "markdown",
   "id": "d70a9ac8",
   "metadata": {},
   "source": [
    "# Interprétations :"
   ]
  },
  {
   "cell_type": "markdown",
   "id": "62eae15a",
   "metadata": {},
   "source": [
    "- Le Gain est moyen. Cela prouve les limites de la modélisation par Regression Logistique."
   ]
  },
  {
   "cell_type": "markdown",
   "id": "ce7cbbeb",
   "metadata": {},
   "source": [
    "# - RESULTATS :"
   ]
  },
  {
   "cell_type": "code",
   "execution_count": 40,
   "id": "17e7f4cd",
   "metadata": {},
   "outputs": [
    {
     "name": "stderr",
     "output_type": "stream",
     "text": [
      "/var/folders/_5/v63wfks92ynb3p2nthszhh2m0000gn/T/ipykernel_1037/3725262039.py:4: FutureWarning:\n",
      "\n",
      "The frame.append method is deprecated and will be removed from pandas in a future version. Use pandas.concat instead.\n",
      "\n"
     ]
    }
   ],
   "source": [
    "# Résultats Baseline Médiane :\n",
    "\n",
    "import math\n",
    "results = results.append(pd.DataFrame({\n",
    "    'Modèle' : ['Baseline Régression Logistique'],'Precision' : precision1,'Recall' : recall1,'F1' : f1_logistic_reg,\n",
    "    'ROC_AUC' : lr_auc1,'Score Métier' : score_bancaire_log_reg}), ignore_index=True)"
   ]
  },
  {
   "cell_type": "markdown",
   "id": "60a8108d",
   "metadata": {},
   "source": [
    "# 2- LightGBM :"
   ]
  },
  {
   "cell_type": "markdown",
   "id": "080510e1",
   "metadata": {},
   "source": [
    "Light GBM est une structure rapide, appropriée, de renforcement de gradient boosting, dépendant du calcul de l’arbre de choix, utilisée pour le positionnement, la caractérisation et de nombreuses autres missions d’IA. Comme il dépend des calculs de l’arbre de choix, il divise la feuille de l’arbre la mieux adaptée tandis que d’autres calculs de renforcement divisent la profondeur de l’arbre en deux parties, l’une judicieuse et l’autre perspicace, par opposition à la feuille."
   ]
  },
  {
   "cell_type": "code",
   "execution_count": 41,
   "id": "091b7bb8-b926-44f9-980a-5bcb55c12fa1",
   "metadata": {},
   "outputs": [
    {
     "name": "stdout",
     "output_type": "stream",
     "text": [
      "Requirement already satisfied: lightgbm in ./opt/anaconda3/lib/python3.9/site-packages (3.3.2)\n",
      "Requirement already satisfied: numpy in ./opt/anaconda3/lib/python3.9/site-packages (from lightgbm) (1.21.5)\n",
      "Requirement already satisfied: scipy in ./opt/anaconda3/lib/python3.9/site-packages (from lightgbm) (1.7.3)\n",
      "Requirement already satisfied: wheel in ./opt/anaconda3/lib/python3.9/site-packages (from lightgbm) (0.37.1)\n",
      "Requirement already satisfied: scikit-learn!=0.22.0 in ./opt/anaconda3/lib/python3.9/site-packages (from lightgbm) (1.1.2)\n",
      "Requirement already satisfied: joblib>=1.0.0 in ./opt/anaconda3/lib/python3.9/site-packages (from scikit-learn!=0.22.0->lightgbm) (1.1.0)\n",
      "Requirement already satisfied: threadpoolctl>=2.0.0 in ./opt/anaconda3/lib/python3.9/site-packages (from scikit-learn!=0.22.0->lightgbm) (2.2.0)\n",
      "Note: you may need to restart the kernel to use updated packages.\n"
     ]
    }
   ],
   "source": [
    "pip install lightgbm"
   ]
  },
  {
   "cell_type": "markdown",
   "id": "50887ced",
   "metadata": {},
   "source": [
    "# - ENTRAINEMENT DU MODELE :"
   ]
  },
  {
   "cell_type": "code",
   "execution_count": 42,
   "id": "487a7cca",
   "metadata": {},
   "outputs": [],
   "source": [
    "# Importation :\n",
    "\n",
    "import lightgbm as lgbm"
   ]
  },
  {
   "cell_type": "code",
   "execution_count": 43,
   "id": "10226aad",
   "metadata": {},
   "outputs": [],
   "source": [
    "# Importation :\n",
    "\n",
    "from lightgbm import LGBMClassifier"
   ]
  },
  {
   "cell_type": "code",
   "execution_count": 44,
   "id": "08e83115",
   "metadata": {},
   "outputs": [],
   "source": [
    "# Instanciation :\n",
    "\n",
    "lgbm = LGBMClassifier()"
   ]
  },
  {
   "cell_type": "code",
   "execution_count": 45,
   "id": "2da1d615",
   "metadata": {},
   "outputs": [],
   "source": [
    "# Sauvegarde Modèle :\n",
    "\n",
    "filename = 'classifier_lgbm_model.sav'\n",
    "\n",
    "pickle.dump(lgbm, open(filename, 'wb'))"
   ]
  },
  {
   "cell_type": "code",
   "execution_count": 46,
   "id": "972c52bf",
   "metadata": {},
   "outputs": [
    {
     "data": {
      "text/html": [
       "<style>#sk-container-id-2 {color: black;background-color: white;}#sk-container-id-2 pre{padding: 0;}#sk-container-id-2 div.sk-toggleable {background-color: white;}#sk-container-id-2 label.sk-toggleable__label {cursor: pointer;display: block;width: 100%;margin-bottom: 0;padding: 0.3em;box-sizing: border-box;text-align: center;}#sk-container-id-2 label.sk-toggleable__label-arrow:before {content: \"▸\";float: left;margin-right: 0.25em;color: #696969;}#sk-container-id-2 label.sk-toggleable__label-arrow:hover:before {color: black;}#sk-container-id-2 div.sk-estimator:hover label.sk-toggleable__label-arrow:before {color: black;}#sk-container-id-2 div.sk-toggleable__content {max-height: 0;max-width: 0;overflow: hidden;text-align: left;background-color: #f0f8ff;}#sk-container-id-2 div.sk-toggleable__content pre {margin: 0.2em;color: black;border-radius: 0.25em;background-color: #f0f8ff;}#sk-container-id-2 input.sk-toggleable__control:checked~div.sk-toggleable__content {max-height: 200px;max-width: 100%;overflow: auto;}#sk-container-id-2 input.sk-toggleable__control:checked~label.sk-toggleable__label-arrow:before {content: \"▾\";}#sk-container-id-2 div.sk-estimator input.sk-toggleable__control:checked~label.sk-toggleable__label {background-color: #d4ebff;}#sk-container-id-2 div.sk-label input.sk-toggleable__control:checked~label.sk-toggleable__label {background-color: #d4ebff;}#sk-container-id-2 input.sk-hidden--visually {border: 0;clip: rect(1px 1px 1px 1px);clip: rect(1px, 1px, 1px, 1px);height: 1px;margin: -1px;overflow: hidden;padding: 0;position: absolute;width: 1px;}#sk-container-id-2 div.sk-estimator {font-family: monospace;background-color: #f0f8ff;border: 1px dotted black;border-radius: 0.25em;box-sizing: border-box;margin-bottom: 0.5em;}#sk-container-id-2 div.sk-estimator:hover {background-color: #d4ebff;}#sk-container-id-2 div.sk-parallel-item::after {content: \"\";width: 100%;border-bottom: 1px solid gray;flex-grow: 1;}#sk-container-id-2 div.sk-label:hover label.sk-toggleable__label {background-color: #d4ebff;}#sk-container-id-2 div.sk-serial::before {content: \"\";position: absolute;border-left: 1px solid gray;box-sizing: border-box;top: 0;bottom: 0;left: 50%;z-index: 0;}#sk-container-id-2 div.sk-serial {display: flex;flex-direction: column;align-items: center;background-color: white;padding-right: 0.2em;padding-left: 0.2em;position: relative;}#sk-container-id-2 div.sk-item {position: relative;z-index: 1;}#sk-container-id-2 div.sk-parallel {display: flex;align-items: stretch;justify-content: center;background-color: white;position: relative;}#sk-container-id-2 div.sk-item::before, #sk-container-id-2 div.sk-parallel-item::before {content: \"\";position: absolute;border-left: 1px solid gray;box-sizing: border-box;top: 0;bottom: 0;left: 50%;z-index: -1;}#sk-container-id-2 div.sk-parallel-item {display: flex;flex-direction: column;z-index: 1;position: relative;background-color: white;}#sk-container-id-2 div.sk-parallel-item:first-child::after {align-self: flex-end;width: 50%;}#sk-container-id-2 div.sk-parallel-item:last-child::after {align-self: flex-start;width: 50%;}#sk-container-id-2 div.sk-parallel-item:only-child::after {width: 0;}#sk-container-id-2 div.sk-dashed-wrapped {border: 1px dashed gray;margin: 0 0.4em 0.5em 0.4em;box-sizing: border-box;padding-bottom: 0.4em;background-color: white;}#sk-container-id-2 div.sk-label label {font-family: monospace;font-weight: bold;display: inline-block;line-height: 1.2em;}#sk-container-id-2 div.sk-label-container {text-align: center;}#sk-container-id-2 div.sk-container {/* jupyter's `normalize.less` sets `[hidden] { display: none; }` but bootstrap.min.css set `[hidden] { display: none !important; }` so we also need the `!important` here to be able to override the default hidden behavior on the sphinx rendered scikit-learn.org. See: https://github.com/scikit-learn/scikit-learn/issues/21755 */display: inline-block !important;position: relative;}#sk-container-id-2 div.sk-text-repr-fallback {display: none;}</style><div id=\"sk-container-id-2\" class=\"sk-top-container\"><div class=\"sk-text-repr-fallback\"><pre>LGBMClassifier()</pre><b>In a Jupyter environment, please rerun this cell to show the HTML representation or trust the notebook. <br />On GitHub, the HTML representation is unable to render, please try loading this page with nbviewer.org.</b></div><div class=\"sk-container\" hidden><div class=\"sk-item\"><div class=\"sk-estimator sk-toggleable\"><input class=\"sk-toggleable__control sk-hidden--visually\" id=\"sk-estimator-id-2\" type=\"checkbox\" checked><label for=\"sk-estimator-id-2\" class=\"sk-toggleable__label sk-toggleable__label-arrow\">LGBMClassifier</label><div class=\"sk-toggleable__content\"><pre>LGBMClassifier()</pre></div></div></div></div></div>"
      ],
      "text/plain": [
       "LGBMClassifier()"
      ]
     },
     "execution_count": 46,
     "metadata": {},
     "output_type": "execute_result"
    }
   ],
   "source": [
    "# Fit Modèle :\n",
    "\n",
    "lgbm.fit(X_train_oversamp, y_train_oversamp)"
   ]
  },
  {
   "cell_type": "markdown",
   "id": "e3481ee9",
   "metadata": {},
   "source": [
    "# - RESULTATS DE PREDICTION :"
   ]
  },
  {
   "cell_type": "code",
   "execution_count": 47,
   "id": "663facd9",
   "metadata": {},
   "outputs": [
    {
     "data": {
      "text/plain": [
       "array([0., 0., 0., ..., 0., 0., 0.])"
      ]
     },
     "execution_count": 47,
     "metadata": {},
     "output_type": "execute_result"
    }
   ],
   "source": [
    "# Prédiction :\n",
    "\n",
    "y_pred_test3 = lgbm.predict(X_test)\n",
    "\n",
    "y_pred_test3"
   ]
  },
  {
   "cell_type": "markdown",
   "id": "c55df23f",
   "metadata": {},
   "source": [
    "# - MATRICE DE CONFUSION :"
   ]
  },
  {
   "cell_type": "code",
   "execution_count": 48,
   "id": "2d2dc1ff",
   "metadata": {},
   "outputs": [
    {
     "name": "stdout",
     "output_type": "stream",
     "text": [
      "Confusion matrix\n",
      "\n",
      " [[84711   130]\n",
      " [ 7271   142]]\n",
      "\n",
      "True Positives(TP) =  84711\n",
      "\n",
      "True Negatives(TN) =  142\n",
      "\n",
      "False Positives(FP) =  130\n",
      "\n",
      "False Negatives(FN) =  7271\n"
     ]
    }
   ],
   "source": [
    "# Matrice de Confusion :\n",
    "\n",
    "from sklearn.metrics import confusion_matrix\n",
    "\n",
    "cm3 = confusion_matrix(y_test, y_pred_test3)\n",
    "\n",
    "print('Confusion matrix\\n\\n', cm3)\n",
    "\n",
    "print('\\nTrue Positives(TP) = ', cm3[0,0])\n",
    "\n",
    "print('\\nTrue Negatives(TN) = ', cm3[1,1])\n",
    "\n",
    "print('\\nFalse Positives(FP) = ', cm3[0,1])\n",
    "\n",
    "print('\\nFalse Negatives(FN) = ', cm3[1,0])"
   ]
  },
  {
   "cell_type": "code",
   "execution_count": 49,
   "id": "a300ab33",
   "metadata": {},
   "outputs": [
    {
     "data": {
      "image/png": "[encoded data removed]",
      "text/plain": [
       "<Figure size 864x720 with 2 Axes>"
      ]
     },
     "metadata": {
      "needs_background": "light"
     },
     "output_type": "display_data"
    }
   ],
   "source": [
    "# Plot :\n",
    "\n",
    "plt.figure(figsize = (12, 10))\n",
    "\n",
    "group_names = ['True Pos','False Pos','False Neg','True Neg']\n",
    "\n",
    "group_counts = [\"{0:0.0f}\".format(value) for value in\n",
    "                cm3.flatten()]\n",
    "\n",
    "group_percentages = [\"{0:.2%}\".format(value) for value in\n",
    "                     cm3.flatten()/np.sum(cm3)]\n",
    "\n",
    "labels = [f\"{v1}\\n{v2}\\n{v3}\" for v1, v2, v3 in\n",
    "          zip(group_names,group_counts,group_percentages)]\n",
    "\n",
    "labels = np.asarray(labels).reshape(2,2)\n",
    "\n",
    "ax = sns.heatmap(cm3, annot=labels, fmt='', cmap='Blues')\n",
    "\n",
    "ax.set_title('Seaborn Matrice de Confusion avec Labels\\n\\n');\n",
    "ax.set_xlabel('\\nValeurs Prédites')\n",
    "ax.set_ylabel('Valeurs Actuelles');\n",
    "\n",
    "plt.show()"
   ]
  },
  {
   "cell_type": "markdown",
   "id": "d59923a3",
   "metadata": {},
   "source": [
    "# Interprétations :"
   ]
  },
  {
   "cell_type": "markdown",
   "id": "0e9362e2",
   "metadata": {},
   "source": [
    "- La classification est quasi située en TP, toutefois, on constate un peu d'erreur de Type II."
   ]
  },
  {
   "cell_type": "markdown",
   "id": "aec9bf31",
   "metadata": {},
   "source": [
    "# - RAPPORT DE CLASSIFICATION :"
   ]
  },
  {
   "cell_type": "code",
   "execution_count": 50,
   "id": "703863ba",
   "metadata": {},
   "outputs": [
    {
     "name": "stdout",
     "output_type": "stream",
     "text": [
      "              precision    recall  f1-score   support\n",
      "\n",
      "         0.0       0.92      1.00      0.96     84841\n",
      "         1.0       0.52      0.02      0.04      7413\n",
      "\n",
      "    accuracy                           0.92     92254\n",
      "   macro avg       0.72      0.51      0.50     92254\n",
      "weighted avg       0.89      0.92      0.88     92254\n",
      "\n"
     ]
    }
   ],
   "source": [
    "# Rapport :\n",
    "\n",
    "from sklearn.metrics import classification_report\n",
    "\n",
    "print(classification_report(y_test, y_pred_test3))"
   ]
  },
  {
   "cell_type": "code",
   "execution_count": 51,
   "id": "6c59cbb4",
   "metadata": {},
   "outputs": [],
   "source": [
    "# \"Classification Accuracy\" :\n",
    "\n",
    "TP = cm3[0,0]\n",
    "TN = cm3[1,1]\n",
    "FP = cm3[0,1]\n",
    "FN = cm3[1,0]"
   ]
  },
  {
   "cell_type": "code",
   "execution_count": 52,
   "id": "48157d97",
   "metadata": {},
   "outputs": [
    {
     "name": "stdout",
     "output_type": "stream",
     "text": [
      "Classification error : 0.0802\n"
     ]
    }
   ],
   "source": [
    "# Calcul \"Classification Error\" :\n",
    "\n",
    "classification_error = (FP + FN) / float(TP + TN + FP + FN)\n",
    "\n",
    "print('Classification error : {0:0.4f}'.format(classification_error))"
   ]
  },
  {
   "cell_type": "markdown",
   "id": "69f4d341",
   "metadata": {},
   "source": [
    "# Interprétations :"
   ]
  },
  {
   "cell_type": "markdown",
   "id": "d4deeb1f",
   "metadata": {},
   "source": [
    "- L'Erreur de Classification est très basse."
   ]
  },
  {
   "cell_type": "markdown",
   "id": "b8274bd3",
   "metadata": {},
   "source": [
    "# - PRECISION :"
   ]
  },
  {
   "cell_type": "code",
   "execution_count": 53,
   "id": "3e7a3d0c",
   "metadata": {},
   "outputs": [
    {
     "name": "stdout",
     "output_type": "stream",
     "text": [
      "Precision : 0.9985\n"
     ]
    }
   ],
   "source": [
    "# Calcul \"Precision Score\" :\n",
    "\n",
    "precision3 = TP / float(TP + FP)\n",
    "\n",
    "print('Precision : {0:0.4f}'.format(precision3))"
   ]
  },
  {
   "cell_type": "markdown",
   "id": "10e5f52d",
   "metadata": {},
   "source": [
    "# Interprétations :"
   ]
  },
  {
   "cell_type": "markdown",
   "id": "f94d7be8",
   "metadata": {},
   "source": [
    "- La Précision est absolue. L'approche LightGBM offre d'excellents résultats."
   ]
  },
  {
   "cell_type": "markdown",
   "id": "14e692cc",
   "metadata": {},
   "source": [
    "# - RECALL :"
   ]
  },
  {
   "cell_type": "code",
   "execution_count": 54,
   "id": "83684e21",
   "metadata": {},
   "outputs": [
    {
     "name": "stdout",
     "output_type": "stream",
     "text": [
      "Recall or Sensitivity : 0.9210\n"
     ]
    }
   ],
   "source": [
    "# Calcul \"Recall Score\" :\n",
    "\n",
    "recall3 = TP / float(TP + FN)\n",
    "\n",
    "print('Recall or Sensitivity : {0:0.4f}'.format(recall3))"
   ]
  },
  {
   "cell_type": "markdown",
   "id": "e74dd45e",
   "metadata": {},
   "source": [
    "# Interprétations :"
   ]
  },
  {
   "cell_type": "markdown",
   "id": "72a33951",
   "metadata": {},
   "source": [
    "- Le Recall est élevé. L'approche LightGBM est pertinente."
   ]
  },
  {
   "cell_type": "markdown",
   "id": "dd597990",
   "metadata": {},
   "source": [
    "# - F1 :"
   ]
  },
  {
   "cell_type": "code",
   "execution_count": 55,
   "id": "6f3905b1",
   "metadata": {},
   "outputs": [],
   "source": [
    "# Importation :\n",
    "\n",
    "from sklearn.metrics import f1_score"
   ]
  },
  {
   "cell_type": "code",
   "execution_count": 56,
   "id": "9c32157a",
   "metadata": {},
   "outputs": [
    {
     "data": {
      "text/plain": [
       "0.8841231054384405"
      ]
     },
     "execution_count": 56,
     "metadata": {},
     "output_type": "execute_result"
    }
   ],
   "source": [
    "# Calcul 'macro' :\n",
    "\n",
    "f1_lightgbm = f1_score(y_test, y_pred_test3, average = 'weighted')\n",
    "\n",
    "f1_lightgbm"
   ]
  },
  {
   "cell_type": "markdown",
   "id": "407417ca",
   "metadata": {},
   "source": [
    "# Interprétations :"
   ]
  },
  {
   "cell_type": "markdown",
   "id": "7e813d3c",
   "metadata": {},
   "source": [
    "- Le F1 est, pour ce type de modèle, encore élevé. Ce type de classification est donc efficiente."
   ]
  },
  {
   "cell_type": "markdown",
   "id": "5c23c7ed",
   "metadata": {},
   "source": [
    "# - ROC / AUC :"
   ]
  },
  {
   "cell_type": "code",
   "execution_count": 57,
   "id": "77b26012",
   "metadata": {},
   "outputs": [],
   "source": [
    "# Importations :\n",
    "\n",
    "from sklearn.datasets import make_classification\n",
    "from sklearn.linear_model import LogisticRegression\n",
    "from sklearn.model_selection import train_test_split\n",
    "from sklearn.metrics import roc_curve\n",
    "from sklearn.metrics import roc_auc_score\n",
    "from matplotlib import pyplot"
   ]
  },
  {
   "cell_type": "code",
   "execution_count": 58,
   "id": "a84db736",
   "metadata": {},
   "outputs": [
    {
     "data": {
      "text/plain": [
       "array([[0.84357167, 0.15642833],\n",
       "       [0.95519128, 0.04480872],\n",
       "       [0.79528621, 0.20471379],\n",
       "       ...,\n",
       "       [0.96779817, 0.03220183],\n",
       "       [0.97295673, 0.02704327],\n",
       "       [0.94196967, 0.05803033]])"
      ]
     },
     "execution_count": 58,
     "metadata": {},
     "output_type": "execute_result"
    }
   ],
   "source": [
    "# Prédiction :\n",
    "\n",
    "lr_probs = lgbm.predict_proba(X_test)\n",
    "\n",
    "lr_probs"
   ]
  },
  {
   "cell_type": "code",
   "execution_count": 59,
   "id": "607a0953",
   "metadata": {},
   "outputs": [],
   "source": [
    "# Probabilités :\n",
    "\n",
    "lr_probs = lr_probs[:, 1]"
   ]
  },
  {
   "cell_type": "code",
   "execution_count": 60,
   "id": "473be751",
   "metadata": {},
   "outputs": [
    {
     "name": "stdout",
     "output_type": "stream",
     "text": [
      "No Skill: ROC AUC=0.500\n",
      "LightGBM : ROC AUC=0.768\n"
     ]
    }
   ],
   "source": [
    "# Calcul Scores :\n",
    "\n",
    "ns_probs = [0 for _ in range(len(y_test))]\n",
    "\n",
    "ns_auc = roc_auc_score(y_test, ns_probs)\n",
    "\n",
    "lr_auc3 = roc_auc_score(y_test, lr_probs)\n",
    "\n",
    "print('No Skill: ROC AUC=%.3f' % (ns_auc))\n",
    "\n",
    "print('LightGBM : ROC AUC=%.3f' % (lr_auc3))"
   ]
  },
  {
   "cell_type": "code",
   "execution_count": 61,
   "id": "a97b7a90",
   "metadata": {},
   "outputs": [],
   "source": [
    "# Calcul ROC Courbes :\n",
    "\n",
    "s_fpr, ns_tpr, _ = roc_curve(y_test, ns_probs)\n",
    "\n",
    "lr_fpr, lr_tpr, _ = roc_curve(y_test, lr_probs)"
   ]
  },
  {
   "cell_type": "code",
   "execution_count": 62,
   "id": "785e6851",
   "metadata": {},
   "outputs": [
    {
     "data": {
      "image/png": "[encoded data removed]",
      "text/plain": [
       "<Figure size 864x720 with 1 Axes>"
      ]
     },
     "metadata": {
      "needs_background": "light"
     },
     "output_type": "display_data"
    }
   ],
   "source": [
    "# Plot :\n",
    "\n",
    "plt.figure(figsize = (12, 10))\n",
    "\n",
    "ns_fpr, ns_tpr, _ = roc_curve(y_test, ns_probs)\n",
    "lr_fpr, lr_tpr, _ = roc_curve(y_test, lr_probs)\n",
    "\n",
    "pyplot.plot(ns_fpr, ns_tpr, linestyle='--', label='No Skill')\n",
    "pyplot.plot(lr_fpr, lr_tpr, marker='.', label='LightGBM')\n",
    "\n",
    "pyplot.xlabel('Taux Faux Positif')\n",
    "pyplot.ylabel('Taux Vrai Positif')\n",
    "\n",
    "pyplot.legend()\n",
    "\n",
    "pyplot.show()"
   ]
  },
  {
   "cell_type": "markdown",
   "id": "e5402056",
   "metadata": {},
   "source": [
    "# Interprétations :"
   ]
  },
  {
   "cell_type": "markdown",
   "id": "75034fad",
   "metadata": {},
   "source": [
    "- La valeur de ROC AUC est élevée, mais moins que celle obtenue par Catboost. La classification est bonne, mais perfectible. Nous influerons donc sur les hyperparamètres de ce modèle, pour majorer la valeur de l'ensemble des Métriques."
   ]
  },
  {
   "cell_type": "markdown",
   "id": "0bc08b8e",
   "metadata": {},
   "source": [
    "# - METRIQUE BANCAIRE :"
   ]
  },
  {
   "cell_type": "code",
   "execution_count": 63,
   "id": "f070c8e2",
   "metadata": {},
   "outputs": [
    {
     "data": {
      "text/plain": [
       "0.9197758362781018"
      ]
     },
     "execution_count": 63,
     "metadata": {},
     "output_type": "execute_result"
    }
   ],
   "source": [
    "# Score Bancaire :\n",
    "\n",
    "score_bancaire_light_gbm = score_bancaire(y_test, y_pred_test3, fn_valeur=-2.5, fp_valeur=-1, tp_valeur=0, tn_valeur=1.5)\n",
    "\n",
    "score_bancaire_light_gbm"
   ]
  },
  {
   "cell_type": "markdown",
   "id": "18bcb3b0",
   "metadata": {},
   "source": [
    "# Interprétations :"
   ]
  },
  {
   "cell_type": "markdown",
   "id": "7118ea2a",
   "metadata": {},
   "source": [
    "La valeur de Score obtenue est assez bonne."
   ]
  },
  {
   "cell_type": "markdown",
   "id": "9bf33e6f",
   "metadata": {},
   "source": [
    "# - FEATURE IMPORTANCE :"
   ]
  },
  {
   "cell_type": "code",
   "execution_count": 64,
   "id": "064cb69d",
   "metadata": {},
   "outputs": [
    {
     "data": {
      "image/png": "[encoded data removed]",
      "text/plain": [
       "<Figure size 432x288 with 1 Axes>"
      ]
     },
     "metadata": {
      "needs_background": "light"
     },
     "output_type": "display_data"
    }
   ],
   "source": [
    "# Application :\n",
    "\n",
    "feat_importances = pd.Series(lgbm.feature_importances_, index=data_train_final_feat_eng_preprocessed.columns)\n",
    "\n",
    "feat_importances.nlargest(15).plot(kind='barh', color = 'purple')\n",
    "\n",
    "plt.show()"
   ]
  },
  {
   "cell_type": "markdown",
   "id": "1c29e029",
   "metadata": {},
   "source": [
    "# Interprétations :"
   ]
  },
  {
   "cell_type": "markdown",
   "id": "6456392d",
   "metadata": {},
   "source": [
    "Les variables pesant sur la classification sont les variables de Genre et de Sources Extérieures."
   ]
  },
  {
   "cell_type": "markdown",
   "id": "aeeb9b93",
   "metadata": {},
   "source": [
    "# - SHAP IMPORTANCE :"
   ]
  },
  {
   "cell_type": "code",
   "execution_count": 65,
   "id": "e751d1c6",
   "metadata": {},
   "outputs": [],
   "source": [
    "# Importation :\n",
    "\n",
    "import shap"
   ]
  },
  {
   "cell_type": "code",
   "execution_count": 66,
   "id": "a3535cd2",
   "metadata": {},
   "outputs": [],
   "source": [
    "# Dataset :\n",
    "\n",
    "X_importance = data_train_final_feat_eng_preprocessed"
   ]
  },
  {
   "cell_type": "code",
   "execution_count": 67,
   "id": "d50ff4ac",
   "metadata": {},
   "outputs": [
    {
     "name": "stderr",
     "output_type": "stream",
     "text": [
      "LightGBM binary classifier with TreeExplainer shap values output has changed to a list of ndarray\n"
     ]
    }
   ],
   "source": [
    "# Explication Modèle Prédiction :\n",
    "\n",
    "explainer = shap.TreeExplainer(lgbm)\n",
    "\n",
    "shap_values = explainer.shap_values(X_importance)"
   ]
  },
  {
   "cell_type": "code",
   "execution_count": 68,
   "id": "b0c2ecfc",
   "metadata": {},
   "outputs": [
    {
     "data": {
      "image/png": "[encoded data removed]",
      "text/plain": [
       "<Figure size 576x684 with 1 Axes>"
      ]
     },
     "metadata": {
      "needs_background": "light"
     },
     "output_type": "display_data"
    }
   ],
   "source": [
    "# Plot :\n",
    "\n",
    "shap.summary_plot(shap_values, X_importance)"
   ]
  },
  {
   "cell_type": "markdown",
   "id": "dad8b310",
   "metadata": {},
   "source": [
    "# Interprétations :"
   ]
  },
  {
   "cell_type": "markdown",
   "id": "25249b6b",
   "metadata": {},
   "source": [
    "- Le type de Revenus a un impact sur l'orientation du modèle."
   ]
  },
  {
   "cell_type": "markdown",
   "id": "a024280d",
   "metadata": {},
   "source": [
    "# - RESULTATS :"
   ]
  },
  {
   "cell_type": "code",
   "execution_count": 69,
   "id": "8d8c2f7b",
   "metadata": {},
   "outputs": [
    {
     "name": "stderr",
     "output_type": "stream",
     "text": [
      "The frame.append method is deprecated and will be removed from pandas in a future version. Use pandas.concat instead.\n"
     ]
    }
   ],
   "source": [
    "# Résultats LIGHTGBM :\n",
    "\n",
    "import math\n",
    "results = results.append(pd.DataFrame({\n",
    "    'Modèle' : ['LightGBM'],'Precision' : precision3, 'Recall' : recall3, 'F1':f1_lightgbm,\n",
    "    'ROC_AUC': lr_auc3, 'Score Métier' : score_bancaire_light_gbm}),\n",
    "              ignore_index=True)"
   ]
  },
  {
   "cell_type": "markdown",
   "id": "45e4edd0",
   "metadata": {},
   "source": [
    "# 3- CATBOOST :"
   ]
  },
  {
   "cell_type": "markdown",
   "id": "843d88bc",
   "metadata": {},
   "source": [
    "CatBoost est un algorithme de gradient boosting basé sur les arbres de décision.  "
   ]
  },
  {
   "cell_type": "code",
   "execution_count": 70,
   "id": "50d15268",
   "metadata": {},
   "outputs": [
    {
     "name": "stdout",
     "output_type": "stream",
     "text": [
      "Requirement already satisfied: catboost in ./opt/anaconda3/lib/python3.9/site-packages (1.0.6)\n",
      "Requirement already satisfied: plotly in ./opt/anaconda3/lib/python3.9/site-packages (from catboost) (5.6.0)\n",
      "Requirement already satisfied: six in ./opt/anaconda3/lib/python3.9/site-packages (from catboost) (1.16.0)\n",
      "Requirement already satisfied: matplotlib in ./opt/anaconda3/lib/python3.9/site-packages (from catboost) (3.5.1)\n",
      "Requirement already satisfied: pandas>=0.24.0 in ./opt/anaconda3/lib/python3.9/site-packages (from catboost) (1.4.2)\n",
      "Requirement already satisfied: graphviz in ./opt/anaconda3/lib/python3.9/site-packages (from catboost) (0.20.1)\n",
      "Requirement already satisfied: scipy in ./opt/anaconda3/lib/python3.9/site-packages (from catboost) (1.7.3)\n",
      "Requirement already satisfied: numpy>=1.16.0 in ./opt/anaconda3/lib/python3.9/site-packages (from catboost) (1.21.5)\n",
      "Requirement already satisfied: python-dateutil>=2.8.1 in ./opt/anaconda3/lib/python3.9/site-packages (from pandas>=0.24.0->catboost) (2.8.2)\n",
      "Requirement already satisfied: pytz>=2020.1 in ./opt/anaconda3/lib/python3.9/site-packages (from pandas>=0.24.0->catboost) (2021.3)\n",
      "Requirement already satisfied: pillow>=6.2.0 in ./opt/anaconda3/lib/python3.9/site-packages (from matplotlib->catboost) (9.0.1)\n",
      "Requirement already satisfied: pyparsing>=2.2.1 in ./opt/anaconda3/lib/python3.9/site-packages (from matplotlib->catboost) (3.0.4)\n",
      "Requirement already satisfied: packaging>=20.0 in ./opt/anaconda3/lib/python3.9/site-packages (from matplotlib->catboost) (21.3)\n",
      "Requirement already satisfied: fonttools>=4.22.0 in ./opt/anaconda3/lib/python3.9/site-packages (from matplotlib->catboost) (4.25.0)\n",
      "Requirement already satisfied: cycler>=0.10 in ./opt/anaconda3/lib/python3.9/site-packages (from matplotlib->catboost) (0.11.0)\n",
      "Requirement already satisfied: kiwisolver>=1.0.1 in ./opt/anaconda3/lib/python3.9/site-packages (from matplotlib->catboost) (1.3.2)\n",
      "Requirement already satisfied: tenacity>=6.2.0 in ./opt/anaconda3/lib/python3.9/site-packages (from plotly->catboost) (8.0.1)\n",
      "Note: you may need to restart the kernel to use updated packages.\n"
     ]
    }
   ],
   "source": [
    "pip install catboost"
   ]
  },
  {
   "cell_type": "markdown",
   "id": "14cd079d",
   "metadata": {},
   "source": [
    "# - ENTRAINEMENT DU MODELE :"
   ]
  },
  {
   "cell_type": "code",
   "execution_count": 71,
   "id": "a9b08c6f",
   "metadata": {},
   "outputs": [],
   "source": [
    "# Importation :\n",
    "\n",
    "from catboost import CatBoostClassifier"
   ]
  },
  {
   "cell_type": "code",
   "execution_count": 72,
   "id": "dc512059",
   "metadata": {},
   "outputs": [],
   "source": [
    "# Instanciation :\n",
    "\n",
    "clf = CatBoostClassifier(iterations=10, verbose=5)"
   ]
  },
  {
   "cell_type": "code",
   "execution_count": 73,
   "id": "bb123def",
   "metadata": {},
   "outputs": [],
   "source": [
    "# Sauvegarde Modèle :\n",
    "\n",
    "filename = 'classifier_clf_model.sav'\n",
    "\n",
    "pickle.dump(clf, open(filename, 'wb'))"
   ]
  },
  {
   "cell_type": "code",
   "execution_count": 74,
   "id": "26c25fb2",
   "metadata": {},
   "outputs": [
    {
     "name": "stdout",
     "output_type": "stream",
     "text": [
      "Learning rate set to 0.5\n",
      "0:\tlearn: 0.4125795\ttotal: 235ms\tremaining: 2.11s\n",
      "5:\tlearn: 0.1692029\ttotal: 897ms\tremaining: 598ms\n",
      "9:\tlearn: 0.1503971\ttotal: 1.41s\tremaining: 0us\n"
     ]
    },
    {
     "data": {
      "text/plain": [
       "<catboost.core.CatBoostClassifier at 0x7fb9d141eee0>"
      ]
     },
     "execution_count": 74,
     "metadata": {},
     "output_type": "execute_result"
    }
   ],
   "source": [
    "# Fit Modèle :\n",
    "\n",
    "clf.fit(X_train_oversamp, y_train_oversamp)"
   ]
  },
  {
   "cell_type": "markdown",
   "id": "20b7bfa2",
   "metadata": {},
   "source": [
    "# - RESULTATS DE PREDICTION :"
   ]
  },
  {
   "cell_type": "code",
   "execution_count": 75,
   "id": "13acc24c",
   "metadata": {},
   "outputs": [
    {
     "data": {
      "text/plain": [
       "array([0., 0., 0., ..., 0., 0., 0.])"
      ]
     },
     "execution_count": 75,
     "metadata": {},
     "output_type": "execute_result"
    }
   ],
   "source": [
    "# Prédiction :\n",
    "\n",
    "y_pred_test2 = clf.predict(X_test)\n",
    "\n",
    "y_pred_test2"
   ]
  },
  {
   "cell_type": "markdown",
   "id": "0a0f7175",
   "metadata": {},
   "source": [
    "# - MATRICE DE CONFUSION :"
   ]
  },
  {
   "cell_type": "code",
   "execution_count": 76,
   "id": "a7d1f9ac",
   "metadata": {},
   "outputs": [
    {
     "name": "stdout",
     "output_type": "stream",
     "text": [
      "Confusion matrix\n",
      "\n",
      " [[84754    87]\n",
      " [ 7334    79]]\n",
      "\n",
      "True Positives(TP) =  84754\n",
      "\n",
      "True Negatives(TN) =  79\n",
      "\n",
      "False Positives(FP) =  87\n",
      "\n",
      "False Negatives(FN) =  7334\n"
     ]
    }
   ],
   "source": [
    "# Matrice de Confusion :\n",
    "\n",
    "from sklearn.metrics import confusion_matrix\n",
    "\n",
    "cm2 = confusion_matrix(y_test, y_pred_test2)\n",
    "\n",
    "print('Confusion matrix\\n\\n', cm2)\n",
    "\n",
    "print('\\nTrue Positives(TP) = ', cm2[0,0])\n",
    "\n",
    "print('\\nTrue Negatives(TN) = ', cm2[1,1])\n",
    "\n",
    "print('\\nFalse Positives(FP) = ', cm2[0,1])\n",
    "\n",
    "print('\\nFalse Negatives(FN) = ', cm2[1,0])"
   ]
  },
  {
   "cell_type": "code",
   "execution_count": 77,
   "id": "1f5d3c9b",
   "metadata": {},
   "outputs": [
    {
     "data": {
      "image/png": "[encoded data removed]",
      "text/plain": [
       "<Figure size 864x720 with 2 Axes>"
      ]
     },
     "metadata": {
      "needs_background": "light"
     },
     "output_type": "display_data"
    }
   ],
   "source": [
    "# Plot :\n",
    "\n",
    "plt.figure(figsize = (12, 10))\n",
    "\n",
    "group_names = ['True Pos','False Pos','False Neg','True Neg']\n",
    "\n",
    "group_counts = [\"{0:0.0f}\".format(value) for value in\n",
    "                cm2.flatten()]\n",
    "\n",
    "group_percentages = [\"{0:.2%}\".format(value) for value in\n",
    "                     cm2.flatten()/np.sum(cm2)]\n",
    "\n",
    "labels = [f\"{v1}\\n{v2}\\n{v3}\" for v1, v2, v3 in\n",
    "          zip(group_names,group_counts,group_percentages)]\n",
    "\n",
    "labels = np.asarray(labels).reshape(2,2)\n",
    "\n",
    "ax = sns.heatmap(cm2, annot=labels, fmt='', cmap='Blues')\n",
    "\n",
    "ax.set_title('Seaborn Matrice de Confusion avec Labels\\n\\n');\n",
    "ax.set_xlabel('\\nValeurs Prédites')\n",
    "ax.set_ylabel('Valeurs Actuelles');\n",
    "\n",
    "plt.show()"
   ]
  },
  {
   "cell_type": "markdown",
   "id": "49cd9a39",
   "metadata": {},
   "source": [
    "# Interprétations :"
   ]
  },
  {
   "cell_type": "markdown",
   "id": "ff4d22f2",
   "metadata": {},
   "source": [
    "- La classification est bien meilleure. \n",
    "- Il y a peu de faux positifs.\n",
    "- L'erreur de Type II est élevée, toutefois."
   ]
  },
  {
   "cell_type": "markdown",
   "id": "c47865d1",
   "metadata": {},
   "source": [
    "# - RAPPORT DE CLASSIFICATION :"
   ]
  },
  {
   "cell_type": "code",
   "execution_count": 78,
   "id": "bf0d1011",
   "metadata": {},
   "outputs": [
    {
     "name": "stdout",
     "output_type": "stream",
     "text": [
      "              precision    recall  f1-score   support\n",
      "\n",
      "         0.0       0.92      1.00      0.96     84841\n",
      "         1.0       0.48      0.01      0.02      7413\n",
      "\n",
      "    accuracy                           0.92     92254\n",
      "   macro avg       0.70      0.50      0.49     92254\n",
      "weighted avg       0.88      0.92      0.88     92254\n",
      "\n"
     ]
    }
   ],
   "source": [
    "# Rapport :\n",
    "\n",
    "from sklearn.metrics import classification_report\n",
    "\n",
    "print(classification_report(y_test, y_pred_test2))"
   ]
  },
  {
   "cell_type": "code",
   "execution_count": 79,
   "id": "0fea3750",
   "metadata": {},
   "outputs": [],
   "source": [
    "# \"Classification Accuracy\" :\n",
    "\n",
    "TP = cm2[0,0]\n",
    "TN = cm2[1,1]\n",
    "FP = cm2[0,1]\n",
    "FN = cm2[1,0]"
   ]
  },
  {
   "cell_type": "code",
   "execution_count": 80,
   "id": "09dc2cb9",
   "metadata": {},
   "outputs": [
    {
     "name": "stdout",
     "output_type": "stream",
     "text": [
      "Classification error : 0.0804\n"
     ]
    }
   ],
   "source": [
    "# Calcul \"Classification Error\" :\n",
    "\n",
    "classification_error = (FP + FN) / float(TP + TN + FP + FN)\n",
    "\n",
    "print('Classification error : {0:0.4f}'.format(classification_error))"
   ]
  },
  {
   "cell_type": "markdown",
   "id": "e526917f",
   "metadata": {},
   "source": [
    "# Interprétations :"
   ]
  },
  {
   "cell_type": "markdown",
   "id": "75d1b8ff",
   "metadata": {},
   "source": [
    "- L'erreur de classification est très basse. L'approche CatBoost est donc plutôt efficiente."
   ]
  },
  {
   "cell_type": "markdown",
   "id": "19ab3961",
   "metadata": {},
   "source": [
    "# - PRECISION :"
   ]
  },
  {
   "cell_type": "code",
   "execution_count": 81,
   "id": "871abdef",
   "metadata": {},
   "outputs": [
    {
     "name": "stdout",
     "output_type": "stream",
     "text": [
      "Precision : 0.9990\n"
     ]
    }
   ],
   "source": [
    "# Calcul \"Precision Score\" :\n",
    "\n",
    "precision2 = TP / float(TP + FP)\n",
    "\n",
    "print('Precision : {0:0.4f}'.format(precision2))"
   ]
  },
  {
   "cell_type": "markdown",
   "id": "44136fa9",
   "metadata": {},
   "source": [
    "# Interprétations :"
   ]
  },
  {
   "cell_type": "markdown",
   "id": "c19ce659",
   "metadata": {},
   "source": [
    "- La Valeur de Précision est haute et confirme la qualité de cette approche."
   ]
  },
  {
   "cell_type": "markdown",
   "id": "237c57cf",
   "metadata": {},
   "source": [
    "# - RECALL :"
   ]
  },
  {
   "cell_type": "code",
   "execution_count": 82,
   "id": "00c74d3e",
   "metadata": {},
   "outputs": [
    {
     "name": "stdout",
     "output_type": "stream",
     "text": [
      "Recall or Sensitivity : 0.9204\n"
     ]
    }
   ],
   "source": [
    "# Calcul \"Recall Score\" :\n",
    "\n",
    "recall2 = TP / float(TP + FN)\n",
    "\n",
    "print('Recall or Sensitivity : {0:0.4f}'.format(recall2))"
   ]
  },
  {
   "cell_type": "markdown",
   "id": "9318e8be",
   "metadata": {},
   "source": [
    "# Interprétations :"
   ]
  },
  {
   "cell_type": "markdown",
   "id": "fd971da7",
   "metadata": {},
   "source": [
    "- La Valeur du Recall est excellente. L'approche Catboost est efficiente."
   ]
  },
  {
   "cell_type": "markdown",
   "id": "c5617a43",
   "metadata": {},
   "source": [
    "# - F1 :"
   ]
  },
  {
   "cell_type": "code",
   "execution_count": 83,
   "id": "1587fbfb",
   "metadata": {},
   "outputs": [],
   "source": [
    "# Importation :\n",
    "\n",
    "from sklearn.metrics import f1_score"
   ]
  },
  {
   "cell_type": "code",
   "execution_count": 84,
   "id": "6abea940",
   "metadata": {},
   "outputs": [
    {
     "data": {
      "text/plain": [
       "0.8827478615218675"
      ]
     },
     "execution_count": 84,
     "metadata": {},
     "output_type": "execute_result"
    }
   ],
   "source": [
    "# Calcul 'weight' :\n",
    "\n",
    "f1_catboost = f1_score(y_test, y_pred_test2, average = 'weighted')\n",
    "\n",
    "f1_catboost"
   ]
  },
  {
   "cell_type": "markdown",
   "id": "b8e710c0",
   "metadata": {},
   "source": [
    "# Interprétations :"
   ]
  },
  {
   "cell_type": "markdown",
   "id": "d41e7104",
   "metadata": {},
   "source": [
    "- Le F1 est assez élevé. Les données sont donc correctement prédites."
   ]
  },
  {
   "cell_type": "markdown",
   "id": "d0816577",
   "metadata": {},
   "source": [
    "# - ROC / AUC :"
   ]
  },
  {
   "cell_type": "code",
   "execution_count": 85,
   "id": "f7917550",
   "metadata": {},
   "outputs": [],
   "source": [
    "# Importations :\n",
    "\n",
    "from sklearn.datasets import make_classification\n",
    "from sklearn.linear_model import LogisticRegression\n",
    "from sklearn.model_selection import train_test_split\n",
    "from sklearn.metrics import roc_curve\n",
    "from sklearn.metrics import roc_auc_score\n",
    "from matplotlib import pyplot"
   ]
  },
  {
   "cell_type": "code",
   "execution_count": 86,
   "id": "d3bc5afd",
   "metadata": {},
   "outputs": [
    {
     "data": {
      "text/plain": [
       "array([[0.85295409, 0.14704591],\n",
       "       [0.95726261, 0.04273739],\n",
       "       [0.79243592, 0.20756408],\n",
       "       ...,\n",
       "       [0.9261517 , 0.0738483 ],\n",
       "       [0.97190753, 0.02809247],\n",
       "       [0.94329116, 0.05670884]])"
      ]
     },
     "execution_count": 86,
     "metadata": {},
     "output_type": "execute_result"
    }
   ],
   "source": [
    "# Prédiction :\n",
    "\n",
    "lr_probs = clf.predict_proba(X_test)\n",
    "\n",
    "lr_probs"
   ]
  },
  {
   "cell_type": "code",
   "execution_count": 87,
   "id": "88c1487f",
   "metadata": {},
   "outputs": [],
   "source": [
    "# Probabilités :\n",
    "\n",
    "lr_probs = lr_probs[:, 1]"
   ]
  },
  {
   "cell_type": "code",
   "execution_count": 88,
   "id": "f6dc6858",
   "metadata": {},
   "outputs": [
    {
     "name": "stdout",
     "output_type": "stream",
     "text": [
      "No Skill: ROC AUC=0.500\n",
      "Catboost : ROC AUC=0.736\n"
     ]
    }
   ],
   "source": [
    "# Calcul Scores :\n",
    "\n",
    "ns_probs = [0 for _ in range(len(y_test))]\n",
    "\n",
    "ns_auc = roc_auc_score(y_test, ns_probs)\n",
    "\n",
    "lr_auc2 = roc_auc_score(y_test, lr_probs)\n",
    "\n",
    "print('No Skill: ROC AUC=%.3f' % (ns_auc))\n",
    "\n",
    "print('Catboost : ROC AUC=%.3f' % (lr_auc2))"
   ]
  },
  {
   "cell_type": "code",
   "execution_count": 89,
   "id": "c64e22a6",
   "metadata": {},
   "outputs": [],
   "source": [
    "# Calcul ROC Courbes :\n",
    "\n",
    "s_fpr, ns_tpr, _ = roc_curve(y_test, ns_probs)\n",
    "\n",
    "lr_fpr, lr_tpr, _ = roc_curve(y_test, lr_probs)"
   ]
  },
  {
   "cell_type": "code",
   "execution_count": 90,
   "id": "d9dbdb28",
   "metadata": {},
   "outputs": [
    {
     "data": {
      "image/png": "[encoded data removed]",
      "text/plain": [
       "<Figure size 864x720 with 1 Axes>"
      ]
     },
     "metadata": {
      "needs_background": "light"
     },
     "output_type": "display_data"
    }
   ],
   "source": [
    "# Plot :\n",
    "\n",
    "plt.figure(figsize = (12, 10))\n",
    "\n",
    "ns_fpr, ns_tpr, _ = roc_curve(y_test, ns_probs)\n",
    "lr_fpr, lr_tpr, _ = roc_curve(y_test, lr_probs)\n",
    "\n",
    "pyplot.plot(ns_fpr, ns_tpr, linestyle='--', label='No Skill')\n",
    "pyplot.plot(lr_fpr, lr_tpr, marker='.', label='Catboost')\n",
    "\n",
    "pyplot.xlabel('Taux Faux Positif')\n",
    "pyplot.ylabel('Taux Vrai Positif')\n",
    "\n",
    "pyplot.legend()\n",
    "\n",
    "pyplot.show()"
   ]
  },
  {
   "cell_type": "markdown",
   "id": "0fbdb393",
   "metadata": {},
   "source": [
    "# Interprétations :"
   ]
  },
  {
   "cell_type": "markdown",
   "id": "46fca382",
   "metadata": {},
   "source": [
    "- La Courbe ROC est très prononcée et se démarque de la Courbe No Skill. La classification par Catboost est donc assez efficace. Toutefois, la valeur de ROC AUC est perfectible."
   ]
  },
  {
   "cell_type": "markdown",
   "id": "a6c2e726",
   "metadata": {},
   "source": [
    "# - APPLICATION METRIQUE BANCAIRE :"
   ]
  },
  {
   "cell_type": "code",
   "execution_count": 91,
   "id": "6730b983",
   "metadata": {},
   "outputs": [
    {
     "data": {
      "text/plain": [
       "0.9195590435103085"
      ]
     },
     "execution_count": 91,
     "metadata": {},
     "output_type": "execute_result"
    }
   ],
   "source": [
    "# Application :\n",
    "\n",
    "score_bancaire_cat_boost = score_bancaire(y_test, y_pred_test2, fn_valeur=-2.5, fp_valeur=-1, tp_valeur=0, tn_valeur=1.5)\n",
    "\n",
    "score_bancaire_cat_boost"
   ]
  },
  {
   "cell_type": "markdown",
   "id": "130187ec",
   "metadata": {},
   "source": [
    "# Interprétations :"
   ]
  },
  {
   "cell_type": "markdown",
   "id": "b2cf1126",
   "metadata": {},
   "source": [
    "- Le score bancaire est excellent. Cette technique de modélisation garantit une certaine rentabilité."
   ]
  },
  {
   "cell_type": "markdown",
   "id": "676e9281",
   "metadata": {},
   "source": [
    "# - FEATURE IMPORTANCE :"
   ]
  },
  {
   "cell_type": "code",
   "execution_count": 92,
   "id": "d9e31051",
   "metadata": {},
   "outputs": [
    {
     "data": {
      "image/png": "[encoded data removed]",
      "text/plain": [
       "<Figure size 432x288 with 1 Axes>"
      ]
     },
     "metadata": {
      "needs_background": "light"
     },
     "output_type": "display_data"
    }
   ],
   "source": [
    "# Application :\n",
    "\n",
    "feat_importances = pd.Series(clf.feature_importances_, index=data_train_final_feat_eng_preprocessed.columns)\n",
    "\n",
    "feat_importances.nlargest(15).plot(kind='barh', color = 'purple')\n",
    "\n",
    "plt.show()"
   ]
  },
  {
   "cell_type": "markdown",
   "id": "a33ca5c9",
   "metadata": {},
   "source": [
    "# Interprétations :"
   ]
  },
  {
   "cell_type": "markdown",
   "id": "42c445ed",
   "metadata": {},
   "source": [
    "- Les variables pesant sur la classification sont les variables de Revenus, de Statut Familial et de Genre."
   ]
  },
  {
   "cell_type": "markdown",
   "id": "02301af5",
   "metadata": {},
   "source": [
    "# - SHAP IMPORTANCE :"
   ]
  },
  {
   "cell_type": "code",
   "execution_count": 93,
   "id": "39e3bdd3",
   "metadata": {},
   "outputs": [],
   "source": [
    "# Importation :\n",
    "\n",
    "import shap"
   ]
  },
  {
   "cell_type": "code",
   "execution_count": 94,
   "id": "e401b531",
   "metadata": {},
   "outputs": [],
   "source": [
    "# Dataset :\n",
    "\n",
    "X_importance = data_train_final_feat_eng_preprocessed"
   ]
  },
  {
   "cell_type": "code",
   "execution_count": 95,
   "id": "c5fc25c9",
   "metadata": {},
   "outputs": [],
   "source": [
    "# Explication Modèle Prédiction :\n",
    "\n",
    "explainer = shap.TreeExplainer(clf)\n",
    "\n",
    "shap_values = explainer.shap_values(X_importance)"
   ]
  },
  {
   "cell_type": "code",
   "execution_count": 96,
   "id": "5ca14fd9",
   "metadata": {},
   "outputs": [
    {
     "data": {
      "image/png": "[encoded data removed]",
      "text/plain": [
       "<Figure size 576x684 with 2 Axes>"
      ]
     },
     "metadata": {
      "needs_background": "light"
     },
     "output_type": "display_data"
    }
   ],
   "source": [
    "# Plot :\n",
    "\n",
    "shap.summary_plot(shap_values, X_importance)"
   ]
  },
  {
   "cell_type": "markdown",
   "id": "3d7222d1",
   "metadata": {},
   "source": [
    "# Interprétations :"
   ]
  },
  {
   "cell_type": "markdown",
   "id": "c4009837",
   "metadata": {},
   "source": [
    "- Le Genre influe sur les Valeurs SHAP et a donc un impact sur le Comportement du Modèle."
   ]
  },
  {
   "cell_type": "markdown",
   "id": "6371cfbe",
   "metadata": {},
   "source": [
    "# - RESULTATS :"
   ]
  },
  {
   "cell_type": "code",
   "execution_count": 97,
   "id": "7d4a5de9",
   "metadata": {},
   "outputs": [
    {
     "name": "stderr",
     "output_type": "stream",
     "text": [
      "The frame.append method is deprecated and will be removed from pandas in a future version. Use pandas.concat instead.\n"
     ]
    }
   ],
   "source": [
    "# Résultats CATBOOST :\n",
    "\n",
    "import math\n",
    "results = results.append(pd.DataFrame({\n",
    "    'Modèle' : ['CATBOOST'],'Precision' : precision2, 'Recall' : recall2, 'F1' : f1_catboost,\n",
    "    'ROC_AUC': lr_auc2, 'Score Métier' : score_bancaire_cat_boost}), ignore_index=True)"
   ]
  },
  {
   "cell_type": "markdown",
   "id": "c909d3a8",
   "metadata": {},
   "source": [
    "# 4- XGBOOST :"
   ]
  },
  {
   "cell_type": "markdown",
   "id": "c312f4eb",
   "metadata": {},
   "source": [
    "XGBoost est une implémentation évolutive et très précise de l'amplification de gradient qui repousse les limites de la puissance de calcul pour les algorithmes d'arbres boostés, conçue en grande partie pour dynamiser les performances du modèle d'apprentissage automatique et la vitesse de calcul."
   ]
  },
  {
   "cell_type": "code",
   "execution_count": 98,
   "id": "679296bd",
   "metadata": {},
   "outputs": [
    {
     "name": "stdout",
     "output_type": "stream",
     "text": [
      "Requirement already satisfied: xgboost in ./opt/anaconda3/lib/python3.9/site-packages (1.6.2)\n",
      "Requirement already satisfied: numpy in ./opt/anaconda3/lib/python3.9/site-packages (from xgboost) (1.21.5)\n",
      "Requirement already satisfied: scipy in ./opt/anaconda3/lib/python3.9/site-packages (from xgboost) (1.7.3)\n",
      "Note: you may need to restart the kernel to use updated packages.\n"
     ]
    }
   ],
   "source": [
    "pip install xgboost"
   ]
  },
  {
   "cell_type": "markdown",
   "id": "39238ba5",
   "metadata": {},
   "source": [
    "# - ENTRAINEMENT DU MODELE :"
   ]
  },
  {
   "cell_type": "code",
   "execution_count": 99,
   "id": "5bb84332",
   "metadata": {},
   "outputs": [],
   "source": [
    "# Importation :\n",
    "\n",
    "import xgboost as xgb"
   ]
  },
  {
   "cell_type": "code",
   "execution_count": 100,
   "id": "55e54c69",
   "metadata": {},
   "outputs": [],
   "source": [
    "# Importation :\n",
    "\n",
    "from xgboost import XGBClassifier"
   ]
  },
  {
   "cell_type": "code",
   "execution_count": 101,
   "id": "10d6bc90",
   "metadata": {},
   "outputs": [],
   "source": [
    "# Instanciation :\n",
    "\n",
    "xgb = XGBClassifier(n_estimators=5)"
   ]
  },
  {
   "cell_type": "code",
   "execution_count": 102,
   "id": "4a9d568b",
   "metadata": {},
   "outputs": [],
   "source": [
    "# Sauvegarde Modèle :\n",
    "\n",
    "filename = 'classifier_xgb_model.sav'\n",
    "\n",
    "pickle.dump(xgb, open(filename, 'wb'))"
   ]
  },
  {
   "cell_type": "code",
   "execution_count": 103,
   "id": "f3b4d460",
   "metadata": {},
   "outputs": [
    {
     "data": {
      "text/html": [
       "<style>#sk-container-id-3 {color: black;background-color: white;}#sk-container-id-3 pre{padding: 0;}#sk-container-id-3 div.sk-toggleable {background-color: white;}#sk-container-id-3 label.sk-toggleable__label {cursor: pointer;display: block;width: 100%;margin-bottom: 0;padding: 0.3em;box-sizing: border-box;text-align: center;}#sk-container-id-3 label.sk-toggleable__label-arrow:before {content: \"▸\";float: left;margin-right: 0.25em;color: #696969;}#sk-container-id-3 label.sk-toggleable__label-arrow:hover:before {color: black;}#sk-container-id-3 div.sk-estimator:hover label.sk-toggleable__label-arrow:before {color: black;}#sk-container-id-3 div.sk-toggleable__content {max-height: 0;max-width: 0;overflow: hidden;text-align: left;background-color: #f0f8ff;}#sk-container-id-3 div.sk-toggleable__content pre {margin: 0.2em;color: black;border-radius: 0.25em;background-color: #f0f8ff;}#sk-container-id-3 input.sk-toggleable__control:checked~div.sk-toggleable__content {max-height: 200px;max-width: 100%;overflow: auto;}#sk-container-id-3 input.sk-toggleable__control:checked~label.sk-toggleable__label-arrow:before {content: \"▾\";}#sk-container-id-3 div.sk-estimator input.sk-toggleable__control:checked~label.sk-toggleable__label {background-color: #d4ebff;}#sk-container-id-3 div.sk-label input.sk-toggleable__control:checked~label.sk-toggleable__label {background-color: #d4ebff;}#sk-container-id-3 input.sk-hidden--visually {border: 0;clip: rect(1px 1px 1px 1px);clip: rect(1px, 1px, 1px, 1px);height: 1px;margin: -1px;overflow: hidden;padding: 0;position: absolute;width: 1px;}#sk-container-id-3 div.sk-estimator {font-family: monospace;background-color: #f0f8ff;border: 1px dotted black;border-radius: 0.25em;box-sizing: border-box;margin-bottom: 0.5em;}#sk-container-id-3 div.sk-estimator:hover {background-color: #d4ebff;}#sk-container-id-3 div.sk-parallel-item::after {content: \"\";width: 100%;border-bottom: 1px solid gray;flex-grow: 1;}#sk-container-id-3 div.sk-label:hover label.sk-toggleable__label {background-color: #d4ebff;}#sk-container-id-3 div.sk-serial::before {content: \"\";position: absolute;border-left: 1px solid gray;box-sizing: border-box;top: 0;bottom: 0;left: 50%;z-index: 0;}#sk-container-id-3 div.sk-serial {display: flex;flex-direction: column;align-items: center;background-color: white;padding-right: 0.2em;padding-left: 0.2em;position: relative;}#sk-container-id-3 div.sk-item {position: relative;z-index: 1;}#sk-container-id-3 div.sk-parallel {display: flex;align-items: stretch;justify-content: center;background-color: white;position: relative;}#sk-container-id-3 div.sk-item::before, #sk-container-id-3 div.sk-parallel-item::before {content: \"\";position: absolute;border-left: 1px solid gray;box-sizing: border-box;top: 0;bottom: 0;left: 50%;z-index: -1;}#sk-container-id-3 div.sk-parallel-item {display: flex;flex-direction: column;z-index: 1;position: relative;background-color: white;}#sk-container-id-3 div.sk-parallel-item:first-child::after {align-self: flex-end;width: 50%;}#sk-container-id-3 div.sk-parallel-item:last-child::after {align-self: flex-start;width: 50%;}#sk-container-id-3 div.sk-parallel-item:only-child::after {width: 0;}#sk-container-id-3 div.sk-dashed-wrapped {border: 1px dashed gray;margin: 0 0.4em 0.5em 0.4em;box-sizing: border-box;padding-bottom: 0.4em;background-color: white;}#sk-container-id-3 div.sk-label label {font-family: monospace;font-weight: bold;display: inline-block;line-height: 1.2em;}#sk-container-id-3 div.sk-label-container {text-align: center;}#sk-container-id-3 div.sk-container {/* jupyter's `normalize.less` sets `[hidden] { display: none; }` but bootstrap.min.css set `[hidden] { display: none !important; }` so we also need the `!important` here to be able to override the default hidden behavior on the sphinx rendered scikit-learn.org. See: https://github.com/scikit-learn/scikit-learn/issues/21755 */display: inline-block !important;position: relative;}#sk-container-id-3 div.sk-text-repr-fallback {display: none;}</style><div id=\"sk-container-id-3\" class=\"sk-top-container\"><div class=\"sk-text-repr-fallback\"><pre>XGBClassifier(base_score=0.5, booster=&#x27;gbtree&#x27;, callbacks=None,\n",
       "              colsample_bylevel=1, colsample_bynode=1, colsample_bytree=1,\n",
       "              early_stopping_rounds=None, enable_categorical=False,\n",
       "              eval_metric=None, gamma=0, gpu_id=-1, grow_policy=&#x27;depthwise&#x27;,\n",
       "              importance_type=None, interaction_constraints=&#x27;&#x27;,\n",
       "              learning_rate=0.300000012, max_bin=256, max_cat_to_onehot=4,\n",
       "              max_delta_step=0, max_depth=6, max_leaves=0, min_child_weight=1,\n",
       "              missing=nan, monotone_constraints=&#x27;()&#x27;, n_estimators=5, n_jobs=0,\n",
       "              num_parallel_tree=1, predictor=&#x27;auto&#x27;, random_state=0,\n",
       "              reg_alpha=0, reg_lambda=1, ...)</pre><b>In a Jupyter environment, please rerun this cell to show the HTML representation or trust the notebook. <br />On GitHub, the HTML representation is unable to render, please try loading this page with nbviewer.org.</b></div><div class=\"sk-container\" hidden><div class=\"sk-item\"><div class=\"sk-estimator sk-toggleable\"><input class=\"sk-toggleable__control sk-hidden--visually\" id=\"sk-estimator-id-3\" type=\"checkbox\" checked><label for=\"sk-estimator-id-3\" class=\"sk-toggleable__label sk-toggleable__label-arrow\">XGBClassifier</label><div class=\"sk-toggleable__content\"><pre>XGBClassifier(base_score=0.5, booster=&#x27;gbtree&#x27;, callbacks=None,\n",
       "              colsample_bylevel=1, colsample_bynode=1, colsample_bytree=1,\n",
       "              early_stopping_rounds=None, enable_categorical=False,\n",
       "              eval_metric=None, gamma=0, gpu_id=-1, grow_policy=&#x27;depthwise&#x27;,\n",
       "              importance_type=None, interaction_constraints=&#x27;&#x27;,\n",
       "              learning_rate=0.300000012, max_bin=256, max_cat_to_onehot=4,\n",
       "              max_delta_step=0, max_depth=6, max_leaves=0, min_child_weight=1,\n",
       "              missing=nan, monotone_constraints=&#x27;()&#x27;, n_estimators=5, n_jobs=0,\n",
       "              num_parallel_tree=1, predictor=&#x27;auto&#x27;, random_state=0,\n",
       "              reg_alpha=0, reg_lambda=1, ...)</pre></div></div></div></div></div>"
      ],
      "text/plain": [
       "XGBClassifier(base_score=0.5, booster='gbtree', callbacks=None,\n",
       "              colsample_bylevel=1, colsample_bynode=1, colsample_bytree=1,\n",
       "              early_stopping_rounds=None, enable_categorical=False,\n",
       "              eval_metric=None, gamma=0, gpu_id=-1, grow_policy='depthwise',\n",
       "              importance_type=None, interaction_constraints='',\n",
       "              learning_rate=0.300000012, max_bin=256, max_cat_to_onehot=4,\n",
       "              max_delta_step=0, max_depth=6, max_leaves=0, min_child_weight=1,\n",
       "              missing=nan, monotone_constraints='()', n_estimators=5, n_jobs=0,\n",
       "              num_parallel_tree=1, predictor='auto', random_state=0,\n",
       "              reg_alpha=0, reg_lambda=1, ...)"
      ]
     },
     "execution_count": 103,
     "metadata": {},
     "output_type": "execute_result"
    }
   ],
   "source": [
    "# Fit Modèle :\n",
    "\n",
    "xgb.fit(X_train_oversamp, y_train_oversamp)"
   ]
  },
  {
   "cell_type": "markdown",
   "id": "5462bb5b",
   "metadata": {},
   "source": [
    "# - RESULTATS DE PREDICTION :"
   ]
  },
  {
   "cell_type": "code",
   "execution_count": 104,
   "id": "13495e20",
   "metadata": {},
   "outputs": [
    {
     "data": {
      "text/plain": [
       "array([0, 0, 0, ..., 0, 0, 0])"
      ]
     },
     "execution_count": 104,
     "metadata": {},
     "output_type": "execute_result"
    }
   ],
   "source": [
    "# Prédiction :\n",
    "\n",
    "y_pred_test4 = xgb.predict(X_test)\n",
    "\n",
    "y_pred_test4"
   ]
  },
  {
   "cell_type": "markdown",
   "id": "7e3135a3",
   "metadata": {},
   "source": [
    "# - MATRICE DE CONFUSION :"
   ]
  },
  {
   "cell_type": "code",
   "execution_count": 105,
   "id": "4aca5415",
   "metadata": {},
   "outputs": [
    {
     "name": "stdout",
     "output_type": "stream",
     "text": [
      "Confusion matrix\n",
      "\n",
      " [[84806    35]\n",
      " [ 7394    19]]\n",
      "\n",
      "True Positives(TP) =  84806\n",
      "\n",
      "True Negatives(TN) =  19\n",
      "\n",
      "False Positives(FP) =  35\n",
      "\n",
      "False Negatives(FN) =  7394\n"
     ]
    }
   ],
   "source": [
    "# Matrice de Confusion :\n",
    "\n",
    "from sklearn.metrics import confusion_matrix\n",
    "\n",
    "cm4 = confusion_matrix(y_test, y_pred_test4)\n",
    "\n",
    "print('Confusion matrix\\n\\n', cm4)\n",
    "\n",
    "print('\\nTrue Positives(TP) = ', cm4[0,0])\n",
    "\n",
    "print('\\nTrue Negatives(TN) = ', cm4[1,1])\n",
    "\n",
    "print('\\nFalse Positives(FP) = ', cm4[0,1])\n",
    "\n",
    "print('\\nFalse Negatives(FN) = ', cm4[1,0])"
   ]
  },
  {
   "cell_type": "code",
   "execution_count": 106,
   "id": "16179802",
   "metadata": {},
   "outputs": [
    {
     "data": {
      "image/png": "[encoded data removed]",
      "text/plain": [
       "<Figure size 864x720 with 2 Axes>"
      ]
     },
     "metadata": {
      "needs_background": "light"
     },
     "output_type": "display_data"
    }
   ],
   "source": [
    "# Plot :\n",
    "\n",
    "plt.figure(figsize = (12, 10))\n",
    "\n",
    "group_names = ['True Pos','False Pos','False Neg','True Neg']\n",
    "\n",
    "group_counts = [\"{0:0.0f}\".format(value) for value in\n",
    "                cm4.flatten()]\n",
    "\n",
    "group_percentages = [\"{0:.2%}\".format(value) for value in\n",
    "                     cm4.flatten()/np.sum(cm4)]\n",
    "\n",
    "labels = [f\"{v1}\\n{v2}\\n{v3}\" for v1, v2, v3 in\n",
    "          zip(group_names,group_counts,group_percentages)]\n",
    "\n",
    "labels = np.asarray(labels).reshape(2,2)\n",
    "\n",
    "ax = sns.heatmap(cm4, annot=labels, fmt='', cmap='Blues')\n",
    "\n",
    "ax.set_title('Seaborn Matrice de Confusion avec Labels\\n\\n');\n",
    "ax.set_xlabel('\\nValeurs Prédites')\n",
    "ax.set_ylabel('Valeurs Actuelles');\n",
    "\n",
    "plt.show()"
   ]
  },
  {
   "cell_type": "markdown",
   "id": "c1035431",
   "metadata": {},
   "source": [
    "# Interprétations :"
   ]
  },
  {
   "cell_type": "markdown",
   "id": "4fae6a1b",
   "metadata": {},
   "source": [
    "- La Classification est quasiment constituée de TP. Il y a très peu d'erreurs de Type II."
   ]
  },
  {
   "cell_type": "markdown",
   "id": "9f0d2b52",
   "metadata": {},
   "source": [
    "# - RAPPORT DE CLASSIFICATION :"
   ]
  },
  {
   "cell_type": "code",
   "execution_count": 107,
   "id": "c834dd89",
   "metadata": {},
   "outputs": [
    {
     "name": "stdout",
     "output_type": "stream",
     "text": [
      "              precision    recall  f1-score   support\n",
      "\n",
      "         0.0       0.92      1.00      0.96     84841\n",
      "         1.0       0.35      0.00      0.01      7413\n",
      "\n",
      "    accuracy                           0.92     92254\n",
      "   macro avg       0.64      0.50      0.48     92254\n",
      "weighted avg       0.87      0.92      0.88     92254\n",
      "\n"
     ]
    }
   ],
   "source": [
    "# Rapport :\n",
    "\n",
    "from sklearn.metrics import classification_report\n",
    "\n",
    "print(classification_report(y_test, y_pred_test4))"
   ]
  },
  {
   "cell_type": "code",
   "execution_count": 108,
   "id": "4277c261",
   "metadata": {},
   "outputs": [],
   "source": [
    "# \"Classification Accuracy\" :\n",
    "\n",
    "TP = cm4[0,0]\n",
    "TN = cm4[1,1]\n",
    "FP = cm4[0,1]\n",
    "FN = cm4[1,0]"
   ]
  },
  {
   "cell_type": "code",
   "execution_count": 109,
   "id": "5b562de0",
   "metadata": {},
   "outputs": [
    {
     "name": "stdout",
     "output_type": "stream",
     "text": [
      "Classification error : 0.0805\n"
     ]
    }
   ],
   "source": [
    "# Calcul \"Classification Error\" :\n",
    "\n",
    "classification_error = (FP + FN) / float(TP + TN + FP + FN)\n",
    "\n",
    "print('Classification error : {0:0.4f}'.format(classification_error))"
   ]
  },
  {
   "cell_type": "markdown",
   "id": "a5c7092f",
   "metadata": {},
   "source": [
    "# Interprétations :"
   ]
  },
  {
   "cell_type": "markdown",
   "id": "4d6e232e",
   "metadata": {},
   "source": [
    "- L'Erreur de Classification est très basse. L'approche XGBOOST apporte de bons résultats."
   ]
  },
  {
   "cell_type": "markdown",
   "id": "3ff2c544",
   "metadata": {},
   "source": [
    "# - PRECISION :"
   ]
  },
  {
   "cell_type": "code",
   "execution_count": 110,
   "id": "1c1570ab",
   "metadata": {},
   "outputs": [
    {
     "name": "stdout",
     "output_type": "stream",
     "text": [
      "Precision : 0.9996\n"
     ]
    }
   ],
   "source": [
    "# Calcul \"Precision Score\" :\n",
    "\n",
    "precision4 = TP / float(TP + FP)\n",
    "\n",
    "print('Precision : {0:0.4f}'.format(precision4))"
   ]
  },
  {
   "cell_type": "markdown",
   "id": "ca9b7226",
   "metadata": {},
   "source": [
    "# Interprétations :"
   ]
  },
  {
   "cell_type": "markdown",
   "id": "911ced0f",
   "metadata": {},
   "source": [
    "- La Valeur de Précision est optimale."
   ]
  },
  {
   "cell_type": "markdown",
   "id": "98b2156a",
   "metadata": {},
   "source": [
    "# - RECALL :"
   ]
  },
  {
   "cell_type": "code",
   "execution_count": 111,
   "id": "4a7df06e",
   "metadata": {},
   "outputs": [
    {
     "name": "stdout",
     "output_type": "stream",
     "text": [
      "Recall or Sensitivity : 0.9198\n"
     ]
    }
   ],
   "source": [
    "# Calcul \"Recall Score\" :\n",
    "\n",
    "recall4 = TP / float(TP + FN)\n",
    "\n",
    "print('Recall or Sensitivity : {0:0.4f}'.format(recall4))"
   ]
  },
  {
   "cell_type": "markdown",
   "id": "861b4c70",
   "metadata": {},
   "source": [
    "# Interprétations :"
   ]
  },
  {
   "cell_type": "markdown",
   "id": "91798747",
   "metadata": {},
   "source": [
    "- Le Recall est également très bon. La Modélisation XGBOOST apporte les Meilleurs Résultats."
   ]
  },
  {
   "cell_type": "markdown",
   "id": "c6d975c8",
   "metadata": {},
   "source": [
    "# - F1 :"
   ]
  },
  {
   "cell_type": "code",
   "execution_count": 112,
   "id": "f3d69607",
   "metadata": {},
   "outputs": [],
   "source": [
    "# Importation :\n",
    "\n",
    "from sklearn.metrics import f1_score"
   ]
  },
  {
   "cell_type": "code",
   "execution_count": 113,
   "id": "78476e05",
   "metadata": {},
   "outputs": [
    {
     "data": {
      "text/plain": [
       "0.8814644837660525"
      ]
     },
     "execution_count": 113,
     "metadata": {},
     "output_type": "execute_result"
    }
   ],
   "source": [
    "# Calcul 'weighted' :\n",
    "\n",
    "f1_xgboost = f1_score(y_test, y_pred_test4, average = 'weighted')\n",
    "\n",
    "f1_xgboost"
   ]
  },
  {
   "cell_type": "markdown",
   "id": "4987b9fe",
   "metadata": {},
   "source": [
    "# Interprétations :"
   ]
  },
  {
   "cell_type": "markdown",
   "id": "3c4e5834",
   "metadata": {},
   "source": [
    "- La Valeur de F1 est moins élevée pour la modélisation XGBOOST, que pour les autres modélisations."
   ]
  },
  {
   "cell_type": "markdown",
   "id": "ddbb8e7e",
   "metadata": {},
   "source": [
    "# - ROC / AUC :"
   ]
  },
  {
   "cell_type": "code",
   "execution_count": 114,
   "id": "3769a8dc",
   "metadata": {},
   "outputs": [],
   "source": [
    "# Importations :\n",
    "\n",
    "from sklearn.datasets import make_classification\n",
    "from sklearn.linear_model import LogisticRegression\n",
    "from sklearn.model_selection import train_test_split\n",
    "from sklearn.metrics import roc_curve\n",
    "from sklearn.metrics import roc_auc_score\n",
    "from matplotlib import pyplot"
   ]
  },
  {
   "cell_type": "code",
   "execution_count": 115,
   "id": "938353f1",
   "metadata": {},
   "outputs": [
    {
     "data": {
      "text/plain": [
       "array([[0.73778534, 0.26221463],\n",
       "       [0.80143154, 0.19856846],\n",
       "       [0.59557235, 0.40442768],\n",
       "       ...,\n",
       "       [0.726002  , 0.273998  ],\n",
       "       [0.81704426, 0.18295577],\n",
       "       [0.7678248 , 0.23217517]], dtype=float32)"
      ]
     },
     "execution_count": 115,
     "metadata": {},
     "output_type": "execute_result"
    }
   ],
   "source": [
    "# Prédiction :\n",
    "\n",
    "lr_probs = xgb.predict_proba(X_test)\n",
    "\n",
    "lr_probs"
   ]
  },
  {
   "cell_type": "code",
   "execution_count": 116,
   "id": "4d2e8e79",
   "metadata": {},
   "outputs": [],
   "source": [
    "# Probabilités :\n",
    "\n",
    "lr_probs = lr_probs[:, 1]"
   ]
  },
  {
   "cell_type": "code",
   "execution_count": 117,
   "id": "0e8ae73f",
   "metadata": {},
   "outputs": [
    {
     "name": "stdout",
     "output_type": "stream",
     "text": [
      "No Skill: ROC AUC=0.500\n",
      "XGBOOST : ROC AUC=0.691\n"
     ]
    }
   ],
   "source": [
    "# Calcul Scores :\n",
    "\n",
    "ns_probs = [0 for _ in range(len(y_test))]\n",
    "\n",
    "ns_auc = roc_auc_score(y_test, ns_probs)\n",
    "\n",
    "lr_auc4 = roc_auc_score(y_test, lr_probs)\n",
    "\n",
    "print('No Skill: ROC AUC=%.3f' % (ns_auc))\n",
    "\n",
    "print('XGBOOST : ROC AUC=%.3f' % (lr_auc4))"
   ]
  },
  {
   "cell_type": "code",
   "execution_count": 118,
   "id": "20861fb5",
   "metadata": {},
   "outputs": [],
   "source": [
    "# Calcul ROC Courbes :\n",
    "\n",
    "s_fpr, ns_tpr, _ = roc_curve(y_test, ns_probs)\n",
    "\n",
    "lr_fpr, lr_tpr, _ = roc_curve(y_test, lr_probs)"
   ]
  },
  {
   "cell_type": "code",
   "execution_count": 119,
   "id": "ad06d254",
   "metadata": {},
   "outputs": [
    {
     "data": {
      "image/png": "[encoded data removed]",
      "text/plain": [
       "<Figure size 864x720 with 1 Axes>"
      ]
     },
     "metadata": {
      "needs_background": "light"
     },
     "output_type": "display_data"
    }
   ],
   "source": [
    "# Plot :\n",
    "\n",
    "plt.figure(figsize = (12, 10))\n",
    "\n",
    "ns_fpr, ns_tpr, _ = roc_curve(y_test, ns_probs)\n",
    "lr_fpr, lr_tpr, _ = roc_curve(y_test, lr_probs)\n",
    "\n",
    "pyplot.plot(ns_fpr, ns_tpr, linestyle='--', label='No Skill')\n",
    "pyplot.plot(lr_fpr, lr_tpr, marker='.', label='XGBOOST')\n",
    "\n",
    "pyplot.xlabel('Taux Faux Positif')\n",
    "pyplot.ylabel('Taux Vrai Positif')\n",
    "\n",
    "pyplot.legend()\n",
    "\n",
    "pyplot.show()"
   ]
  },
  {
   "cell_type": "markdown",
   "id": "d963b883",
   "metadata": {},
   "source": [
    "# Interprétations :"
   ]
  },
  {
   "cell_type": "markdown",
   "id": "46d95541",
   "metadata": {},
   "source": [
    "- Le ROC AUC est élevé et dépasse largement le No Skill. Le XGBOOST offre des résultats significatifs."
   ]
  },
  {
   "cell_type": "markdown",
   "id": "e8c36bc0",
   "metadata": {},
   "source": [
    "# - APPLICATION DU METRIQUE BANCAIRE :"
   ]
  },
  {
   "cell_type": "code",
   "execution_count": 120,
   "id": "6f992f0a",
   "metadata": {},
   "outputs": [
    {
     "data": {
      "text/plain": [
       "0.9194723264031912"
      ]
     },
     "execution_count": 120,
     "metadata": {},
     "output_type": "execute_result"
    }
   ],
   "source": [
    "# Application :\n",
    "\n",
    "score_bancaire_xgb = score_bancaire(y_test, y_pred_test4, fn_valeur=-2.5, fp_valeur=-1, tp_valeur=0, tn_valeur=1.5)\n",
    "\n",
    "score_bancaire_xgb"
   ]
  },
  {
   "cell_type": "markdown",
   "id": "db10968e",
   "metadata": {},
   "source": [
    "# Interprétations :"
   ]
  },
  {
   "cell_type": "markdown",
   "id": "2436d879",
   "metadata": {},
   "source": [
    "- Le Score Bancaire est satisfaisant. La modélisation par XGBOOST est donc appropriée."
   ]
  },
  {
   "cell_type": "markdown",
   "id": "b2a69d10",
   "metadata": {},
   "source": [
    "# - FEATURE IMPORTANCE :"
   ]
  },
  {
   "cell_type": "code",
   "execution_count": 121,
   "id": "c0313d6d",
   "metadata": {},
   "outputs": [
    {
     "data": {
      "image/png": "[encoded data removed]",
      "text/plain": [
       "<Figure size 432x288 with 1 Axes>"
      ]
     },
     "metadata": {
      "needs_background": "light"
     },
     "output_type": "display_data"
    }
   ],
   "source": [
    "# Application :\n",
    "\n",
    "feat_importances = pd.Series(xgb.feature_importances_, index=data_train_final_feat_eng_preprocessed.columns)\n",
    "\n",
    "feat_importances.nlargest(15).plot(kind='barh', color = 'purple')\n",
    "\n",
    "plt.show()"
   ]
  },
  {
   "cell_type": "markdown",
   "id": "d154a234",
   "metadata": {},
   "source": [
    "# Interprétations :"
   ]
  },
  {
   "cell_type": "markdown",
   "id": "155f01f9",
   "metadata": {},
   "source": [
    "Les variables pesant sur la classification sont les variables de Revenus, \"FLAG PHONE\" et d'Education."
   ]
  },
  {
   "cell_type": "markdown",
   "id": "d0da3110",
   "metadata": {},
   "source": [
    "# - SHAP IMPORTANCE :"
   ]
  },
  {
   "cell_type": "code",
   "execution_count": 122,
   "id": "7ddfec40",
   "metadata": {},
   "outputs": [],
   "source": [
    "# Importation :\n",
    "\n",
    "import shap"
   ]
  },
  {
   "cell_type": "code",
   "execution_count": 123,
   "id": "0703d0e1",
   "metadata": {},
   "outputs": [],
   "source": [
    "# Dataset :\n",
    "\n",
    "X_importance = data_train_final_feat_eng_preprocessed"
   ]
  },
  {
   "cell_type": "code",
   "execution_count": 124,
   "id": "2998d8cb",
   "metadata": {},
   "outputs": [
    {
     "name": "stderr",
     "output_type": "stream",
     "text": [
      "ntree_limit is deprecated, use `iteration_range` or model slicing instead.\n"
     ]
    }
   ],
   "source": [
    "# Explication Modèle Prédiction :\n",
    "\n",
    "explainer = shap.TreeExplainer(xgb)\n",
    "\n",
    "shap_values = explainer.shap_values(X_importance)"
   ]
  },
  {
   "cell_type": "code",
   "execution_count": 125,
   "id": "bcb4ce0e",
   "metadata": {},
   "outputs": [
    {
     "data": {
      "image/png": "[encoded data removed]",
      "text/plain": [
       "<Figure size 576x684 with 2 Axes>"
      ]
     },
     "metadata": {
      "needs_background": "light"
     },
     "output_type": "display_data"
    }
   ],
   "source": [
    "# Plot :\n",
    "\n",
    "shap.summary_plot(shap_values, X_importance)"
   ]
  },
  {
   "cell_type": "markdown",
   "id": "0a1d46c0",
   "metadata": {},
   "source": [
    "# Interprétations :"
   ]
  },
  {
   "cell_type": "markdown",
   "id": "8759930f",
   "metadata": {},
   "source": [
    "- La Valeur SHAP de la Variable Revenu a le plus d'impact sur l'orientation du Modèle."
   ]
  },
  {
   "cell_type": "markdown",
   "id": "b8bd300a",
   "metadata": {},
   "source": [
    "# - RESULTATS :"
   ]
  },
  {
   "cell_type": "code",
   "execution_count": 126,
   "id": "63c3ed8e",
   "metadata": {},
   "outputs": [
    {
     "name": "stderr",
     "output_type": "stream",
     "text": [
      "The frame.append method is deprecated and will be removed from pandas in a future version. Use pandas.concat instead.\n"
     ]
    }
   ],
   "source": [
    "import math\n",
    "results = results.append(pd.DataFrame({\n",
    "    'Modèle' : ['XGBOOST'],'Precision' : precision4, 'Recall' : recall4, 'F1':f1_xgboost,\n",
    "    'ROC_AUC': lr_auc4, 'Score Métier' : score_bancaire_xgb}), ignore_index=True)"
   ]
  },
  {
   "cell_type": "markdown",
   "id": "30ed3329",
   "metadata": {},
   "source": [
    "# 5- CONCLUSION :"
   ]
  },
  {
   "cell_type": "code",
   "execution_count": 127,
   "id": "1baf62f9",
   "metadata": {},
   "outputs": [
    {
     "data": {
      "text/html": [
       "<div>\n",
       "<style scoped>\n",
       "    .dataframe tbody tr th:only-of-type {\n",
       "        vertical-align: middle;\n",
       "    }\n",
       "\n",
       "    .dataframe tbody tr th {\n",
       "        vertical-align: top;\n",
       "    }\n",
       "\n",
       "    .dataframe thead th {\n",
       "        text-align: right;\n",
       "    }\n",
       "</style>\n",
       "<table border=\"1\" class=\"dataframe\">\n",
       "  <thead>\n",
       "    <tr style=\"text-align: right;\">\n",
       "      <th></th>\n",
       "      <th>Modèle</th>\n",
       "      <th>Precision</th>\n",
       "      <th>Recall</th>\n",
       "      <th>F1</th>\n",
       "      <th>ROC_AUC</th>\n",
       "      <th>Score Métier</th>\n",
       "    </tr>\n",
       "  </thead>\n",
       "  <tbody>\n",
       "    <tr>\n",
       "      <th>0</th>\n",
       "      <td>Baseline Régression Logistique</td>\n",
       "      <td>0.524640</td>\n",
       "      <td>0.933947</td>\n",
       "      <td>0.631056</td>\n",
       "      <td>0.556189</td>\n",
       "      <td>0.528714</td>\n",
       "    </tr>\n",
       "    <tr>\n",
       "      <th>1</th>\n",
       "      <td>LightGBM</td>\n",
       "      <td>0.998468</td>\n",
       "      <td>0.920952</td>\n",
       "      <td>0.884123</td>\n",
       "      <td>0.767567</td>\n",
       "      <td>0.919776</td>\n",
       "    </tr>\n",
       "    <tr>\n",
       "      <th>2</th>\n",
       "      <td>CATBOOST</td>\n",
       "      <td>0.998975</td>\n",
       "      <td>0.920359</td>\n",
       "      <td>0.882748</td>\n",
       "      <td>0.735671</td>\n",
       "      <td>0.919559</td>\n",
       "    </tr>\n",
       "    <tr>\n",
       "      <th>3</th>\n",
       "      <td>XGBOOST</td>\n",
       "      <td>0.999587</td>\n",
       "      <td>0.919805</td>\n",
       "      <td>0.881464</td>\n",
       "      <td>0.691291</td>\n",
       "      <td>0.919472</td>\n",
       "    </tr>\n",
       "  </tbody>\n",
       "</table>\n",
       "</div>"
      ],
      "text/plain": [
       "                           Modèle  Precision    Recall        F1   ROC_AUC  \\\n",
       "0  Baseline Régression Logistique   0.524640  0.933947  0.631056  0.556189   \n",
       "1                        LightGBM   0.998468  0.920952  0.884123  0.767567   \n",
       "2                        CATBOOST   0.998975  0.920359  0.882748  0.735671   \n",
       "3                         XGBOOST   0.999587  0.919805  0.881464  0.691291   \n",
       "\n",
       "   Score Métier  \n",
       "0      0.528714  \n",
       "1      0.919776  \n",
       "2      0.919559  \n",
       "3      0.919472  "
      ]
     },
     "execution_count": 127,
     "metadata": {},
     "output_type": "execute_result"
    }
   ],
   "source": [
    "# Présentation des Résultats :\n",
    "\n",
    "results"
   ]
  },
  {
   "cell_type": "markdown",
   "id": "996a87e9",
   "metadata": {},
   "source": [
    "# Interprétations :"
   ]
  },
  {
   "cell_type": "markdown",
   "id": "7b00f2a1",
   "metadata": {},
   "source": [
    "- La Modélisation par LightGBM apporte les meilleurs scores. En revanche, celle par XGBOOST apporte les moins bons résultats de toutes nos approches. J'opte donc pour une optimisation des Hyperparamètres du Modèle XGBOOST."
   ]
  },
  {
   "cell_type": "markdown",
   "id": "771e044e",
   "metadata": {},
   "source": [
    "# C- FONCTION DE COÛT :"
   ]
  },
  {
   "cell_type": "markdown",
   "id": "6d6d6f53",
   "metadata": {},
   "source": [
    "# - LIGHTGBM :"
   ]
  },
  {
   "cell_type": "code",
   "execution_count": 128,
   "id": "749b0465",
   "metadata": {},
   "outputs": [],
   "source": [
    "# Fonction \"Coût\" LIGHTGBM :\n",
    "\n",
    "def cost_false(lgbm, y_test, X_test):\n",
    "    cm = confusion_matrix(y_test, lgbm.predict(X_test))\n",
    "    FP = cm[0][1]/np.sum(cm)\n",
    "    FN = cm[1][0]/np.sum(cm)\n",
    "  \n",
    "    print(\"False Pos: {0:.2%}\".format(FP))\n",
    "    print(\"False Neg: {0:.2%}\".format(FN))\n",
    "    return FP, FN"
   ]
  },
  {
   "cell_type": "code",
   "execution_count": 129,
   "id": "9e062f67",
   "metadata": {},
   "outputs": [
    {
     "name": "stdout",
     "output_type": "stream",
     "text": [
      "False Pos: 0.14%\n",
      "False Neg: 7.88%\n"
     ]
    },
    {
     "data": {
      "text/plain": [
       "(0.0014091529906562316, 0.078815010731242)"
      ]
     },
     "execution_count": 129,
     "metadata": {},
     "output_type": "execute_result"
    }
   ],
   "source": [
    "# Application :\n",
    "\n",
    "cost_false(lgbm, y_test, X_test)"
   ]
  },
  {
   "cell_type": "markdown",
   "id": "f19f530a",
   "metadata": {},
   "source": [
    "# Interprétations :"
   ]
  },
  {
   "cell_type": "markdown",
   "id": "62a61908",
   "metadata": {},
   "source": [
    "- La fonction de Coût indique que nos résultats sont assez justes, le taux d'erreur pour le FP est nul. Mais un peu élévé, concernant les FN, 9%."
   ]
  },
  {
   "cell_type": "markdown",
   "id": "c2a99fa9",
   "metadata": {},
   "source": [
    "# - CATBOOST :"
   ]
  },
  {
   "cell_type": "code",
   "execution_count": 130,
   "id": "d094b1d2",
   "metadata": {},
   "outputs": [],
   "source": [
    "# Fonction \"Coût\" CATBOOST :\n",
    "\n",
    "def cost_false(clf, y_test, X_test):\n",
    "    cm = confusion_matrix(y_test, clf.predict(X_test))\n",
    "    FP = cm[0][1]/np.sum(cm)\n",
    "    FN = cm[1][0]/np.sum(cm)\n",
    "  \n",
    "    print(\"False Pos: {0:.2%}\".format(FP))\n",
    "    print(\"False Neg: {0:.2%}\".format(FN))\n",
    "    return FP, FN"
   ]
  },
  {
   "cell_type": "code",
   "execution_count": 131,
   "id": "7448b0a2",
   "metadata": {},
   "outputs": [
    {
     "name": "stdout",
     "output_type": "stream",
     "text": [
      "False Pos: 0.09%\n",
      "False Neg: 7.95%\n"
     ]
    },
    {
     "data": {
      "text/plain": [
       "(0.0009430485399007089, 0.0794979079497908)"
      ]
     },
     "execution_count": 131,
     "metadata": {},
     "output_type": "execute_result"
    }
   ],
   "source": [
    "# Application :\n",
    "\n",
    "cost_false(clf, y_test, X_test)"
   ]
  },
  {
   "cell_type": "markdown",
   "id": "e921c74c",
   "metadata": {},
   "source": [
    "# Interprétations :"
   ]
  },
  {
   "cell_type": "markdown",
   "id": "c52d13a1",
   "metadata": {},
   "source": [
    "- La fonction de Coût indique que nos résultats sont assez justes, le taux d'erreur pour le FP est quasi nul."
   ]
  },
  {
   "cell_type": "markdown",
   "id": "c752f878",
   "metadata": {},
   "source": [
    "# - XGBOOST :"
   ]
  },
  {
   "cell_type": "code",
   "execution_count": 132,
   "id": "900e6ea6",
   "metadata": {},
   "outputs": [],
   "source": [
    "# Fonction \"Coût\" XGBOOST :\n",
    "\n",
    "def cost_false(xgb, y_test, X_test):\n",
    "    cm = confusion_matrix(y_test, xgb.predict(X_test))\n",
    "    FP = cm[0][1]/np.sum(cm)\n",
    "    FN = cm[1][0]/np.sum(cm)\n",
    "  \n",
    "    print(\"False Pos: {0:.2%}\".format(FP))\n",
    "    print(\"False Neg: {0:.2%}\".format(FN))\n",
    "    return FP, FN"
   ]
  },
  {
   "cell_type": "code",
   "execution_count": 133,
   "id": "f2ec2041",
   "metadata": {},
   "outputs": [
    {
     "name": "stdout",
     "output_type": "stream",
     "text": [
      "False Pos: 0.04%\n",
      "False Neg: 8.01%\n"
     ]
    },
    {
     "data": {
      "text/plain": [
       "(0.0003793873436382162, 0.0801482862531706)"
      ]
     },
     "execution_count": 133,
     "metadata": {},
     "output_type": "execute_result"
    }
   ],
   "source": [
    "# Application :\n",
    "\n",
    "cost_false(xgb, y_test, X_test)"
   ]
  },
  {
   "cell_type": "markdown",
   "id": "c03eb5b3",
   "metadata": {},
   "source": [
    "# Interprétations :"
   ]
  },
  {
   "cell_type": "markdown",
   "id": "6bf83589",
   "metadata": {},
   "source": [
    "- Les résultats des Erreurs obtenues par la Fonction de Coût sont quasi identiques à ceux obtenus par LightGBM."
   ]
  },
  {
   "cell_type": "markdown",
   "id": "6c961ba5",
   "metadata": {},
   "source": [
    "# D- CROSS VALIDATION : XGBOOST :"
   ]
  },
  {
   "cell_type": "markdown",
   "id": "3d12820a",
   "metadata": {},
   "source": [
    "Parmi tous les modèles, j'opte pour une approche par Cross Validation de XGBOOST. "
   ]
  },
  {
   "cell_type": "code",
   "execution_count": 134,
   "id": "dcd1e824",
   "metadata": {},
   "outputs": [],
   "source": [
    "# Importations :\n",
    "\n",
    "from xgboost import XGBClassifier\n",
    "from sklearn.model_selection import GridSearchCV\n",
    "from sklearn.model_selection import KFold\n",
    "from sklearn.model_selection import cross_val_score\n",
    "import xgboost as xgb"
   ]
  },
  {
   "cell_type": "code",
   "execution_count": 135,
   "id": "f53afa53",
   "metadata": {},
   "outputs": [
    {
     "name": "stdout",
     "output_type": "stream",
     "text": [
      "Accuracy: 95.53% (3.85%)\n"
     ]
    }
   ],
   "source": [
    "# Modélisation et Split KFOLD :\n",
    "\n",
    "model = xgb.XGBClassifier()\n",
    "kfold = KFold(n_splits=10, random_state=None)\n",
    "accuracies = cross_val_score(estimator = model, X = X_train_oversamp, y = y_train_oversamp, cv = kfold)\n",
    "print(\"Accuracy: %.2f%% (%.2f%%)\" % (accuracies.mean()*100, accuracies.std()*100))"
   ]
  },
  {
   "cell_type": "markdown",
   "id": "f1d30085",
   "metadata": {},
   "source": [
    "# Interprétations :"
   ]
  },
  {
   "cell_type": "markdown",
   "id": "86259b63",
   "metadata": {},
   "source": [
    "- Par Cross Validation, avec un nombre de 10 Folds, on atteint un score d'Accuracy de 96%. Ce qui est prometteur."
   ]
  },
  {
   "cell_type": "markdown",
   "id": "8c7af940",
   "metadata": {},
   "source": [
    "# E- RECHERCHE ET OPTIMISATION DES HYPERPARAMETRES PAR HYPEROPT : XGBOOST :"
   ]
  },
  {
   "cell_type": "markdown",
   "id": "126c2060",
   "metadata": {},
   "source": [
    "Parmi tous les modèles, j'opte pour une hyperparamétrisation de XGBOOST, via HYPEROPT. En effet, le résultat précedemment obtenu est perfectible."
   ]
  },
  {
   "cell_type": "code",
   "execution_count": 136,
   "id": "0dc7b53d",
   "metadata": {},
   "outputs": [
    {
     "name": "stdout",
     "output_type": "stream",
     "text": [
      "Requirement already satisfied: hyperopt in ./opt/anaconda3/lib/python3.9/site-packages (0.2.7)\n",
      "Requirement already satisfied: six in ./opt/anaconda3/lib/python3.9/site-packages (from hyperopt) (1.16.0)\n",
      "Requirement already satisfied: tqdm in ./opt/anaconda3/lib/python3.9/site-packages (from hyperopt) (4.64.0)\n",
      "Requirement already satisfied: py4j in ./opt/anaconda3/lib/python3.9/site-packages (from hyperopt) (0.10.9.5)\n",
      "Requirement already satisfied: scipy in ./opt/anaconda3/lib/python3.9/site-packages (from hyperopt) (1.7.3)\n",
      "Requirement already satisfied: cloudpickle in ./opt/anaconda3/lib/python3.9/site-packages (from hyperopt) (2.0.0)\n",
      "Requirement already satisfied: future in ./opt/anaconda3/lib/python3.9/site-packages (from hyperopt) (0.18.2)\n",
      "Requirement already satisfied: networkx>=2.2 in ./opt/anaconda3/lib/python3.9/site-packages (from hyperopt) (2.7.1)\n",
      "Requirement already satisfied: numpy in ./opt/anaconda3/lib/python3.9/site-packages (from hyperopt) (1.21.5)\n",
      "Note: you may need to restart the kernel to use updated packages.\n"
     ]
    }
   ],
   "source": [
    "pip install hyperopt"
   ]
  },
  {
   "cell_type": "markdown",
   "id": "c99357e7",
   "metadata": {},
   "source": [
    "# - XGBOOST :"
   ]
  },
  {
   "cell_type": "code",
   "execution_count": 137,
   "id": "88a2123d",
   "metadata": {},
   "outputs": [],
   "source": [
    "# Importation :\n",
    "\n",
    "from hyperopt import STATUS_OK, Trials, fmin, hp, tpe"
   ]
  },
  {
   "cell_type": "code",
   "execution_count": 138,
   "id": "35e6aca0",
   "metadata": {},
   "outputs": [],
   "source": [
    "from sklearn.metrics import average_precision_score"
   ]
  },
  {
   "cell_type": "code",
   "execution_count": 139,
   "id": "c767dc7e",
   "metadata": {},
   "outputs": [],
   "source": [
    "# Paramètres :\n",
    "\n",
    "space={'max_depth': hp.quniform(\"max_depth\", 3, 18, 1),\n",
    "        'gamma': hp.uniform ('gamma', 1,9),\n",
    "        'reg_alpha' : hp.quniform('reg_alpha', 40,180,1),\n",
    "        'reg_lambda' : hp.uniform('reg_lambda', 0,1),\n",
    "        'colsample_bytree' : hp.uniform('colsample_bytree', 0.5,1),\n",
    "        'min_child_weight' : hp.quniform('min_child_weight', 0, 10, 1),\n",
    "        'n_estimators': 180,\n",
    "        'seed': 0\n",
    "    }"
   ]
  },
  {
   "cell_type": "code",
   "execution_count": 140,
   "id": "74b280ab",
   "metadata": {},
   "outputs": [],
   "source": [
    "# Fonction Hyperparamètres :\n",
    "\n",
    "def objective(space):\n",
    "\n",
    "    xgboost = XGBClassifier(\n",
    "                    n_estimators =space['n_estimators'], max_depth = int(space['max_depth']), gamma = space['gamma'],\n",
    "                    reg_alpha = int(space['reg_alpha']),min_child_weight=int(space['min_child_weight']),\n",
    "                    colsample_bytree=int(space['colsample_bytree']))\n",
    "    \n",
    "    evaluation = [(X_train_oversamp, y_train_oversamp), (X_test, y_test)]\n",
    "    \n",
    "    xgboost.fit(X_train_oversamp, y_train_oversamp,\n",
    "            eval_set=evaluation, eval_metric=\"auc\",\n",
    "            early_stopping_rounds=10,verbose=False)\n",
    "    \n",
    "\n",
    "    pred = xgboost.predict(X_test)\n",
    "    accuracy = accuracy_score(y_test, pred > 0.5)\n",
    "\n",
    "    print (\"SCORE ACCURACY :\", accuracy)\n",
    "\n",
    "    return {'loss': -accuracy, 'status': STATUS_OK }"
   ]
  },
  {
   "cell_type": "code",
   "execution_count": 141,
   "id": "606c36c7",
   "metadata": {},
   "outputs": [],
   "source": [
    "# Essais :\n",
    "\n",
    "trials = Trials()"
   ]
  },
  {
   "cell_type": "code",
   "execution_count": 142,
   "id": "1a416151",
   "metadata": {},
   "outputs": [
    {
     "name": "stdout",
     "output_type": "stream",
     "text": [
      "  0%|          | 0/100 [00:00<?, ?trial/s, best loss=?]"
     ]
    },
    {
     "name": "stderr",
     "output_type": "stream",
     "text": [
      "`eval_metric` in `fit` method is deprecated for better compatibility with scikit-learn, use `eval_metric` in constructor or`set_params` instead.\n",
      "\n",
      "`early_stopping_rounds` in `fit` method is deprecated for better compatibility with scikit-learn, use `early_stopping_rounds` in constructor or`set_params` instead.\n",
      "\n"
     ]
    },
    {
     "name": "stdout",
     "output_type": "stream",
     "text": [
      "SCORE ACCURACY :                                       \n",
      "0.9142801396145425                                     \n",
      "  1%|          | 1/100 [00:19<32:01, 19.41s/trial, best loss: -0.9142801396145425]"
     ]
    },
    {
     "name": "stderr",
     "output_type": "stream",
     "text": [
      "`eval_metric` in `fit` method is deprecated for better compatibility with scikit-learn, use `eval_metric` in constructor or`set_params` instead.\n",
      "\n",
      "`early_stopping_rounds` in `fit` method is deprecated for better compatibility with scikit-learn, use `early_stopping_rounds` in constructor or`set_params` instead.\n",
      "\n"
     ]
    },
    {
     "name": "stdout",
     "output_type": "stream",
     "text": [
      "SCORE ACCURACY :                                                                  \n",
      "0.9166106618683201                                                                \n",
      "  2%|▏         | 2/100 [00:39<32:07, 19.66s/trial, best loss: -0.9166106618683201]"
     ]
    },
    {
     "name": "stderr",
     "output_type": "stream",
     "text": [
      "`eval_metric` in `fit` method is deprecated for better compatibility with scikit-learn, use `eval_metric` in constructor or`set_params` instead.\n",
      "\n",
      "`early_stopping_rounds` in `fit` method is deprecated for better compatibility with scikit-learn, use `early_stopping_rounds` in constructor or`set_params` instead.\n",
      "\n"
     ]
    },
    {
     "name": "stdout",
     "output_type": "stream",
     "text": [
      "SCORE ACCURACY :                                                                  \n",
      "0.9162637934398509                                                                \n",
      "  3%|▎         | 3/100 [00:54<28:52, 17.86s/trial, best loss: -0.9166106618683201]"
     ]
    },
    {
     "name": "stderr",
     "output_type": "stream",
     "text": [
      "`eval_metric` in `fit` method is deprecated for better compatibility with scikit-learn, use `eval_metric` in constructor or`set_params` instead.\n",
      "\n",
      "`early_stopping_rounds` in `fit` method is deprecated for better compatibility with scikit-learn, use `early_stopping_rounds` in constructor or`set_params` instead.\n",
      "\n"
     ]
    },
    {
     "name": "stdout",
     "output_type": "stream",
     "text": [
      "SCORE ACCURACY :                                                                  \n",
      "0.9043510308496109                                                                \n",
      "  4%|▍         | 4/100 [01:04<23:34, 14.74s/trial, best loss: -0.9166106618683201]"
     ]
    },
    {
     "name": "stderr",
     "output_type": "stream",
     "text": [
      "`eval_metric` in `fit` method is deprecated for better compatibility with scikit-learn, use `eval_metric` in constructor or`set_params` instead.\n",
      "\n",
      "`early_stopping_rounds` in `fit` method is deprecated for better compatibility with scikit-learn, use `early_stopping_rounds` in constructor or`set_params` instead.\n",
      "\n"
     ]
    },
    {
     "name": "stdout",
     "output_type": "stream",
     "text": [
      "SCORE ACCURACY :                                                                  \n",
      "0.9143560170832701                                                                \n",
      "  5%|▌         | 5/100 [01:19<23:21, 14.75s/trial, best loss: -0.9166106618683201]"
     ]
    },
    {
     "name": "stderr",
     "output_type": "stream",
     "text": [
      "`eval_metric` in `fit` method is deprecated for better compatibility with scikit-learn, use `eval_metric` in constructor or`set_params` instead.\n",
      "\n",
      "`early_stopping_rounds` in `fit` method is deprecated for better compatibility with scikit-learn, use `early_stopping_rounds` in constructor or`set_params` instead.\n",
      "\n"
     ]
    },
    {
     "name": "stdout",
     "output_type": "stream",
     "text": [
      "SCORE ACCURACY :                                                                  \n",
      "0.9161770763327335                                                                \n",
      "  6%|▌         | 6/100 [01:35<23:55, 15.27s/trial, best loss: -0.9166106618683201]"
     ]
    },
    {
     "name": "stderr",
     "output_type": "stream",
     "text": [
      "`eval_metric` in `fit` method is deprecated for better compatibility with scikit-learn, use `eval_metric` in constructor or`set_params` instead.\n",
      "\n",
      "`early_stopping_rounds` in `fit` method is deprecated for better compatibility with scikit-learn, use `early_stopping_rounds` in constructor or`set_params` instead.\n",
      "\n"
     ]
    },
    {
     "name": "stdout",
     "output_type": "stream",
     "text": [
      "SCORE ACCURACY :                                                                  \n",
      "0.9145186116591151                                                                \n",
      "  7%|▋         | 7/100 [01:50<23:04, 14.89s/trial, best loss: -0.9166106618683201]"
     ]
    },
    {
     "name": "stderr",
     "output_type": "stream",
     "text": [
      "`eval_metric` in `fit` method is deprecated for better compatibility with scikit-learn, use `eval_metric` in constructor or`set_params` instead.\n",
      "\n",
      "`early_stopping_rounds` in `fit` method is deprecated for better compatibility with scikit-learn, use `early_stopping_rounds` in constructor or`set_params` instead.\n",
      "\n"
     ]
    },
    {
     "name": "stdout",
     "output_type": "stream",
     "text": [
      "SCORE ACCURACY :                                                                  \n",
      "0.9163288312701888                                                                \n",
      "  8%|▊         | 8/100 [02:05<23:17, 15.19s/trial, best loss: -0.9166106618683201]"
     ]
    },
    {
     "name": "stderr",
     "output_type": "stream",
     "text": [
      "`eval_metric` in `fit` method is deprecated for better compatibility with scikit-learn, use `eval_metric` in constructor or`set_params` instead.\n",
      "\n",
      "`early_stopping_rounds` in `fit` method is deprecated for better compatibility with scikit-learn, use `early_stopping_rounds` in constructor or`set_params` instead.\n",
      "\n"
     ]
    },
    {
     "name": "stdout",
     "output_type": "stream",
     "text": [
      "SCORE ACCURACY :                                                                  \n",
      "0.9164480672924751                                                                \n",
      "  9%|▉         | 9/100 [02:30<27:39, 18.23s/trial, best loss: -0.9166106618683201]"
     ]
    },
    {
     "name": "stderr",
     "output_type": "stream",
     "text": [
      "`eval_metric` in `fit` method is deprecated for better compatibility with scikit-learn, use `eval_metric` in constructor or`set_params` instead.\n",
      "\n",
      "`early_stopping_rounds` in `fit` method is deprecated for better compatibility with scikit-learn, use `early_stopping_rounds` in constructor or`set_params` instead.\n",
      "\n"
     ]
    },
    {
     "name": "stdout",
     "output_type": "stream",
     "text": [
      "SCORE ACCURACY :                                                                  \n",
      "0.9026166887072647                                                                \n",
      " 10%|█         | 10/100 [02:41<23:57, 15.97s/trial, best loss: -0.9166106618683201]"
     ]
    },
    {
     "name": "stderr",
     "output_type": "stream",
     "text": [
      "`eval_metric` in `fit` method is deprecated for better compatibility with scikit-learn, use `eval_metric` in constructor or`set_params` instead.\n",
      "\n",
      "`early_stopping_rounds` in `fit` method is deprecated for better compatibility with scikit-learn, use `early_stopping_rounds` in constructor or`set_params` instead.\n",
      "\n"
     ]
    },
    {
     "name": "stdout",
     "output_type": "stream",
     "text": [
      "SCORE ACCURACY :                                                                   \n",
      "0.9162312745246819                                                                 \n",
      " 11%|█         | 11/100 [02:56<23:21, 15.75s/trial, best loss: -0.9166106618683201]"
     ]
    },
    {
     "name": "stderr",
     "output_type": "stream",
     "text": [
      "`eval_metric` in `fit` method is deprecated for better compatibility with scikit-learn, use `eval_metric` in constructor or`set_params` instead.\n",
      "\n",
      "`early_stopping_rounds` in `fit` method is deprecated for better compatibility with scikit-learn, use `early_stopping_rounds` in constructor or`set_params` instead.\n",
      "\n"
     ]
    },
    {
     "name": "stdout",
     "output_type": "stream",
     "text": [
      "SCORE ACCURACY :                                                                   \n",
      "0.9165456240379821                                                                 \n",
      " 12%|█▏        | 12/100 [03:12<23:01, 15.70s/trial, best loss: -0.9166106618683201]"
     ]
    },
    {
     "name": "stderr",
     "output_type": "stream",
     "text": [
      "`eval_metric` in `fit` method is deprecated for better compatibility with scikit-learn, use `eval_metric` in constructor or`set_params` instead.\n",
      "\n",
      "`early_stopping_rounds` in `fit` method is deprecated for better compatibility with scikit-learn, use `early_stopping_rounds` in constructor or`set_params` instead.\n",
      "\n"
     ]
    },
    {
     "name": "stdout",
     "output_type": "stream",
     "text": [
      "SCORE ACCURACY :                                                                   \n",
      "0.9192880525505669                                                                 \n",
      " 13%|█▎        | 13/100 [03:40<28:18, 19.53s/trial, best loss: -0.9192880525505669]"
     ]
    },
    {
     "name": "stderr",
     "output_type": "stream",
     "text": [
      "`eval_metric` in `fit` method is deprecated for better compatibility with scikit-learn, use `eval_metric` in constructor or`set_params` instead.\n",
      "\n",
      "`early_stopping_rounds` in `fit` method is deprecated for better compatibility with scikit-learn, use `early_stopping_rounds` in constructor or`set_params` instead.\n",
      "\n"
     ]
    },
    {
     "name": "stdout",
     "output_type": "stream",
     "text": [
      "SCORE ACCURACY :                                                                   \n",
      "0.9032453877338652                                                                 \n",
      " 14%|█▍        | 14/100 [03:50<23:52, 16.66s/trial, best loss: -0.9192880525505669]"
     ]
    },
    {
     "name": "stderr",
     "output_type": "stream",
     "text": [
      "`eval_metric` in `fit` method is deprecated for better compatibility with scikit-learn, use `eval_metric` in constructor or`set_params` instead.\n",
      "\n",
      "`early_stopping_rounds` in `fit` method is deprecated for better compatibility with scikit-learn, use `early_stopping_rounds` in constructor or`set_params` instead.\n",
      "\n"
     ]
    },
    {
     "name": "stdout",
     "output_type": "stream",
     "text": [
      "SCORE ACCURACY :                                                                   \n",
      "0.9143885359984391                                                                 \n",
      " 15%|█▌        | 15/100 [04:05<22:52, 16.14s/trial, best loss: -0.9192880525505669]"
     ]
    },
    {
     "name": "stderr",
     "output_type": "stream",
     "text": [
      "`eval_metric` in `fit` method is deprecated for better compatibility with scikit-learn, use `eval_metric` in constructor or`set_params` instead.\n",
      "\n",
      "`early_stopping_rounds` in `fit` method is deprecated for better compatibility with scikit-learn, use `early_stopping_rounds` in constructor or`set_params` instead.\n",
      "\n"
     ]
    },
    {
     "name": "stdout",
     "output_type": "stream",
     "text": [
      "SCORE ACCURACY :                                                                   \n",
      "0.9192880525505669                                                                 \n",
      " 16%|█▌        | 16/100 [04:43<31:39, 22.62s/trial, best loss: -0.9192880525505669]"
     ]
    },
    {
     "name": "stderr",
     "output_type": "stream",
     "text": [
      "`eval_metric` in `fit` method is deprecated for better compatibility with scikit-learn, use `eval_metric` in constructor or`set_params` instead.\n",
      "\n",
      "`early_stopping_rounds` in `fit` method is deprecated for better compatibility with scikit-learn, use `early_stopping_rounds` in constructor or`set_params` instead.\n",
      "\n"
     ]
    },
    {
     "name": "stdout",
     "output_type": "stream",
     "text": [
      "SCORE ACCURACY :                                                                   \n",
      "0.9028876796670063                                                                 \n",
      " 17%|█▋        | 17/100 [04:55<26:54, 19.45s/trial, best loss: -0.9192880525505669]"
     ]
    },
    {
     "name": "stderr",
     "output_type": "stream",
     "text": [
      "`eval_metric` in `fit` method is deprecated for better compatibility with scikit-learn, use `eval_metric` in constructor or`set_params` instead.\n",
      "\n",
      "`early_stopping_rounds` in `fit` method is deprecated for better compatibility with scikit-learn, use `early_stopping_rounds` in constructor or`set_params` instead.\n",
      "\n"
     ]
    },
    {
     "name": "stdout",
     "output_type": "stream",
     "text": [
      "SCORE ACCURACY :                                                                   \n",
      "0.9094781798079216                                                                 \n",
      " 18%|█▊        | 18/100 [05:10<24:33, 17.97s/trial, best loss: -0.9192880525505669]"
     ]
    },
    {
     "name": "stderr",
     "output_type": "stream",
     "text": [
      "`eval_metric` in `fit` method is deprecated for better compatibility with scikit-learn, use `eval_metric` in constructor or`set_params` instead.\n",
      "\n",
      "`early_stopping_rounds` in `fit` method is deprecated for better compatibility with scikit-learn, use `early_stopping_rounds` in constructor or`set_params` instead.\n",
      "\n"
     ]
    },
    {
     "name": "stdout",
     "output_type": "stream",
     "text": [
      "SCORE ACCURACY :                                                                   \n",
      "0.9162637934398509                                                                 \n",
      " 19%|█▉        | 19/100 [05:28<24:14, 17.96s/trial, best loss: -0.9192880525505669]"
     ]
    },
    {
     "name": "stderr",
     "output_type": "stream",
     "text": [
      "`eval_metric` in `fit` method is deprecated for better compatibility with scikit-learn, use `eval_metric` in constructor or`set_params` instead.\n",
      "\n",
      "`early_stopping_rounds` in `fit` method is deprecated for better compatibility with scikit-learn, use `early_stopping_rounds` in constructor or`set_params` instead.\n",
      "\n"
     ]
    },
    {
     "name": "stdout",
     "output_type": "stream",
     "text": [
      "SCORE ACCURACY :                                                                   \n",
      "0.8937390248661304                                                                 \n",
      " 20%|██        | 20/100 [05:40<21:42, 16.28s/trial, best loss: -0.9192880525505669]"
     ]
    },
    {
     "name": "stderr",
     "output_type": "stream",
     "text": [
      "`eval_metric` in `fit` method is deprecated for better compatibility with scikit-learn, use `eval_metric` in constructor or`set_params` instead.\n",
      "\n",
      "`early_stopping_rounds` in `fit` method is deprecated for better compatibility with scikit-learn, use `early_stopping_rounds` in constructor or`set_params` instead.\n",
      "\n"
     ]
    },
    {
     "name": "stdout",
     "output_type": "stream",
     "text": [
      "SCORE ACCURACY :                                                                   \n",
      "0.9192338543586186                                                                 \n",
      " 21%|██        | 21/100 [06:10<26:41, 20.27s/trial, best loss: -0.9192880525505669]"
     ]
    },
    {
     "name": "stderr",
     "output_type": "stream",
     "text": [
      "`eval_metric` in `fit` method is deprecated for better compatibility with scikit-learn, use `eval_metric` in constructor or`set_params` instead.\n",
      "\n",
      "`early_stopping_rounds` in `fit` method is deprecated for better compatibility with scikit-learn, use `early_stopping_rounds` in constructor or`set_params` instead.\n",
      "\n"
     ]
    },
    {
     "name": "stdout",
     "output_type": "stream",
     "text": [
      "SCORE ACCURACY :                                                                   \n",
      "0.9192772129121772                                                                 \n",
      " 22%|██▏       | 22/100 [06:45<32:27, 24.96s/trial, best loss: -0.9192880525505669]"
     ]
    },
    {
     "name": "stderr",
     "output_type": "stream",
     "text": [
      "`eval_metric` in `fit` method is deprecated for better compatibility with scikit-learn, use `eval_metric` in constructor or`set_params` instead.\n",
      "\n",
      "`early_stopping_rounds` in `fit` method is deprecated for better compatibility with scikit-learn, use `early_stopping_rounds` in constructor or`set_params` instead.\n",
      "\n"
     ]
    },
    {
     "name": "stdout",
     "output_type": "stream",
     "text": [
      "SCORE ACCURACY :                                                                   \n",
      "0.8935547510135062                                                                 \n",
      " 23%|██▎       | 23/100 [06:55<26:16, 20.47s/trial, best loss: -0.9192880525505669]"
     ]
    },
    {
     "name": "stderr",
     "output_type": "stream",
     "text": [
      "`eval_metric` in `fit` method is deprecated for better compatibility with scikit-learn, use `eval_metric` in constructor or`set_params` instead.\n",
      "\n",
      "`early_stopping_rounds` in `fit` method is deprecated for better compatibility with scikit-learn, use `early_stopping_rounds` in constructor or`set_params` instead.\n",
      "\n"
     ]
    },
    {
     "name": "stdout",
     "output_type": "stream",
     "text": [
      "SCORE ACCURACY :                                                                   \n",
      "0.9192230147202289                                                                 \n",
      " 24%|██▍       | 24/100 [07:23<28:44, 22.70s/trial, best loss: -0.9192880525505669]"
     ]
    },
    {
     "name": "stderr",
     "output_type": "stream",
     "text": [
      "`eval_metric` in `fit` method is deprecated for better compatibility with scikit-learn, use `eval_metric` in constructor or`set_params` instead.\n",
      "\n",
      "`early_stopping_rounds` in `fit` method is deprecated for better compatibility with scikit-learn, use `early_stopping_rounds` in constructor or`set_params` instead.\n",
      "\n"
     ]
    },
    {
     "name": "stdout",
     "output_type": "stream",
     "text": [
      "SCORE ACCURACY :                                                                   \n",
      "0.9192446939970083                                                                 \n",
      " 25%|██▌       | 25/100 [07:51<30:14, 24.19s/trial, best loss: -0.9192880525505669]"
     ]
    },
    {
     "name": "stderr",
     "output_type": "stream",
     "text": [
      "`eval_metric` in `fit` method is deprecated for better compatibility with scikit-learn, use `eval_metric` in constructor or`set_params` instead.\n",
      "\n",
      "`early_stopping_rounds` in `fit` method is deprecated for better compatibility with scikit-learn, use `early_stopping_rounds` in constructor or`set_params` instead.\n",
      "\n"
     ]
    },
    {
     "name": "stdout",
     "output_type": "stream",
     "text": [
      "SCORE ACCURACY :                                                                   \n",
      "0.896264660610922                                                                  \n",
      " 26%|██▌       | 26/100 [08:01<24:35, 19.95s/trial, best loss: -0.9192880525505669]"
     ]
    },
    {
     "name": "stderr",
     "output_type": "stream",
     "text": [
      "`eval_metric` in `fit` method is deprecated for better compatibility with scikit-learn, use `eval_metric` in constructor or`set_params` instead.\n",
      "\n",
      "`early_stopping_rounds` in `fit` method is deprecated for better compatibility with scikit-learn, use `early_stopping_rounds` in constructor or`set_params` instead.\n",
      "\n"
     ]
    },
    {
     "name": "stdout",
     "output_type": "stream",
     "text": [
      "SCORE ACCURACY :                                                                   \n",
      "0.9152557070696121                                                                 \n",
      " 27%|██▋       | 27/100 [08:17<22:46, 18.72s/trial, best loss: -0.9192880525505669]"
     ]
    },
    {
     "name": "stderr",
     "output_type": "stream",
     "text": [
      "`eval_metric` in `fit` method is deprecated for better compatibility with scikit-learn, use `eval_metric` in constructor or`set_params` instead.\n",
      "\n",
      "`early_stopping_rounds` in `fit` method is deprecated for better compatibility with scikit-learn, use `early_stopping_rounds` in constructor or`set_params` instead.\n",
      "\n"
     ]
    },
    {
     "name": "stdout",
     "output_type": "stream",
     "text": [
      "SCORE ACCURACY :                                                                   \n",
      "0.9192230147202289                                                                 \n",
      " 28%|██▊       | 28/100 [08:51<28:03, 23.38s/trial, best loss: -0.9192880525505669]"
     ]
    },
    {
     "name": "stderr",
     "output_type": "stream",
     "text": [
      "`eval_metric` in `fit` method is deprecated for better compatibility with scikit-learn, use `eval_metric` in constructor or`set_params` instead.\n",
      "\n",
      "`early_stopping_rounds` in `fit` method is deprecated for better compatibility with scikit-learn, use `early_stopping_rounds` in constructor or`set_params` instead.\n",
      "\n"
     ]
    },
    {
     "name": "stdout",
     "output_type": "stream",
     "text": [
      "SCORE ACCURACY :                                                                   \n",
      "0.9193097318273462                                                                 \n",
      " 29%|██▉       | 29/100 [09:19<29:23, 24.83s/trial, best loss: -0.9193097318273462]"
     ]
    },
    {
     "name": "stderr",
     "output_type": "stream",
     "text": [
      "`eval_metric` in `fit` method is deprecated for better compatibility with scikit-learn, use `eval_metric` in constructor or`set_params` instead.\n",
      "\n",
      "`early_stopping_rounds` in `fit` method is deprecated for better compatibility with scikit-learn, use `early_stopping_rounds` in constructor or`set_params` instead.\n",
      "\n"
     ]
    },
    {
     "name": "stdout",
     "output_type": "stream",
     "text": [
      "SCORE ACCURACY :                                                                   \n",
      "0.9193314111041255                                                                 \n",
      " 30%|███       | 30/100 [09:48<30:08, 25.84s/trial, best loss: -0.9193314111041255]"
     ]
    },
    {
     "name": "stderr",
     "output_type": "stream",
     "text": [
      "`eval_metric` in `fit` method is deprecated for better compatibility with scikit-learn, use `eval_metric` in constructor or`set_params` instead.\n",
      "\n",
      "`early_stopping_rounds` in `fit` method is deprecated for better compatibility with scikit-learn, use `early_stopping_rounds` in constructor or`set_params` instead.\n",
      "\n"
     ]
    },
    {
     "name": "stdout",
     "output_type": "stream",
     "text": [
      "SCORE ACCURACY :                                                                   \n",
      "0.9193639300192945                                                                 \n",
      " 31%|███       | 31/100 [10:16<30:29, 26.52s/trial, best loss: -0.9193639300192945]"
     ]
    },
    {
     "name": "stderr",
     "output_type": "stream",
     "text": [
      "`eval_metric` in `fit` method is deprecated for better compatibility with scikit-learn, use `eval_metric` in constructor or`set_params` instead.\n",
      "\n",
      "`early_stopping_rounds` in `fit` method is deprecated for better compatibility with scikit-learn, use `early_stopping_rounds` in constructor or`set_params` instead.\n",
      "\n"
     ]
    },
    {
     "name": "stdout",
     "output_type": "stream",
     "text": [
      "SCORE ACCURACY :                                                                   \n",
      "0.9161879159711233                                                                 \n",
      " 32%|███▏      | 32/100 [10:34<27:18, 24.09s/trial, best loss: -0.9193639300192945]"
     ]
    },
    {
     "name": "stderr",
     "output_type": "stream",
     "text": [
      "`eval_metric` in `fit` method is deprecated for better compatibility with scikit-learn, use `eval_metric` in constructor or`set_params` instead.\n",
      "\n",
      "`early_stopping_rounds` in `fit` method is deprecated for better compatibility with scikit-learn, use `early_stopping_rounds` in constructor or`set_params` instead.\n",
      "\n"
     ]
    },
    {
     "name": "stdout",
     "output_type": "stream",
     "text": [
      "SCORE ACCURACY :                                                                   \n",
      "0.9192988921889566                                                                 \n",
      " 33%|███▎      | 33/100 [11:05<29:07, 26.08s/trial, best loss: -0.9193639300192945]"
     ]
    },
    {
     "name": "stderr",
     "output_type": "stream",
     "text": [
      "`eval_metric` in `fit` method is deprecated for better compatibility with scikit-learn, use `eval_metric` in constructor or`set_params` instead.\n",
      "\n",
      "`early_stopping_rounds` in `fit` method is deprecated for better compatibility with scikit-learn, use `early_stopping_rounds` in constructor or`set_params` instead.\n",
      "\n"
     ]
    },
    {
     "name": "stdout",
     "output_type": "stream",
     "text": [
      "SCORE ACCURACY :                                                                   \n",
      "0.9161879159711233                                                                 \n",
      " 34%|███▍      | 34/100 [11:21<25:16, 22.98s/trial, best loss: -0.9193639300192945]"
     ]
    },
    {
     "name": "stderr",
     "output_type": "stream",
     "text": [
      "`eval_metric` in `fit` method is deprecated for better compatibility with scikit-learn, use `eval_metric` in constructor or`set_params` instead.\n",
      "\n",
      "`early_stopping_rounds` in `fit` method is deprecated for better compatibility with scikit-learn, use `early_stopping_rounds` in constructor or`set_params` instead.\n",
      "\n"
     ]
    },
    {
     "name": "stdout",
     "output_type": "stream",
     "text": [
      "SCORE ACCURACY :                                                                   \n",
      "0.9011966960782188                                                                 \n",
      " 35%|███▌      | 35/100 [11:31<20:40, 19.09s/trial, best loss: -0.9193639300192945]"
     ]
    },
    {
     "name": "stderr",
     "output_type": "stream",
     "text": [
      "`eval_metric` in `fit` method is deprecated for better compatibility with scikit-learn, use `eval_metric` in constructor or`set_params` instead.\n",
      "\n",
      "`early_stopping_rounds` in `fit` method is deprecated for better compatibility with scikit-learn, use `early_stopping_rounds` in constructor or`set_params` instead.\n",
      "\n"
     ]
    },
    {
     "name": "stdout",
     "output_type": "stream",
     "text": [
      "SCORE ACCURACY :                                                                   \n",
      "0.9163179916317992                                                                 \n",
      " 36%|███▌      | 36/100 [11:46<19:18, 18.10s/trial, best loss: -0.9193639300192945]"
     ]
    },
    {
     "name": "stderr",
     "output_type": "stream",
     "text": [
      "`eval_metric` in `fit` method is deprecated for better compatibility with scikit-learn, use `eval_metric` in constructor or`set_params` instead.\n",
      "\n",
      "`early_stopping_rounds` in `fit` method is deprecated for better compatibility with scikit-learn, use `early_stopping_rounds` in constructor or`set_params` instead.\n",
      "\n"
     ]
    },
    {
     "name": "stdout",
     "output_type": "stream",
     "text": [
      "SCORE ACCURACY :                                                                   \n",
      "0.9145186116591151                                                                 \n",
      " 37%|███▋      | 37/100 [12:02<18:06, 17.24s/trial, best loss: -0.9193639300192945]"
     ]
    },
    {
     "name": "stderr",
     "output_type": "stream",
     "text": [
      "`eval_metric` in `fit` method is deprecated for better compatibility with scikit-learn, use `eval_metric` in constructor or`set_params` instead.\n",
      "\n",
      "`early_stopping_rounds` in `fit` method is deprecated for better compatibility with scikit-learn, use `early_stopping_rounds` in constructor or`set_params` instead.\n",
      "\n"
     ]
    },
    {
     "name": "stdout",
     "output_type": "stream",
     "text": [
      "SCORE ACCURACY :                                                                   \n",
      "0.9193097318273462                                                                 \n",
      " 38%|███▊      | 38/100 [12:31<21:27, 20.76s/trial, best loss: -0.9193639300192945]"
     ]
    },
    {
     "name": "stderr",
     "output_type": "stream",
     "text": [
      "`eval_metric` in `fit` method is deprecated for better compatibility with scikit-learn, use `eval_metric` in constructor or`set_params` instead.\n",
      "\n",
      "`early_stopping_rounds` in `fit` method is deprecated for better compatibility with scikit-learn, use `early_stopping_rounds` in constructor or`set_params` instead.\n",
      "\n"
     ]
    },
    {
     "name": "stdout",
     "output_type": "stream",
     "text": [
      "SCORE ACCURACY :                                                                   \n",
      "0.9193530903809048                                                                 \n",
      " 39%|███▉      | 39/100 [13:08<26:05, 25.67s/trial, best loss: -0.9193639300192945]"
     ]
    },
    {
     "name": "stderr",
     "output_type": "stream",
     "text": [
      "`eval_metric` in `fit` method is deprecated for better compatibility with scikit-learn, use `eval_metric` in constructor or`set_params` instead.\n",
      "\n",
      "`early_stopping_rounds` in `fit` method is deprecated for better compatibility with scikit-learn, use `early_stopping_rounds` in constructor or`set_params` instead.\n",
      "\n"
     ]
    },
    {
     "name": "stdout",
     "output_type": "stream",
     "text": [
      "SCORE ACCURACY :                                                                   \n",
      "0.9164047087389164                                                                 \n",
      " 40%|████      | 40/100 [13:24<22:57, 22.97s/trial, best loss: -0.9193639300192945]"
     ]
    },
    {
     "name": "stderr",
     "output_type": "stream",
     "text": [
      "`eval_metric` in `fit` method is deprecated for better compatibility with scikit-learn, use `eval_metric` in constructor or`set_params` instead.\n",
      "\n",
      "`early_stopping_rounds` in `fit` method is deprecated for better compatibility with scikit-learn, use `early_stopping_rounds` in constructor or`set_params` instead.\n",
      "\n"
     ]
    },
    {
     "name": "stdout",
     "output_type": "stream",
     "text": [
      "SCORE ACCURACY :                                                                   \n",
      "0.9162421141630716                                                                 \n",
      " 41%|████      | 41/100 [13:41<20:46, 21.12s/trial, best loss: -0.9193639300192945]"
     ]
    },
    {
     "name": "stderr",
     "output_type": "stream",
     "text": [
      "`eval_metric` in `fit` method is deprecated for better compatibility with scikit-learn, use `eval_metric` in constructor or`set_params` instead.\n",
      "\n",
      "`early_stopping_rounds` in `fit` method is deprecated for better compatibility with scikit-learn, use `early_stopping_rounds` in constructor or`set_params` instead.\n",
      "\n"
     ]
    },
    {
     "name": "stdout",
     "output_type": "stream",
     "text": [
      "SCORE ACCURACY :                                                                   \n",
      "0.9161770763327335                                                                 \n",
      " 42%|████▏     | 42/100 [13:59<19:28, 20.14s/trial, best loss: -0.9193639300192945]"
     ]
    },
    {
     "name": "stderr",
     "output_type": "stream",
     "text": [
      "`eval_metric` in `fit` method is deprecated for better compatibility with scikit-learn, use `eval_metric` in constructor or`set_params` instead.\n",
      "\n",
      "`early_stopping_rounds` in `fit` method is deprecated for better compatibility with scikit-learn, use `early_stopping_rounds` in constructor or`set_params` instead.\n",
      "\n"
     ]
    },
    {
     "name": "stdout",
     "output_type": "stream",
     "text": [
      "SCORE ACCURACY :                                                                   \n",
      "0.9161879159711233                                                                 \n",
      " 43%|████▎     | 43/100 [14:18<18:42, 19.69s/trial, best loss: -0.9193639300192945]"
     ]
    },
    {
     "name": "stderr",
     "output_type": "stream",
     "text": [
      "`eval_metric` in `fit` method is deprecated for better compatibility with scikit-learn, use `eval_metric` in constructor or`set_params` instead.\n",
      "\n",
      "`early_stopping_rounds` in `fit` method is deprecated for better compatibility with scikit-learn, use `early_stopping_rounds` in constructor or`set_params` instead.\n",
      "\n"
     ]
    },
    {
     "name": "stdout",
     "output_type": "stream",
     "text": [
      "SCORE ACCURACY :                                                                   \n",
      "0.9160795195872266                                                                 \n",
      " 44%|████▍     | 44/100 [14:36<17:52, 19.15s/trial, best loss: -0.9193639300192945]"
     ]
    },
    {
     "name": "stderr",
     "output_type": "stream",
     "text": [
      "`eval_metric` in `fit` method is deprecated for better compatibility with scikit-learn, use `eval_metric` in constructor or`set_params` instead.\n",
      "\n",
      "`early_stopping_rounds` in `fit` method is deprecated for better compatibility with scikit-learn, use `early_stopping_rounds` in constructor or`set_params` instead.\n",
      "\n"
     ]
    },
    {
     "name": "stdout",
     "output_type": "stream",
     "text": [
      "SCORE ACCURACY :                                                                   \n",
      "0.902931038220565                                                                  \n",
      " 45%|████▌     | 45/100 [14:48<15:47, 17.23s/trial, best loss: -0.9193639300192945]"
     ]
    },
    {
     "name": "stderr",
     "output_type": "stream",
     "text": [
      "`eval_metric` in `fit` method is deprecated for better compatibility with scikit-learn, use `eval_metric` in constructor or`set_params` instead.\n",
      "\n",
      "`early_stopping_rounds` in `fit` method is deprecated for better compatibility with scikit-learn, use `early_stopping_rounds` in constructor or`set_params` instead.\n",
      "\n"
     ]
    },
    {
     "name": "stdout",
     "output_type": "stream",
     "text": [
      "SCORE ACCURACY :                                                                   \n",
      "0.9046111821709628                                                                 \n",
      " 46%|████▌     | 46/100 [15:00<13:57, 15.51s/trial, best loss: -0.9193639300192945]"
     ]
    },
    {
     "name": "stderr",
     "output_type": "stream",
     "text": [
      "`eval_metric` in `fit` method is deprecated for better compatibility with scikit-learn, use `eval_metric` in constructor or`set_params` instead.\n",
      "\n",
      "`early_stopping_rounds` in `fit` method is deprecated for better compatibility with scikit-learn, use `early_stopping_rounds` in constructor or`set_params` instead.\n",
      "\n"
     ]
    },
    {
     "name": "stdout",
     "output_type": "stream",
     "text": [
      "SCORE ACCURACY :                                                                   \n",
      "0.9163071519934095                                                                 \n",
      " 47%|████▋     | 47/100 [15:15<13:40, 15.47s/trial, best loss: -0.9193639300192945]"
     ]
    },
    {
     "name": "stderr",
     "output_type": "stream",
     "text": [
      "`eval_metric` in `fit` method is deprecated for better compatibility with scikit-learn, use `eval_metric` in constructor or`set_params` instead.\n",
      "\n",
      "`early_stopping_rounds` in `fit` method is deprecated for better compatibility with scikit-learn, use `early_stopping_rounds` in constructor or`set_params` instead.\n",
      "\n"
     ]
    },
    {
     "name": "stdout",
     "output_type": "stream",
     "text": [
      "SCORE ACCURACY :                                                                   \n",
      "0.9193314111041255                                                                 \n",
      " 48%|████▊     | 48/100 [15:43<16:34, 19.13s/trial, best loss: -0.9193639300192945]"
     ]
    },
    {
     "name": "stderr",
     "output_type": "stream",
     "text": [
      "`eval_metric` in `fit` method is deprecated for better compatibility with scikit-learn, use `eval_metric` in constructor or`set_params` instead.\n",
      "\n",
      "`early_stopping_rounds` in `fit` method is deprecated for better compatibility with scikit-learn, use `early_stopping_rounds` in constructor or`set_params` instead.\n",
      "\n"
     ]
    },
    {
     "name": "stdout",
     "output_type": "stream",
     "text": [
      "SCORE ACCURACY :                                                                   \n",
      "0.9164480672924751                                                                 \n",
      " 49%|████▉     | 49/100 [15:58<15:19, 18.03s/trial, best loss: -0.9193639300192945]"
     ]
    },
    {
     "name": "stderr",
     "output_type": "stream",
     "text": [
      "`eval_metric` in `fit` method is deprecated for better compatibility with scikit-learn, use `eval_metric` in constructor or`set_params` instead.\n",
      "\n",
      "`early_stopping_rounds` in `fit` method is deprecated for better compatibility with scikit-learn, use `early_stopping_rounds` in constructor or`set_params` instead.\n",
      "\n"
     ]
    },
    {
     "name": "stdout",
     "output_type": "stream",
     "text": [
      "SCORE ACCURACY :                                                                   \n",
      "0.8956468012227112                                                                 \n",
      " 50%|█████     | 50/100 [16:08<12:52, 15.45s/trial, best loss: -0.9193639300192945]"
     ]
    },
    {
     "name": "stderr",
     "output_type": "stream",
     "text": [
      "`eval_metric` in `fit` method is deprecated for better compatibility with scikit-learn, use `eval_metric` in constructor or`set_params` instead.\n",
      "\n",
      "`early_stopping_rounds` in `fit` method is deprecated for better compatibility with scikit-learn, use `early_stopping_rounds` in constructor or`set_params` instead.\n",
      "\n"
     ]
    },
    {
     "name": "stdout",
     "output_type": "stream",
     "text": [
      "SCORE ACCURACY :                                                                   \n",
      "0.9192988921889566                                                                 \n",
      " 51%|█████     | 51/100 [16:36<15:52, 19.44s/trial, best loss: -0.9193639300192945]"
     ]
    },
    {
     "name": "stderr",
     "output_type": "stream",
     "text": [
      "`eval_metric` in `fit` method is deprecated for better compatibility with scikit-learn, use `eval_metric` in constructor or`set_params` instead.\n",
      "\n",
      "`early_stopping_rounds` in `fit` method is deprecated for better compatibility with scikit-learn, use `early_stopping_rounds` in constructor or`set_params` instead.\n",
      "\n"
     ]
    },
    {
     "name": "stdout",
     "output_type": "stream",
     "text": [
      "SCORE ACCURACY :                                                                   \n",
      "0.9192230147202289                                                                 \n",
      " 52%|█████▏    | 52/100 [17:11<19:08, 23.93s/trial, best loss: -0.9193639300192945]"
     ]
    },
    {
     "name": "stderr",
     "output_type": "stream",
     "text": [
      "`eval_metric` in `fit` method is deprecated for better compatibility with scikit-learn, use `eval_metric` in constructor or`set_params` instead.\n",
      "\n",
      "`early_stopping_rounds` in `fit` method is deprecated for better compatibility with scikit-learn, use `early_stopping_rounds` in constructor or`set_params` instead.\n",
      "\n"
     ]
    },
    {
     "name": "stdout",
     "output_type": "stream",
     "text": [
      "SCORE ACCURACY :                                                                   \n",
      "0.9160795195872266                                                                 \n",
      " 53%|█████▎    | 53/100 [17:26<16:45, 21.38s/trial, best loss: -0.9193639300192945]"
     ]
    },
    {
     "name": "stderr",
     "output_type": "stream",
     "text": [
      "`eval_metric` in `fit` method is deprecated for better compatibility with scikit-learn, use `eval_metric` in constructor or`set_params` instead.\n",
      "\n",
      "`early_stopping_rounds` in `fit` method is deprecated for better compatibility with scikit-learn, use `early_stopping_rounds` in constructor or`set_params` instead.\n",
      "\n"
     ]
    },
    {
     "name": "stdout",
     "output_type": "stream",
     "text": [
      "SCORE ACCURACY :                                                                   \n",
      "0.9193747696576842                                                                 \n",
      " 54%|█████▍    | 54/100 [17:55<18:05, 23.59s/trial, best loss: -0.9193747696576842]"
     ]
    },
    {
     "name": "stderr",
     "output_type": "stream",
     "text": [
      "`eval_metric` in `fit` method is deprecated for better compatibility with scikit-learn, use `eval_metric` in constructor or`set_params` instead.\n",
      "\n",
      "`early_stopping_rounds` in `fit` method is deprecated for better compatibility with scikit-learn, use `early_stopping_rounds` in constructor or`set_params` instead.\n",
      "\n"
     ]
    },
    {
     "name": "stdout",
     "output_type": "stream",
     "text": [
      "SCORE ACCURACY :                                                                   \n",
      "0.8967307650616776                                                                 \n",
      " 55%|█████▌    | 55/100 [18:05<14:40, 19.56s/trial, best loss: -0.9193747696576842]"
     ]
    },
    {
     "name": "stderr",
     "output_type": "stream",
     "text": [
      "`eval_metric` in `fit` method is deprecated for better compatibility with scikit-learn, use `eval_metric` in constructor or`set_params` instead.\n",
      "\n",
      "`early_stopping_rounds` in `fit` method is deprecated for better compatibility with scikit-learn, use `early_stopping_rounds` in constructor or`set_params` instead.\n",
      "\n"
     ]
    },
    {
     "name": "stdout",
     "output_type": "stream",
     "text": [
      "SCORE ACCURACY :                                                                   \n",
      "0.9146920458733496                                                                 \n",
      " 56%|█████▌    | 56/100 [18:21<13:35, 18.53s/trial, best loss: -0.9193747696576842]"
     ]
    },
    {
     "name": "stderr",
     "output_type": "stream",
     "text": [
      "`eval_metric` in `fit` method is deprecated for better compatibility with scikit-learn, use `eval_metric` in constructor or`set_params` instead.\n",
      "\n",
      "`early_stopping_rounds` in `fit` method is deprecated for better compatibility with scikit-learn, use `early_stopping_rounds` in constructor or`set_params` instead.\n",
      "\n"
     ]
    },
    {
     "name": "stdout",
     "output_type": "stream",
     "text": [
      "SCORE ACCURACY :                                                                   \n",
      "0.8911266720142216                                                                 \n",
      " 57%|█████▋    | 57/100 [18:31<11:27, 16.00s/trial, best loss: -0.9193747696576842]"
     ]
    },
    {
     "name": "stderr",
     "output_type": "stream",
     "text": [
      "`eval_metric` in `fit` method is deprecated for better compatibility with scikit-learn, use `eval_metric` in constructor or`set_params` instead.\n",
      "\n",
      "`early_stopping_rounds` in `fit` method is deprecated for better compatibility with scikit-learn, use `early_stopping_rounds` in constructor or`set_params` instead.\n",
      "\n"
     ]
    },
    {
     "name": "stdout",
     "output_type": "stream",
     "text": [
      "SCORE ACCURACY :                                                                   \n",
      "0.9164047087389164                                                                 \n",
      " 58%|█████▊    | 58/100 [18:53<12:22, 17.67s/trial, best loss: -0.9193747696576842]"
     ]
    },
    {
     "name": "stderr",
     "output_type": "stream",
     "text": [
      "`eval_metric` in `fit` method is deprecated for better compatibility with scikit-learn, use `eval_metric` in constructor or`set_params` instead.\n",
      "\n",
      "`early_stopping_rounds` in `fit` method is deprecated for better compatibility with scikit-learn, use `early_stopping_rounds` in constructor or`set_params` instead.\n",
      "\n"
     ]
    },
    {
     "name": "stdout",
     "output_type": "stream",
     "text": [
      "SCORE ACCURACY :                                                                   \n",
      "0.916643180783489                                                                  \n",
      " 59%|█████▉    | 59/100 [19:10<11:54, 17.43s/trial, best loss: -0.9193747696576842]"
     ]
    },
    {
     "name": "stderr",
     "output_type": "stream",
     "text": [
      "`eval_metric` in `fit` method is deprecated for better compatibility with scikit-learn, use `eval_metric` in constructor or`set_params` instead.\n",
      "\n",
      "`early_stopping_rounds` in `fit` method is deprecated for better compatibility with scikit-learn, use `early_stopping_rounds` in constructor or`set_params` instead.\n",
      "\n"
     ]
    },
    {
     "name": "stdout",
     "output_type": "stream",
     "text": [
      "SCORE ACCURACY :                                                                   \n",
      "0.8936631473974028                                                                 \n",
      " 60%|██████    | 60/100 [19:19<10:02, 15.07s/trial, best loss: -0.9193747696576842]"
     ]
    },
    {
     "name": "stderr",
     "output_type": "stream",
     "text": [
      "`eval_metric` in `fit` method is deprecated for better compatibility with scikit-learn, use `eval_metric` in constructor or`set_params` instead.\n",
      "\n",
      "`early_stopping_rounds` in `fit` method is deprecated for better compatibility with scikit-learn, use `early_stopping_rounds` in constructor or`set_params` instead.\n",
      "\n"
     ]
    },
    {
     "name": "stdout",
     "output_type": "stream",
     "text": [
      "SCORE ACCURACY :                                                                   \n",
      "0.9160686799488369                                                                 \n",
      " 61%|██████    | 61/100 [19:35<09:54, 15.26s/trial, best loss: -0.9193747696576842]"
     ]
    },
    {
     "name": "stderr",
     "output_type": "stream",
     "text": [
      "`eval_metric` in `fit` method is deprecated for better compatibility with scikit-learn, use `eval_metric` in constructor or`set_params` instead.\n",
      "\n",
      "`early_stopping_rounds` in `fit` method is deprecated for better compatibility with scikit-learn, use `early_stopping_rounds` in constructor or`set_params` instead.\n",
      "\n"
     ]
    },
    {
     "name": "stdout",
     "output_type": "stream",
     "text": [
      "SCORE ACCURACY :                                                                   \n",
      "0.915743490797147                                                                  \n",
      " 62%|██████▏   | 62/100 [19:50<09:39, 15.24s/trial, best loss: -0.9193747696576842]"
     ]
    },
    {
     "name": "stderr",
     "output_type": "stream",
     "text": [
      "`eval_metric` in `fit` method is deprecated for better compatibility with scikit-learn, use `eval_metric` in constructor or`set_params` instead.\n",
      "\n",
      "`early_stopping_rounds` in `fit` method is deprecated for better compatibility with scikit-learn, use `early_stopping_rounds` in constructor or`set_params` instead.\n",
      "\n"
     ]
    },
    {
     "name": "stdout",
     "output_type": "stream",
     "text": [
      "SCORE ACCURACY :                                                                   \n",
      "0.9032562273722549                                                                 \n",
      " 63%|██████▎   | 63/100 [20:00<08:24, 13.64s/trial, best loss: -0.9193747696576842]"
     ]
    },
    {
     "name": "stderr",
     "output_type": "stream",
     "text": [
      "`eval_metric` in `fit` method is deprecated for better compatibility with scikit-learn, use `eval_metric` in constructor or`set_params` instead.\n",
      "\n",
      "`early_stopping_rounds` in `fit` method is deprecated for better compatibility with scikit-learn, use `early_stopping_rounds` in constructor or`set_params` instead.\n",
      "\n"
     ]
    },
    {
     "name": "stdout",
     "output_type": "stream",
     "text": [
      "SCORE ACCURACY :                                                                   \n",
      "0.9193530903809048                                                                 \n",
      " 64%|██████▍   | 64/100 [20:30<11:01, 18.36s/trial, best loss: -0.9193747696576842]"
     ]
    },
    {
     "name": "stderr",
     "output_type": "stream",
     "text": [
      "`eval_metric` in `fit` method is deprecated for better compatibility with scikit-learn, use `eval_metric` in constructor or`set_params` instead.\n",
      "\n",
      "`early_stopping_rounds` in `fit` method is deprecated for better compatibility with scikit-learn, use `early_stopping_rounds` in constructor or`set_params` instead.\n",
      "\n"
     ]
    },
    {
     "name": "stdout",
     "output_type": "stream",
     "text": [
      "SCORE ACCURACY :                                                                   \n",
      "0.9145944891278427                                                                 \n",
      " 65%|██████▌   | 65/100 [20:49<10:52, 18.65s/trial, best loss: -0.9193747696576842]"
     ]
    },
    {
     "name": "stderr",
     "output_type": "stream",
     "text": [
      "`eval_metric` in `fit` method is deprecated for better compatibility with scikit-learn, use `eval_metric` in constructor or`set_params` instead.\n",
      "\n",
      "`early_stopping_rounds` in `fit` method is deprecated for better compatibility with scikit-learn, use `early_stopping_rounds` in constructor or`set_params` instead.\n",
      "\n"
     ]
    },
    {
     "name": "stdout",
     "output_type": "stream",
     "text": [
      "SCORE ACCURACY :                                                                   \n",
      "0.9192988921889566                                                                 \n",
      " 66%|██████▌   | 66/100 [21:24<13:17, 23.47s/trial, best loss: -0.9193747696576842]"
     ]
    },
    {
     "name": "stderr",
     "output_type": "stream",
     "text": [
      "`eval_metric` in `fit` method is deprecated for better compatibility with scikit-learn, use `eval_metric` in constructor or`set_params` instead.\n",
      "\n",
      "`early_stopping_rounds` in `fit` method is deprecated for better compatibility with scikit-learn, use `early_stopping_rounds` in constructor or`set_params` instead.\n",
      "\n"
     ]
    },
    {
     "name": "stdout",
     "output_type": "stream",
     "text": [
      "SCORE ACCURACY :                                                                   \n",
      "0.9193530903809048                                                                 \n",
      " 67%|██████▋   | 67/100 [21:56<14:18, 26.03s/trial, best loss: -0.9193747696576842]"
     ]
    },
    {
     "name": "stderr",
     "output_type": "stream",
     "text": [
      "`eval_metric` in `fit` method is deprecated for better compatibility with scikit-learn, use `eval_metric` in constructor or`set_params` instead.\n",
      "\n",
      "`early_stopping_rounds` in `fit` method is deprecated for better compatibility with scikit-learn, use `early_stopping_rounds` in constructor or`set_params` instead.\n",
      "\n"
     ]
    },
    {
     "name": "stdout",
     "output_type": "stream",
     "text": [
      "SCORE ACCURACY :                                                                   \n",
      "0.9192446939970083                                                                 \n",
      " 68%|██████▊   | 68/100 [22:25<14:20, 26.89s/trial, best loss: -0.9193747696576842]"
     ]
    },
    {
     "name": "stderr",
     "output_type": "stream",
     "text": [
      "`eval_metric` in `fit` method is deprecated for better compatibility with scikit-learn, use `eval_metric` in constructor or`set_params` instead.\n",
      "\n",
      "`early_stopping_rounds` in `fit` method is deprecated for better compatibility with scikit-learn, use `early_stopping_rounds` in constructor or`set_params` instead.\n",
      "\n"
     ]
    },
    {
     "name": "stdout",
     "output_type": "stream",
     "text": [
      "SCORE ACCURACY :                                                                   \n",
      "0.9192555336353979                                                                 \n",
      " 69%|██████▉   | 69/100 [22:53<14:10, 27.42s/trial, best loss: -0.9193747696576842]"
     ]
    },
    {
     "name": "stderr",
     "output_type": "stream",
     "text": [
      "`eval_metric` in `fit` method is deprecated for better compatibility with scikit-learn, use `eval_metric` in constructor or`set_params` instead.\n",
      "\n",
      "`early_stopping_rounds` in `fit` method is deprecated for better compatibility with scikit-learn, use `early_stopping_rounds` in constructor or`set_params` instead.\n",
      "\n"
     ]
    },
    {
     "name": "stdout",
     "output_type": "stream",
     "text": [
      "SCORE ACCURACY :                                                                   \n",
      "0.9192446939970083                                                                 \n",
      " 70%|███████   | 70/100 [23:28<14:46, 29.54s/trial, best loss: -0.9193747696576842]"
     ]
    },
    {
     "name": "stderr",
     "output_type": "stream",
     "text": [
      "`eval_metric` in `fit` method is deprecated for better compatibility with scikit-learn, use `eval_metric` in constructor or`set_params` instead.\n",
      "\n",
      "`early_stopping_rounds` in `fit` method is deprecated for better compatibility with scikit-learn, use `early_stopping_rounds` in constructor or`set_params` instead.\n",
      "\n"
     ]
    },
    {
     "name": "stdout",
     "output_type": "stream",
     "text": [
      "SCORE ACCURACY :                                                                   \n",
      "0.9192988921889566                                                                 \n",
      " 71%|███████   | 71/100 [23:56<14:05, 29.15s/trial, best loss: -0.9193747696576842]"
     ]
    },
    {
     "name": "stderr",
     "output_type": "stream",
     "text": [
      "`eval_metric` in `fit` method is deprecated for better compatibility with scikit-learn, use `eval_metric` in constructor or`set_params` instead.\n",
      "\n",
      "`early_stopping_rounds` in `fit` method is deprecated for better compatibility with scikit-learn, use `early_stopping_rounds` in constructor or`set_params` instead.\n",
      "\n"
     ]
    },
    {
     "name": "stdout",
     "output_type": "stream",
     "text": [
      "SCORE ACCURACY :                                                                   \n",
      "0.9192013354434496                                                                 \n",
      " 72%|███████▏  | 72/100 [24:25<13:32, 29.00s/trial, best loss: -0.9193747696576842]"
     ]
    },
    {
     "name": "stderr",
     "output_type": "stream",
     "text": [
      "`eval_metric` in `fit` method is deprecated for better compatibility with scikit-learn, use `eval_metric` in constructor or`set_params` instead.\n",
      "\n",
      "`early_stopping_rounds` in `fit` method is deprecated for better compatibility with scikit-learn, use `early_stopping_rounds` in constructor or`set_params` instead.\n",
      "\n"
     ]
    },
    {
     "name": "stdout",
     "output_type": "stream",
     "text": [
      "SCORE ACCURACY :                                                                   \n",
      "0.9193856092960739                                                                 \n",
      " 73%|███████▎  | 73/100 [24:53<12:58, 28.83s/trial, best loss: -0.9193856092960739]"
     ]
    },
    {
     "name": "stderr",
     "output_type": "stream",
     "text": [
      "`eval_metric` in `fit` method is deprecated for better compatibility with scikit-learn, use `eval_metric` in constructor or`set_params` instead.\n",
      "\n",
      "`early_stopping_rounds` in `fit` method is deprecated for better compatibility with scikit-learn, use `early_stopping_rounds` in constructor or`set_params` instead.\n",
      "\n"
     ]
    },
    {
     "name": "stdout",
     "output_type": "stream",
     "text": [
      "SCORE ACCURACY :                                                                   \n",
      "0.9162529538014612                                                                 \n",
      " 74%|███████▍  | 74/100 [25:15<11:39, 26.91s/trial, best loss: -0.9193856092960739]"
     ]
    },
    {
     "name": "stderr",
     "output_type": "stream",
     "text": [
      "`eval_metric` in `fit` method is deprecated for better compatibility with scikit-learn, use `eval_metric` in constructor or`set_params` instead.\n",
      "\n",
      "`early_stopping_rounds` in `fit` method is deprecated for better compatibility with scikit-learn, use `early_stopping_rounds` in constructor or`set_params` instead.\n",
      "\n"
     ]
    },
    {
     "name": "stdout",
     "output_type": "stream",
     "text": [
      "SCORE ACCURACY :                                                                   \n",
      "0.9163288312701888                                                                 \n",
      " 75%|███████▌  | 75/100 [25:31<09:46, 23.44s/trial, best loss: -0.9193856092960739]"
     ]
    },
    {
     "name": "stderr",
     "output_type": "stream",
     "text": [
      "`eval_metric` in `fit` method is deprecated for better compatibility with scikit-learn, use `eval_metric` in constructor or`set_params` instead.\n",
      "\n",
      "`early_stopping_rounds` in `fit` method is deprecated for better compatibility with scikit-learn, use `early_stopping_rounds` in constructor or`set_params` instead.\n",
      "\n"
     ]
    },
    {
     "name": "stdout",
     "output_type": "stream",
     "text": [
      "SCORE ACCURACY :                                                                   \n",
      "0.9192880525505669                                                                 \n",
      " 76%|███████▌  | 76/100 [25:59<09:55, 24.81s/trial, best loss: -0.9193856092960739]"
     ]
    },
    {
     "name": "stderr",
     "output_type": "stream",
     "text": [
      "`eval_metric` in `fit` method is deprecated for better compatibility with scikit-learn, use `eval_metric` in constructor or`set_params` instead.\n",
      "\n",
      "`early_stopping_rounds` in `fit` method is deprecated for better compatibility with scikit-learn, use `early_stopping_rounds` in constructor or`set_params` instead.\n",
      "\n"
     ]
    },
    {
     "name": "stdout",
     "output_type": "stream",
     "text": [
      "SCORE ACCURACY :                                                                   \n",
      "0.915906085372992                                                                  \n",
      " 77%|███████▋  | 77/100 [26:15<08:30, 22.18s/trial, best loss: -0.9193856092960739]"
     ]
    },
    {
     "name": "stderr",
     "output_type": "stream",
     "text": [
      "`eval_metric` in `fit` method is deprecated for better compatibility with scikit-learn, use `eval_metric` in constructor or`set_params` instead.\n",
      "\n",
      "`early_stopping_rounds` in `fit` method is deprecated for better compatibility with scikit-learn, use `early_stopping_rounds` in constructor or`set_params` instead.\n",
      "\n"
     ]
    },
    {
     "name": "stdout",
     "output_type": "stream",
     "text": [
      "SCORE ACCURACY :                                                                   \n",
      "0.8965139722938843                                                                 \n",
      " 78%|███████▊  | 78/100 [26:24<06:45, 18.41s/trial, best loss: -0.9193856092960739]"
     ]
    },
    {
     "name": "stderr",
     "output_type": "stream",
     "text": [
      "`eval_metric` in `fit` method is deprecated for better compatibility with scikit-learn, use `eval_metric` in constructor or`set_params` instead.\n",
      "\n",
      "`early_stopping_rounds` in `fit` method is deprecated for better compatibility with scikit-learn, use `early_stopping_rounds` in constructor or`set_params` instead.\n",
      "\n"
     ]
    },
    {
     "name": "stdout",
     "output_type": "stream",
     "text": [
      "SCORE ACCURACY :                                                                   \n",
      "0.9166540204218787                                                                 \n",
      " 79%|███████▉  | 79/100 [26:41<06:13, 17.79s/trial, best loss: -0.9193856092960739]"
     ]
    },
    {
     "name": "stderr",
     "output_type": "stream",
     "text": [
      "`eval_metric` in `fit` method is deprecated for better compatibility with scikit-learn, use `eval_metric` in constructor or`set_params` instead.\n",
      "\n",
      "`early_stopping_rounds` in `fit` method is deprecated for better compatibility with scikit-learn, use `early_stopping_rounds` in constructor or`set_params` instead.\n",
      "\n"
     ]
    },
    {
     "name": "stdout",
     "output_type": "stream",
     "text": [
      "SCORE ACCURACY :                                                                   \n",
      "0.9192772129121772                                                                 \n",
      " 80%|████████  | 80/100 [27:22<08:17, 24.89s/trial, best loss: -0.9193856092960739]"
     ]
    },
    {
     "name": "stderr",
     "output_type": "stream",
     "text": [
      "`eval_metric` in `fit` method is deprecated for better compatibility with scikit-learn, use `eval_metric` in constructor or`set_params` instead.\n",
      "\n",
      "`early_stopping_rounds` in `fit` method is deprecated for better compatibility with scikit-learn, use `early_stopping_rounds` in constructor or`set_params` instead.\n",
      "\n"
     ]
    },
    {
     "name": "stdout",
     "output_type": "stream",
     "text": [
      "SCORE ACCURACY :                                                                   \n",
      "0.9164047087389164                                                                 \n",
      " 81%|████████  | 81/100 [27:39<07:04, 22.35s/trial, best loss: -0.9193856092960739]"
     ]
    },
    {
     "name": "stderr",
     "output_type": "stream",
     "text": [
      "`eval_metric` in `fit` method is deprecated for better compatibility with scikit-learn, use `eval_metric` in constructor or`set_params` instead.\n",
      "\n",
      "`early_stopping_rounds` in `fit` method is deprecated for better compatibility with scikit-learn, use `early_stopping_rounds` in constructor or`set_params` instead.\n",
      "\n"
     ]
    },
    {
     "name": "stdout",
     "output_type": "stream",
     "text": [
      "SCORE ACCURACY :                                                                   \n",
      "0.9192446939970083                                                                 \n",
      " 82%|████████▏ | 82/100 [28:08<07:19, 24.43s/trial, best loss: -0.9193856092960739]"
     ]
    },
    {
     "name": "stderr",
     "output_type": "stream",
     "text": [
      "`eval_metric` in `fit` method is deprecated for better compatibility with scikit-learn, use `eval_metric` in constructor or`set_params` instead.\n",
      "\n",
      "`early_stopping_rounds` in `fit` method is deprecated for better compatibility with scikit-learn, use `early_stopping_rounds` in constructor or`set_params` instead.\n",
      "\n"
     ]
    },
    {
     "name": "stdout",
     "output_type": "stream",
     "text": [
      "SCORE ACCURACY :                                                                   \n",
      "0.9192555336353979                                                                 \n",
      " 83%|████████▎ | 83/100 [28:40<07:34, 26.76s/trial, best loss: -0.9193856092960739]"
     ]
    },
    {
     "name": "stderr",
     "output_type": "stream",
     "text": [
      "`eval_metric` in `fit` method is deprecated for better compatibility with scikit-learn, use `eval_metric` in constructor or`set_params` instead.\n",
      "\n",
      "`early_stopping_rounds` in `fit` method is deprecated for better compatibility with scikit-learn, use `early_stopping_rounds` in constructor or`set_params` instead.\n",
      "\n"
     ]
    },
    {
     "name": "stdout",
     "output_type": "stream",
     "text": [
      "SCORE ACCURACY :                                                                   \n",
      "0.9164589069308647                                                                 \n",
      " 84%|████████▍ | 84/100 [28:57<06:22, 23.90s/trial, best loss: -0.9193856092960739]"
     ]
    },
    {
     "name": "stderr",
     "output_type": "stream",
     "text": [
      "`eval_metric` in `fit` method is deprecated for better compatibility with scikit-learn, use `eval_metric` in constructor or`set_params` instead.\n",
      "\n",
      "`early_stopping_rounds` in `fit` method is deprecated for better compatibility with scikit-learn, use `early_stopping_rounds` in constructor or`set_params` instead.\n",
      "\n"
     ]
    },
    {
     "name": "stdout",
     "output_type": "stream",
     "text": [
      "SCORE ACCURACY :                                                                   \n",
      "0.9039716435059726                                                                 \n",
      " 85%|████████▌ | 85/100 [29:20<05:52, 23.47s/trial, best loss: -0.9193856092960739]"
     ]
    },
    {
     "name": "stderr",
     "output_type": "stream",
     "text": [
      "`eval_metric` in `fit` method is deprecated for better compatibility with scikit-learn, use `eval_metric` in constructor or`set_params` instead.\n",
      "\n",
      "`early_stopping_rounds` in `fit` method is deprecated for better compatibility with scikit-learn, use `early_stopping_rounds` in constructor or`set_params` instead.\n",
      "\n"
     ]
    },
    {
     "name": "stdout",
     "output_type": "stream",
     "text": [
      "SCORE ACCURACY :                                                                   \n",
      "0.9019771500422746                                                                 \n",
      " 86%|████████▌ | 86/100 [29:32<04:39, 20.00s/trial, best loss: -0.9193856092960739]"
     ]
    },
    {
     "name": "stderr",
     "output_type": "stream",
     "text": [
      "`eval_metric` in `fit` method is deprecated for better compatibility with scikit-learn, use `eval_metric` in constructor or`set_params` instead.\n",
      "\n",
      "`early_stopping_rounds` in `fit` method is deprecated for better compatibility with scikit-learn, use `early_stopping_rounds` in constructor or`set_params` instead.\n",
      "\n"
     ]
    },
    {
     "name": "stdout",
     "output_type": "stream",
     "text": [
      "SCORE ACCURACY :                                                                   \n",
      "0.9165564636763718                                                                 \n",
      " 87%|████████▋ | 87/100 [29:53<04:23, 20.30s/trial, best loss: -0.9193856092960739]"
     ]
    },
    {
     "name": "stderr",
     "output_type": "stream",
     "text": [
      "`eval_metric` in `fit` method is deprecated for better compatibility with scikit-learn, use `eval_metric` in constructor or`set_params` instead.\n",
      "\n",
      "`early_stopping_rounds` in `fit` method is deprecated for better compatibility with scikit-learn, use `early_stopping_rounds` in constructor or`set_params` instead.\n",
      "\n"
     ]
    },
    {
     "name": "stdout",
     "output_type": "stream",
     "text": [
      "SCORE ACCURACY :                                                                   \n",
      "0.9193205714657359                                                                 \n",
      " 88%|████████▊ | 88/100 [30:24<04:42, 23.56s/trial, best loss: -0.9193856092960739]"
     ]
    },
    {
     "name": "stderr",
     "output_type": "stream",
     "text": [
      "`eval_metric` in `fit` method is deprecated for better compatibility with scikit-learn, use `eval_metric` in constructor or`set_params` instead.\n",
      "\n",
      "`early_stopping_rounds` in `fit` method is deprecated for better compatibility with scikit-learn, use `early_stopping_rounds` in constructor or`set_params` instead.\n",
      "\n"
     ]
    },
    {
     "name": "stdout",
     "output_type": "stream",
     "text": [
      "SCORE ACCURACY :                                                                   \n",
      "0.8936197888438442                                                                 \n",
      " 89%|████████▉ | 89/100 [30:35<03:38, 19.89s/trial, best loss: -0.9193856092960739]"
     ]
    },
    {
     "name": "stderr",
     "output_type": "stream",
     "text": [
      "`eval_metric` in `fit` method is deprecated for better compatibility with scikit-learn, use `eval_metric` in constructor or`set_params` instead.\n",
      "\n",
      "`early_stopping_rounds` in `fit` method is deprecated for better compatibility with scikit-learn, use `early_stopping_rounds` in constructor or`set_params` instead.\n",
      "\n"
     ]
    },
    {
     "name": "stdout",
     "output_type": "stream",
     "text": [
      "SCORE ACCURACY :                                                                   \n",
      "0.9161120385023955                                                                 \n",
      " 90%|█████████ | 90/100 [30:52<03:10, 19.01s/trial, best loss: -0.9193856092960739]"
     ]
    },
    {
     "name": "stderr",
     "output_type": "stream",
     "text": [
      "`eval_metric` in `fit` method is deprecated for better compatibility with scikit-learn, use `eval_metric` in constructor or`set_params` instead.\n",
      "\n",
      "`early_stopping_rounds` in `fit` method is deprecated for better compatibility with scikit-learn, use `early_stopping_rounds` in constructor or`set_params` instead.\n",
      "\n"
     ]
    },
    {
     "name": "stdout",
     "output_type": "stream",
     "text": [
      "SCORE ACCURACY :                                                                   \n",
      "0.9165022654844235                                                                 \n",
      " 91%|█████████ | 91/100 [31:16<03:03, 20.35s/trial, best loss: -0.9193856092960739]"
     ]
    },
    {
     "name": "stderr",
     "output_type": "stream",
     "text": [
      "`eval_metric` in `fit` method is deprecated for better compatibility with scikit-learn, use `eval_metric` in constructor or`set_params` instead.\n",
      "\n",
      "`early_stopping_rounds` in `fit` method is deprecated for better compatibility with scikit-learn, use `early_stopping_rounds` in constructor or`set_params` instead.\n",
      "\n"
     ]
    },
    {
     "name": "stdout",
     "output_type": "stream",
     "text": [
      "SCORE ACCURACY :                                                                   \n",
      "0.9163613501853578                                                                 \n",
      " 92%|█████████▏| 92/100 [31:32<02:33, 19.14s/trial, best loss: -0.9193856092960739]"
     ]
    },
    {
     "name": "stderr",
     "output_type": "stream",
     "text": [
      "`eval_metric` in `fit` method is deprecated for better compatibility with scikit-learn, use `eval_metric` in constructor or`set_params` instead.\n",
      "\n",
      "`early_stopping_rounds` in `fit` method is deprecated for better compatibility with scikit-learn, use `early_stopping_rounds` in constructor or`set_params` instead.\n",
      "\n"
     ]
    },
    {
     "name": "stdout",
     "output_type": "stream",
     "text": [
      "SCORE ACCURACY :                                                                   \n",
      "0.9166540204218787                                                                 \n",
      " 93%|█████████▎| 93/100 [31:48<02:06, 18.05s/trial, best loss: -0.9193856092960739]"
     ]
    },
    {
     "name": "stderr",
     "output_type": "stream",
     "text": [
      "`eval_metric` in `fit` method is deprecated for better compatibility with scikit-learn, use `eval_metric` in constructor or`set_params` instead.\n",
      "\n",
      "`early_stopping_rounds` in `fit` method is deprecated for better compatibility with scikit-learn, use `early_stopping_rounds` in constructor or`set_params` instead.\n",
      "\n"
     ]
    },
    {
     "name": "stdout",
     "output_type": "stream",
     "text": [
      "SCORE ACCURACY :                                                                   \n",
      "0.9192121750818393                                                                 \n",
      " 94%|█████████▍| 94/100 [32:15<02:05, 20.87s/trial, best loss: -0.9193856092960739]"
     ]
    },
    {
     "name": "stderr",
     "output_type": "stream",
     "text": [
      "`eval_metric` in `fit` method is deprecated for better compatibility with scikit-learn, use `eval_metric` in constructor or`set_params` instead.\n",
      "\n",
      "`early_stopping_rounds` in `fit` method is deprecated for better compatibility with scikit-learn, use `early_stopping_rounds` in constructor or`set_params` instead.\n",
      "\n"
     ]
    },
    {
     "name": "stdout",
     "output_type": "stream",
     "text": [
      "SCORE ACCURACY :                                                                   \n",
      "0.9165998222299304                                                                 \n",
      " 95%|█████████▌| 95/100 [32:30<01:36, 19.23s/trial, best loss: -0.9193856092960739]"
     ]
    },
    {
     "name": "stderr",
     "output_type": "stream",
     "text": [
      "`eval_metric` in `fit` method is deprecated for better compatibility with scikit-learn, use `eval_metric` in constructor or`set_params` instead.\n",
      "\n",
      "`early_stopping_rounds` in `fit` method is deprecated for better compatibility with scikit-learn, use `early_stopping_rounds` in constructor or`set_params` instead.\n",
      "\n"
     ]
    },
    {
     "name": "stdout",
     "output_type": "stream",
     "text": [
      "SCORE ACCURACY :                                                                   \n",
      "0.9193530903809048                                                                 \n",
      " 96%|█████████▌| 96/100 [32:59<01:27, 21.90s/trial, best loss: -0.9193856092960739]"
     ]
    },
    {
     "name": "stderr",
     "output_type": "stream",
     "text": [
      "`eval_metric` in `fit` method is deprecated for better compatibility with scikit-learn, use `eval_metric` in constructor or`set_params` instead.\n",
      "\n",
      "`early_stopping_rounds` in `fit` method is deprecated for better compatibility with scikit-learn, use `early_stopping_rounds` in constructor or`set_params` instead.\n",
      "\n"
     ]
    },
    {
     "name": "stdout",
     "output_type": "stream",
     "text": [
      "SCORE ACCURACY :                                                                   \n",
      "0.9017820365512607                                                                 \n",
      " 97%|█████████▋| 97/100 [33:17<01:02, 20.98s/trial, best loss: -0.9193856092960739]"
     ]
    },
    {
     "name": "stderr",
     "output_type": "stream",
     "text": [
      "`eval_metric` in `fit` method is deprecated for better compatibility with scikit-learn, use `eval_metric` in constructor or`set_params` instead.\n",
      "\n",
      "`early_stopping_rounds` in `fit` method is deprecated for better compatibility with scikit-learn, use `early_stopping_rounds` in constructor or`set_params` instead.\n",
      "\n"
     ]
    },
    {
     "name": "stdout",
     "output_type": "stream",
     "text": [
      "SCORE ACCURACY :                                                                   \n",
      "0.8955926030307629                                                                 \n",
      " 98%|█████████▊| 98/100 [33:28<00:35, 17.82s/trial, best loss: -0.9193856092960739]"
     ]
    },
    {
     "name": "stderr",
     "output_type": "stream",
     "text": [
      "`eval_metric` in `fit` method is deprecated for better compatibility with scikit-learn, use `eval_metric` in constructor or`set_params` instead.\n",
      "\n",
      "`early_stopping_rounds` in `fit` method is deprecated for better compatibility with scikit-learn, use `early_stopping_rounds` in constructor or`set_params` instead.\n",
      "\n"
     ]
    },
    {
     "name": "stdout",
     "output_type": "stream",
     "text": [
      "SCORE ACCURACY :                                                                   \n",
      "0.9163830294621371                                                                 \n",
      " 99%|█████████▉| 99/100 [33:44<00:17, 17.46s/trial, best loss: -0.9193856092960739]"
     ]
    },
    {
     "name": "stderr",
     "output_type": "stream",
     "text": [
      "`eval_metric` in `fit` method is deprecated for better compatibility with scikit-learn, use `eval_metric` in constructor or`set_params` instead.\n",
      "\n",
      "`early_stopping_rounds` in `fit` method is deprecated for better compatibility with scikit-learn, use `early_stopping_rounds` in constructor or`set_params` instead.\n",
      "\n"
     ]
    },
    {
     "name": "stdout",
     "output_type": "stream",
     "text": [
      "SCORE ACCURACY :                                                                   \n",
      "0.8902595009430485                                                                 \n",
      "100%|██████████| 100/100 [33:54<00:00, 20.35s/trial, best loss: -0.9193856092960739]\n"
     ]
    }
   ],
   "source": [
    "# Recherche des Meilleurs Paramètres :\n",
    "\n",
    "best_hyperparams = fmin(fn = objective,\n",
    "                        space = space,\n",
    "                        algo = tpe.suggest,\n",
    "                        max_evals = 100,\n",
    "                        trials = trials)"
   ]
  },
  {
   "cell_type": "code",
   "execution_count": 143,
   "id": "305e2e32",
   "metadata": {},
   "outputs": [
    {
     "name": "stdout",
     "output_type": "stream",
     "text": [
      "Les Meilleurs Hyperparamètres sont :  \n",
      "\n",
      "{'colsample_bytree': 0.5038116488207807, 'gamma': 1.931186873293754, 'max_depth': 13.0, 'min_child_weight': 6.0, 'reg_alpha': 50.0, 'reg_lambda': 0.5099482433057193}\n"
     ]
    }
   ],
   "source": [
    "# Résultats :\n",
    "\n",
    "print(\"Les Meilleurs Hyperparamètres sont : \",\"\\n\")\n",
    "\n",
    "print(best_hyperparams)"
   ]
  }
 ],
 "metadata": {
  "kernelspec": {
   "display_name": "Python 3 (ipykernel)",
   "language": "python",
   "name": "python3"
  },
  "language_info": {
   "codemirror_mode": {
    "name": "ipython",
    "version": 3
   },
   "file_extension": ".py",
   "mimetype": "text/x-python",
   "name": "python",
   "nbconvert_exporter": "python",
   "pygments_lexer": "ipython3",
   "version": "3.9.12"
  },
  "vscode": {
   "interpreter": {
    "hash": "397704579725e15f5c7cb49fe5f0341eb7531c82d19f2c29d197e8b64ab5776b"
   }
  }
 },
 "nbformat": 4,
 "nbformat_minor": 5
}
